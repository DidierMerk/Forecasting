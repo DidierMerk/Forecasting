{
 "cells": [
  {
   "cell_type": "code",
   "execution_count": null,
   "id": "ed933db7-c4e4-4656-bac3-822929ddbfc4",
   "metadata": {
    "execution": {
     "iopub.execute_input": "2024-10-30T11:16:02.742525Z",
     "iopub.status.busy": "2024-10-30T11:16:02.741811Z",
     "iopub.status.idle": "2024-10-30T11:16:03.970725Z",
     "shell.execute_reply": "2024-10-30T11:16:03.969525Z",
     "shell.execute_reply.started": "2024-10-30T11:16:02.742456Z"
    }
   },
   "outputs": [],
   "source": [
    "import pandas as pd\n",
    "import numpy as np\n",
    "import matplotlib.pyplot as plt\n",
    "from sklearn.preprocessing import MinMaxScaler"
   ]
  },
  {
   "cell_type": "code",
   "execution_count": null,
   "id": "fdb6de93-6f5d-4c37-8412-14e7865f01c5",
   "metadata": {
    "execution": {
     "iopub.execute_input": "2024-10-30T11:16:03.973287Z",
     "iopub.status.busy": "2024-10-30T11:16:03.972520Z",
     "iopub.status.idle": "2024-10-30T11:16:03.978477Z",
     "shell.execute_reply": "2024-10-30T11:16:03.977419Z",
     "shell.execute_reply.started": "2024-10-30T11:16:03.973239Z"
    }
   },
   "outputs": [],
   "source": [
    "# Read the data\n",
    "def load_and_process_data(file_path):\n",
    "    # Read CSV\n",
    "    df = pd.read_csv(file_path)\n",
    "    \n",
    "    # Convert date column to datetime\n",
    "    df['date'] = pd.to_datetime(df['date'])\n",
    "    \n",
    "    return df"
   ]
  },
  {
   "cell_type": "code",
   "execution_count": null,
   "id": "5783dbf9-722a-4375-987d-86bb4db86c2f",
   "metadata": {
    "execution": {
     "iopub.execute_input": "2024-10-30T11:16:03.979719Z",
     "iopub.status.busy": "2024-10-30T11:16:03.979310Z",
     "iopub.status.idle": "2024-10-30T11:16:03.986066Z",
     "shell.execute_reply": "2024-10-30T11:16:03.985020Z",
     "shell.execute_reply.started": "2024-10-30T11:16:03.979683Z"
    }
   },
   "outputs": [],
   "source": [
    "def min_max_scale_timeseries(df):\n",
    "    # Create a copy of the original dataframe\n",
    "    df_scaled = df.copy()\n",
    "    \n",
    "    # Get all columns except 'date'\n",
    "    timeseries_columns = [col for col in df.columns if col != 'date']\n",
    "    \n",
    "    # Initialize MinMaxScaler\n",
    "    scaler = MinMaxScaler()\n",
    "    \n",
    "    # Scale each time series independently\n",
    "    for column in timeseries_columns:\n",
    "        # Reshape data for scaler\n",
    "        data = df[column].values.reshape(-1, 1)\n",
    "        # Scale the data\n",
    "        scaled_data = scaler.fit_transform(data)\n",
    "        # Update the scaled dataframe\n",
    "        df_scaled[column] = scaled_data\n",
    "    \n",
    "    return df_scaled"
   ]
  },
  {
   "cell_type": "code",
   "execution_count": null,
   "id": "deb24c4d-a509-467f-b9c7-9bdec17ea731",
   "metadata": {
    "execution": {
     "iopub.execute_input": "2024-10-30T11:16:03.987288Z",
     "iopub.status.busy": "2024-10-30T11:16:03.987002Z",
     "iopub.status.idle": "2024-10-30T11:16:03.991645Z",
     "shell.execute_reply": "2024-10-30T11:16:03.990818Z",
     "shell.execute_reply.started": "2024-10-30T11:16:03.987263Z"
    }
   },
   "outputs": [],
   "source": [
    "def save_scaled_data(df_scaled, output_file_path):\n",
    "    # Save to CSV\n",
    "    df_scaled.to_csv(output_file_path, index=False)\n",
    "    print(f\"Saved scaled data to: {output_file_path}\")"
   ]
  },
  {
   "cell_type": "code",
   "execution_count": null,
   "id": "f2193975-5bb5-42c9-8da3-6651c815ee2c",
   "metadata": {
    "execution": {
     "iopub.execute_input": "2024-10-30T11:16:03.993441Z",
     "iopub.status.busy": "2024-10-30T11:16:03.993118Z",
     "iopub.status.idle": "2024-10-30T11:16:04.000413Z",
     "shell.execute_reply": "2024-10-30T11:16:03.999513Z",
     "shell.execute_reply.started": "2024-10-30T11:16:03.993417Z"
    }
   },
   "outputs": [],
   "source": [
    "def plot_comparison(original_df, scaled_df, unique_id):\n",
    "    plt.figure(figsize=(15, 6))\n",
    "    \n",
    "    # Plot original data\n",
    "    plt.subplot(1, 2, 1)\n",
    "    plt.plot(original_df['date'], original_df[unique_id], label='Original')\n",
    "    plt.title(f'Original Time Series: {unique_id}')\n",
    "    plt.xlabel('Date')\n",
    "    plt.ylabel('Value')\n",
    "    plt.xticks(rotation=45)\n",
    "    plt.legend()\n",
    "    plt.grid(True)\n",
    "    \n",
    "    # Plot scaled data\n",
    "    plt.subplot(1, 2, 2)\n",
    "    plt.plot(scaled_df['date'], scaled_df[unique_id], label='Scaled', color='orange')\n",
    "    plt.title(f'Scaled Time Series: {unique_id}')\n",
    "    plt.xlabel('Date')\n",
    "    plt.ylabel('Normalized Value')\n",
    "    plt.xticks(rotation=45)\n",
    "    plt.legend()\n",
    "    plt.grid(True)\n",
    "    \n",
    "    plt.tight_layout()\n",
    "    plt.show()"
   ]
  },
  {
   "cell_type": "code",
   "execution_count": null,
   "id": "2cd49678-db56-4d2a-8bd1-68af41d89fcb",
   "metadata": {
    "execution": {
     "iopub.execute_input": "2024-10-30T11:16:04.001526Z",
     "iopub.status.busy": "2024-10-30T11:16:04.001222Z",
     "iopub.status.idle": "2024-10-30T11:16:04.005456Z",
     "shell.execute_reply": "2024-10-30T11:16:04.004641Z",
     "shell.execute_reply.started": "2024-10-30T11:16:04.001503Z"
    }
   },
   "outputs": [],
   "source": [
    "# Define input and output file paths\n",
    "input_file = 'data/eod_balances_2110_full.csv'  \n",
    "output_file = 'data/eod_balances_2110_norm.csv'"
   ]
  },
  {
   "cell_type": "code",
   "execution_count": null,
   "id": "8d869d32-28e6-47bb-9a90-f112bf8a7ad5",
   "metadata": {
    "execution": {
     "iopub.execute_input": "2024-10-30T11:16:04.006481Z",
     "iopub.status.busy": "2024-10-30T11:16:04.006181Z",
     "iopub.status.idle": "2024-10-30T11:16:04.295284Z",
     "shell.execute_reply": "2024-10-30T11:16:04.294094Z",
     "shell.execute_reply.started": "2024-10-30T11:16:04.006459Z"
    }
   },
   "outputs": [],
   "source": [
    "# Load and process data\n",
    "print(\"Loading data...\")\n",
    "df = load_and_process_data(input_file)\n",
    "\n",
    "# Scale the time series\n",
    "print(\"Scaling time series...\")\n",
    "df_scaled = min_max_scale_timeseries(df)"
   ]
  },
  {
   "cell_type": "code",
   "execution_count": null,
   "id": "af5c512b-46d7-4b42-8d63-bf4459b4a96a",
   "metadata": {
    "execution": {
     "iopub.execute_input": "2024-10-30T11:16:06.294950Z",
     "iopub.status.busy": "2024-10-30T11:16:06.294415Z",
     "iopub.status.idle": "2024-10-30T11:16:06.782419Z",
     "shell.execute_reply": "2024-10-30T11:16:06.780690Z",
     "shell.execute_reply.started": "2024-10-30T11:16:06.294904Z"
    }
   },
   "outputs": [],
   "source": [
    "# Save the scaled data\n",
    "save_scaled_data(df_scaled, output_file)"
   ]
  },
  {
   "cell_type": "code",
   "execution_count": null,
   "id": "332f23cf-a645-4202-8e29-c8956183e26a",
   "metadata": {
    "execution": {
     "iopub.execute_input": "2024-10-30T11:16:06.786687Z",
     "iopub.status.busy": "2024-10-30T11:16:06.785732Z",
     "iopub.status.idle": "2024-10-30T11:16:07.326920Z",
     "shell.execute_reply": "2024-10-30T11:16:07.325787Z",
     "shell.execute_reply.started": "2024-10-30T11:16:06.786618Z"
    }
   },
   "outputs": [],
   "source": [
    "# Plotting a specific time series and its scaled version\n",
    "unique_id = '2' \n",
    "plot_comparison(df, df_scaled, unique_id)"
   ]
  },
  {
   "cell_type": "code",
   "execution_count": null,
   "id": "16dac510-a568-425e-97e6-e67bf61009ef",
   "metadata": {},
   "outputs": [],
   "source": []
  },
  {
   "cell_type": "code",
   "execution_count": null,
   "id": "4a3e7c8e-19bc-43d0-aaf4-3a1ae719a194",
   "metadata": {},
   "outputs": [],
   "source": []
  }
 ],
 "metadata": {
  "kernelspec": {
   "display_name": "DAP Environment",
   "language": "python",
   "name": "dap-env"
  },
  "language_info": {
   "codemirror_mode": {
    "name": "ipython",
    "version": 3
   },
   "file_extension": ".py",
   "mimetype": "text/x-python",
   "name": "python",
   "nbconvert_exporter": "python",
   "pygments_lexer": "ipython3",
   "version": "3.10.14"
  }
 },
 "nbformat": 4,
 "nbformat_minor": 5
}
