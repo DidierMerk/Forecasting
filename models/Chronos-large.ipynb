{
 "cells": [
  {
   "cell_type": "markdown",
   "id": "34298caf-b555-49b2-9674-1ce175f5e9b3",
   "metadata": {},
   "source": [
    "# Timeseries Forecasting (Chronos-large model)\n",
    "\n",
    "## 1. Installing dependencies"
   ]
  },
  {
   "cell_type": "code",
   "execution_count": null,
   "id": "9be02da8-c0d8-4aa5-a522-88c20c550602",
   "metadata": {
    "execution": {
     "iopub.execute_input": "2024-10-30T12:59:30.171584Z",
     "iopub.status.busy": "2024-10-30T12:59:30.170904Z",
     "iopub.status.idle": "2024-10-30T12:59:30.176671Z",
     "shell.execute_reply": "2024-10-30T12:59:30.175586Z",
     "shell.execute_reply.started": "2024-10-30T12:59:30.171538Z"
    },
    "tags": []
   },
   "outputs": [],
   "source": [
    "# !pip install autogluon.timeseries "
   ]
  },
  {
   "cell_type": "code",
   "execution_count": null,
   "id": "7a1ef60b-97e2-40e2-9d6c-f4c8a676dd23",
   "metadata": {
    "execution": {
     "iopub.execute_input": "2024-10-30T12:59:30.188717Z",
     "iopub.status.busy": "2024-10-30T12:59:30.188172Z",
     "iopub.status.idle": "2024-10-30T12:59:32.766053Z",
     "shell.execute_reply": "2024-10-30T12:59:32.765290Z",
     "shell.execute_reply.started": "2024-10-30T12:59:30.188676Z"
    },
    "tags": []
   },
   "outputs": [],
   "source": [
    "import pandas as pd\n",
    "\n",
    "# Some functions for plotting and stuff\n",
    "import utils as ts_utils\n",
    "\n",
    "# Foundation models\n",
    "from autogluon.timeseries import TimeSeriesDataFrame, TimeSeriesPredictor"
   ]
  },
  {
   "cell_type": "markdown",
   "id": "ad6f8e6e-32d8-4d05-a08e-ea0527147074",
   "metadata": {},
   "source": [
    "## 2. Data Preparation"
   ]
  },
  {
   "cell_type": "code",
   "execution_count": null,
   "id": "add6acc7-0fa8-43c0-8a32-dad8fccd91ae",
   "metadata": {
    "execution": {
     "iopub.execute_input": "2024-10-30T12:59:32.767683Z",
     "iopub.status.busy": "2024-10-30T12:59:32.767141Z",
     "iopub.status.idle": "2024-10-30T12:59:32.861766Z",
     "shell.execute_reply": "2024-10-30T12:59:32.860752Z",
     "shell.execute_reply.started": "2024-10-30T12:59:32.767658Z"
    },
    "tags": []
   },
   "outputs": [],
   "source": [
    "# Size of the data to read\n",
    "data_size = 'norm'\n",
    "\n",
    "# Date of the data to read\n",
    "data_date = '2110' # '1806' = 18th of June\n",
    "\n",
    "# Read the data (takes around 2 minutes)\n",
    "dataset = pd.read_csv(f\"~/Thesis/data/eod_balances_{data_date}_{data_size}.csv\")\n",
    "\n",
    "dataset"
   ]
  },
  {
   "cell_type": "code",
   "execution_count": null,
   "id": "7b5806e6-7bd1-40b2-b8a4-462cf56e60e6",
   "metadata": {
    "execution": {
     "iopub.execute_input": "2024-10-30T12:59:32.862865Z",
     "iopub.status.busy": "2024-10-30T12:59:32.862651Z",
     "iopub.status.idle": "2024-10-30T12:59:32.867256Z",
     "shell.execute_reply": "2024-10-30T12:59:32.866253Z",
     "shell.execute_reply.started": "2024-10-30T12:59:32.862844Z"
    },
    "tags": []
   },
   "outputs": [],
   "source": [
    "# Create the timer\n",
    "timer = ts_utils.Timer()"
   ]
  },
  {
   "cell_type": "markdown",
   "id": "482501ea-e582-4e68-9496-2bd3dd97b62b",
   "metadata": {},
   "source": [
    "### 2.1 In-sample and Out-sample split"
   ]
  },
  {
   "cell_type": "code",
   "execution_count": null,
   "id": "f7f6d59e-6b84-4ef9-888c-d21885f5d4f3",
   "metadata": {
    "execution": {
     "iopub.execute_input": "2024-10-30T12:59:32.868993Z",
     "iopub.status.busy": "2024-10-30T12:59:32.868784Z",
     "iopub.status.idle": "2024-10-30T12:59:32.875964Z",
     "shell.execute_reply": "2024-10-30T12:59:32.874801Z",
     "shell.execute_reply.started": "2024-10-30T12:59:32.868972Z"
    },
    "tags": []
   },
   "outputs": [],
   "source": [
    "# Calculate total amount of timeseries\n",
    "num_timeseries = len(dataset.columns) - 1\n",
    "\n",
    "# Specify train test split percentage\n",
    "train_test_split = 0.8\n",
    "\n",
    "# Split into train and out of sample test data\n",
    "num_out_of_sample = int(train_test_split * num_timeseries)\n",
    "\n",
    "# Create in-sample dataframe\n",
    "in_sample_data = dataset.iloc[:, : num_out_of_sample + 1] # Training and testing\n",
    "\n",
    "# Create out-sample dataframe\n",
    "n = num_timeseries-num_out_of_sample\n",
    "columns_to_keep = dataset.columns[[0]].tolist() + dataset.columns[-n:].tolist()\n",
    "out_sample_data = dataset[columns_to_keep]"
   ]
  },
  {
   "cell_type": "markdown",
   "id": "2b5d652b-0658-48bb-b18f-0e8063c5c614",
   "metadata": {
    "execution": {
     "iopub.execute_input": "2024-07-02T11:29:41.908418Z",
     "iopub.status.busy": "2024-07-02T11:29:41.907853Z",
     "iopub.status.idle": "2024-07-02T11:29:41.912399Z",
     "shell.execute_reply": "2024-07-02T11:29:41.911460Z",
     "shell.execute_reply.started": "2024-07-02T11:29:41.908378Z"
    },
    "tags": []
   },
   "source": [
    "## 3. In-sample Analysis\n",
    "\n",
    "### 3.1 Train/Test splitting and plotting"
   ]
  },
  {
   "cell_type": "code",
   "execution_count": null,
   "id": "517dd6c2-ced4-4024-97ba-76a562b1aea6",
   "metadata": {
    "execution": {
     "iopub.execute_input": "2024-10-30T12:59:32.877208Z",
     "iopub.status.busy": "2024-10-30T12:59:32.876920Z",
     "iopub.status.idle": "2024-10-30T12:59:32.947631Z",
     "shell.execute_reply": "2024-10-30T12:59:32.946449Z",
     "shell.execute_reply.started": "2024-10-30T12:59:32.877177Z"
    }
   },
   "outputs": [],
   "source": [
    "# Change the data to the long format\n",
    "Y_df = in_sample_data.melt(id_vars=['date'], var_name='unique_id', value_name='y')\n",
    "Y_df = Y_df.rename(columns={'date':'ds'})\n",
    "\n",
    "# Convert date column to datetime type\n",
    "Y_df['ds'] = pd.to_datetime(Y_df['ds'])"
   ]
  },
  {
   "cell_type": "code",
   "execution_count": null,
   "id": "4f065720-838a-454a-82df-e71a23d685da",
   "metadata": {
    "execution": {
     "iopub.execute_input": "2024-10-30T12:59:32.948777Z",
     "iopub.status.busy": "2024-10-30T12:59:32.948555Z",
     "iopub.status.idle": "2024-10-30T12:59:32.963101Z",
     "shell.execute_reply": "2024-10-30T12:59:32.962144Z",
     "shell.execute_reply.started": "2024-10-30T12:59:32.948755Z"
    }
   },
   "outputs": [],
   "source": [
    "# Define the horizon (12 months of 30 days each)\n",
    "fh = 30\n",
    "horizon = 12 * fh\n",
    "\n",
    "# Identify the unique dates in the dataset\n",
    "unique_dates = Y_df['ds'].unique()\n",
    "\n",
    "# Convert to a list and then sort the dates\n",
    "unique_dates = sorted(list(unique_dates))\n",
    "\n",
    "# Determine the cutoff date (cutoff at 12 months before the last date in the dataset)\n",
    "cutoff_date = unique_dates[-(horizon + 1)]\n",
    "\n",
    "# Training data: all data up to the cutoff date\n",
    "Y_train_df = Y_df[Y_df['ds'] <= cutoff_date]"
   ]
  },
  {
   "cell_type": "code",
   "execution_count": null,
   "id": "6c9e788d-445d-4078-9ea8-d6df38ff2bd8",
   "metadata": {
    "execution": {
     "iopub.execute_input": "2024-10-30T12:59:32.964174Z",
     "iopub.status.busy": "2024-10-30T12:59:32.963956Z",
     "iopub.status.idle": "2024-10-30T12:59:33.025648Z",
     "shell.execute_reply": "2024-10-30T12:59:33.024678Z",
     "shell.execute_reply.started": "2024-10-30T12:59:32.964152Z"
    }
   },
   "outputs": [],
   "source": [
    "# Initialize lists to store the input and test sets\n",
    "input_dfs = []\n",
    "test_dfs = []\n",
    "\n",
    "# Loop to create the 6 input and test sets\n",
    "for i in range(6):\n",
    "    # Determine the start date of the test period\n",
    "    test_start_date = unique_dates[-(horizon - i * 2 * fh)]\n",
    "    test_end_date = unique_dates[-(horizon - (i * 2 * fh) - fh)]\n",
    "    \n",
    "    # Input data: all data up to the start of the current test period\n",
    "    input_df = Y_df[Y_df['ds'] <= test_start_date]\n",
    "    input_dfs.append(input_df)\n",
    "    \n",
    "    # Test data: the 30-day period following the start of the test period\n",
    "    test_df = Y_df[(Y_df['ds'] > test_start_date) & (Y_df['ds'] <= test_end_date)]\n",
    "    test_dfs.append(test_df)"
   ]
  },
  {
   "cell_type": "markdown",
   "id": "9a5205d0-8db3-45df-bc90-a42310a848f2",
   "metadata": {},
   "source": [
    "### 3.2 Rename columns for chronos specific data handling"
   ]
  },
  {
   "cell_type": "code",
   "execution_count": null,
   "id": "4a0bdb63-987c-4253-9108-f9a7fdf6e11a",
   "metadata": {
    "execution": {
     "iopub.execute_input": "2024-10-30T12:59:33.027180Z",
     "iopub.status.busy": "2024-10-30T12:59:33.026730Z",
     "iopub.status.idle": "2024-10-30T12:59:33.033326Z",
     "shell.execute_reply": "2024-10-30T12:59:33.032407Z",
     "shell.execute_reply.started": "2024-10-30T12:59:33.027140Z"
    }
   },
   "outputs": [],
   "source": [
    "# For the Chronos model we need to rename some columns\n",
    "Y_train_df_chronos = Y_train_df.rename(columns={\"ds\": \"timestamp\", \"unique_id\": \"item_id\", \"y\": \"target\"})"
   ]
  },
  {
   "cell_type": "code",
   "execution_count": null,
   "id": "5d1354a1-cf52-4290-9655-28f4ba5e11f7",
   "metadata": {
    "execution": {
     "iopub.execute_input": "2024-10-30T12:59:33.034810Z",
     "iopub.status.busy": "2024-10-30T12:59:33.034375Z",
     "iopub.status.idle": "2024-10-30T12:59:33.609263Z",
     "shell.execute_reply": "2024-10-30T12:59:33.608118Z",
     "shell.execute_reply.started": "2024-10-30T12:59:33.034771Z"
    }
   },
   "outputs": [],
   "source": [
    "# Define the 6 input periods\n",
    "Y_input_df_0 = TimeSeriesDataFrame(input_dfs[0].rename(columns={\"ds\": \"timestamp\", \"unique_id\": \"item_id\", \"y\": \"target\"}))\n",
    "Y_input_df_1 = TimeSeriesDataFrame(input_dfs[1].rename(columns={\"ds\": \"timestamp\", \"unique_id\": \"item_id\", \"y\": \"target\"}))\n",
    "Y_input_df_2 = TimeSeriesDataFrame(input_dfs[2].rename(columns={\"ds\": \"timestamp\", \"unique_id\": \"item_id\", \"y\": \"target\"}))\n",
    "Y_input_df_3 = TimeSeriesDataFrame(input_dfs[3].rename(columns={\"ds\": \"timestamp\", \"unique_id\": \"item_id\", \"y\": \"target\"}))\n",
    "Y_input_df_4 = TimeSeriesDataFrame(input_dfs[4].rename(columns={\"ds\": \"timestamp\", \"unique_id\": \"item_id\", \"y\": \"target\"}))\n",
    "Y_input_df_5 = TimeSeriesDataFrame(input_dfs[5].rename(columns={\"ds\": \"timestamp\", \"unique_id\": \"item_id\", \"y\": \"target\"}))\n",
    "\n",
    "# Define the 6 test periods\n",
    "Y_test_df_0 = TimeSeriesDataFrame(test_dfs[0].rename(columns={\"ds\": \"timestamp\", \"unique_id\": \"item_id\", \"y\": \"target\"}))\n",
    "Y_test_df_1 = TimeSeriesDataFrame(test_dfs[1].rename(columns={\"ds\": \"timestamp\", \"unique_id\": \"item_id\", \"y\": \"target\"}))\n",
    "Y_test_df_2 = TimeSeriesDataFrame(test_dfs[2].rename(columns={\"ds\": \"timestamp\", \"unique_id\": \"item_id\", \"y\": \"target\"}))\n",
    "Y_test_df_3 = TimeSeriesDataFrame(test_dfs[3].rename(columns={\"ds\": \"timestamp\", \"unique_id\": \"item_id\", \"y\": \"target\"}))\n",
    "Y_test_df_4 = TimeSeriesDataFrame(test_dfs[4].rename(columns={\"ds\": \"timestamp\", \"unique_id\": \"item_id\", \"y\": \"target\"}))\n",
    "Y_test_df_5 = TimeSeriesDataFrame(test_dfs[5].rename(columns={\"ds\": \"timestamp\", \"unique_id\": \"item_id\", \"y\": \"target\"}))"
   ]
  },
  {
   "cell_type": "code",
   "execution_count": null,
   "id": "41dec160-0108-4adf-b95a-5d97be2ae9d7",
   "metadata": {
    "execution": {
     "iopub.execute_input": "2024-10-30T12:59:33.611843Z",
     "iopub.status.busy": "2024-10-30T12:59:33.611607Z",
     "iopub.status.idle": "2024-10-30T12:59:34.151054Z",
     "shell.execute_reply": "2024-10-30T12:59:34.150247Z",
     "shell.execute_reply.started": "2024-10-30T12:59:33.611820Z"
    }
   },
   "outputs": [],
   "source": [
    "# Timeserie to plot\n",
    "unique_id = '6'\n",
    "\n",
    "# Plot the train and test dataframes\n",
    "ts_utils.plot_train_test_split(input_dfs[0], test_dfs[0], unique_id)"
   ]
  },
  {
   "cell_type": "markdown",
   "id": "06dd1578-b6f0-4dd7-8476-434b24b2256c",
   "metadata": {
    "execution": {
     "iopub.execute_input": "2024-07-02T11:31:27.905068Z",
     "iopub.status.busy": "2024-07-02T11:31:27.903883Z",
     "iopub.status.idle": "2024-07-02T11:31:27.919741Z",
     "shell.execute_reply": "2024-07-02T11:31:27.916428Z",
     "shell.execute_reply.started": "2024-07-02T11:31:27.905004Z"
    },
    "tags": []
   },
   "source": [
    "### 3.2 Training (in this case it means nothing)"
   ]
  },
  {
   "cell_type": "code",
   "execution_count": null,
   "id": "90530fc8-10c3-4f0f-8f6f-e1b9f54bc408",
   "metadata": {
    "execution": {
     "iopub.execute_input": "2024-10-30T12:59:34.152070Z",
     "iopub.status.busy": "2024-10-30T12:59:34.151846Z",
     "iopub.status.idle": "2024-10-30T12:59:36.454827Z",
     "shell.execute_reply": "2024-10-30T12:59:36.453843Z",
     "shell.execute_reply.started": "2024-10-30T12:59:34.152049Z"
    },
    "tags": []
   },
   "outputs": [],
   "source": [
    "# Set the horizon\n",
    "horizon = 30\n",
    "\n",
    "timer.record_timestamp(\"start_train\")\n",
    "\n",
    "# Initialize the chronos model\n",
    "predictor_insample = TimeSeriesPredictor(\n",
    "    prediction_length=horizon,\n",
    "    path=\"chronos-model-runs/chronos-large-model\",\n",
    "    target=\"target\",\n",
    "    eval_metric=\"MASE\")\n",
    "\n",
    "# Fit the model\n",
    "predictor_insample.fit(Y_train_df_chronos,\n",
    "              presets='chronos_large',\n",
    "              time_limit=60,\n",
    "             )\n",
    "\n",
    "timer.record_timestamp(\"end_train\")"
   ]
  },
  {
   "cell_type": "markdown",
   "id": "73b517b2-e558-457b-b67f-37288ed21cf1",
   "metadata": {},
   "source": [
    "### 3.3 Predicting (in this case it means nothing)"
   ]
  },
  {
   "cell_type": "code",
   "execution_count": null,
   "id": "e8509d3f-72fe-4864-ba4b-bed1939540b1",
   "metadata": {
    "execution": {
     "iopub.execute_input": "2024-10-30T12:59:36.456499Z",
     "iopub.status.busy": "2024-10-30T12:59:36.455813Z",
     "iopub.status.idle": "2024-10-30T12:59:36.462712Z",
     "shell.execute_reply": "2024-10-30T12:59:36.461716Z",
     "shell.execute_reply.started": "2024-10-30T12:59:36.456463Z"
    }
   },
   "outputs": [],
   "source": [
    "# Function that renames the columns correctly\n",
    "def rename_confidence_intervals(df):\n",
    "    # Remove the 0.5 column if it exists\n",
    "    if '0.5' in df.columns:\n",
    "        df = df.drop(columns=['0.5'])\n",
    "    \n",
    "    # Create mapping dictionary\n",
    "    mapping = {\n",
    "        '0.1': 'Chronos-large-lo-90',\n",
    "        '0.2': 'Chronos-large-lo-80',\n",
    "        '0.3': 'Chronos-large-lo-70',\n",
    "        '0.4': 'Chronos-large-lo-60',\n",
    "        '0.6': 'Chronos-large-hi-60',\n",
    "        '0.7': 'Chronos-large-hi-70',\n",
    "        '0.8': 'Chronos-large-hi-80',\n",
    "        '0.9': 'Chronos-large-hi-90'\n",
    "    }\n",
    "    \n",
    "    # Rename columns\n",
    "    return df.rename(columns=mapping)"
   ]
  },
  {
   "cell_type": "code",
   "execution_count": null,
   "id": "66060dc5-e049-4c58-a49e-25b038baa359",
   "metadata": {
    "execution": {
     "iopub.execute_input": "2024-10-30T12:59:36.463834Z",
     "iopub.status.busy": "2024-10-30T12:59:36.463601Z",
     "iopub.status.idle": "2024-10-30T13:00:55.818277Z",
     "shell.execute_reply": "2024-10-30T13:00:55.817179Z",
     "shell.execute_reply.started": "2024-10-30T12:59:36.463813Z"
    }
   },
   "outputs": [],
   "source": [
    "timer.record_timestamp(\"start_inference\")\n",
    "\n",
    "# Make the predictions\n",
    "chronos_model_insample_preds_0 = predictor_insample.predict(Y_input_df_0)\n",
    "\n",
    "timer.record_timestamp(\"end_inference\")\n",
    "\n",
    "# Change predictions df to correct format\n",
    "chronos_model_insample_preds_0 = rename_confidence_intervals(\n",
    "    chronos_model_insample_preds_0.reset_index().rename(columns={'item_id': 'unique_id', 'timestamp': 'ds', 'mean': 'Chronos-large'})\n",
    ")\n",
    "\n",
    "# Save the predictions of the first period\n",
    "chronos_model_insample_preds_0.to_csv(f'~/Thesis/predictions/Chronos-large/insample/period01/model_preds_{data_date}_{data_size}.csv', index=False)"
   ]
  },
  {
   "cell_type": "code",
   "execution_count": null,
   "id": "7b4dd763-6628-476f-97db-44119fabc1d0",
   "metadata": {
    "execution": {
     "iopub.execute_input": "2024-10-30T13:00:55.819712Z",
     "iopub.status.busy": "2024-10-30T13:00:55.819335Z",
     "iopub.status.idle": "2024-10-30T13:02:05.519837Z",
     "shell.execute_reply": "2024-10-30T13:02:05.518443Z",
     "shell.execute_reply.started": "2024-10-30T13:00:55.819683Z"
    }
   },
   "outputs": [],
   "source": [
    "# Make the predictions for the second period\n",
    "chronos_model_insample_preds_1 = predictor_insample.predict(Y_input_df_1)\n",
    "\n",
    "# Change predictions df to correct format\n",
    "chronos_model_insample_preds_1 = rename_confidence_intervals(\n",
    "    chronos_model_insample_preds_1.reset_index().rename(columns={'item_id': 'unique_id', 'timestamp': 'ds', 'mean': 'Chronos-large'})\n",
    ")\n",
    "\n",
    "# Save the predictions of the second period\n",
    "chronos_model_insample_preds_1.to_csv(f'~/Thesis/predictions/Chronos-large/insample/period02/model_preds_{data_date}_{data_size}.csv', index=False)"
   ]
  },
  {
   "cell_type": "code",
   "execution_count": null,
   "id": "aa210e84-c3d7-49c0-9404-241d65885a7b",
   "metadata": {
    "execution": {
     "iopub.execute_input": "2024-10-30T13:02:05.521223Z",
     "iopub.status.busy": "2024-10-30T13:02:05.520989Z",
     "iopub.status.idle": "2024-10-30T13:03:15.377960Z",
     "shell.execute_reply": "2024-10-30T13:03:15.376736Z",
     "shell.execute_reply.started": "2024-10-30T13:02:05.521198Z"
    }
   },
   "outputs": [],
   "source": [
    "# Make the predictions for the third period\n",
    "chronos_model_insample_preds_2 = predictor_insample.predict(Y_input_df_2)\n",
    "\n",
    "# Change predictions df to correct format\n",
    "chronos_model_insample_preds_2 = rename_confidence_intervals(\n",
    "    chronos_model_insample_preds_2.reset_index().rename(columns={'item_id': 'unique_id', 'timestamp': 'ds', 'mean': 'Chronos-large'})\n",
    ")\n",
    "\n",
    "# Save the predictions of the third period\n",
    "chronos_model_insample_preds_2.to_csv(f'~/Thesis/predictions/Chronos-large/insample/period03/model_preds_{data_date}_{data_size}.csv', index=False)"
   ]
  },
  {
   "cell_type": "code",
   "execution_count": null,
   "id": "804e506c-0577-4cb9-ab51-3de29e055641",
   "metadata": {
    "execution": {
     "iopub.execute_input": "2024-10-30T13:03:15.379304Z",
     "iopub.status.busy": "2024-10-30T13:03:15.379003Z",
     "iopub.status.idle": "2024-10-30T13:04:25.807460Z",
     "shell.execute_reply": "2024-10-30T13:04:25.806155Z",
     "shell.execute_reply.started": "2024-10-30T13:03:15.379278Z"
    }
   },
   "outputs": [],
   "source": [
    "# Make the predictions for the fourth period\n",
    "chronos_model_insample_preds_3 = predictor_insample.predict(Y_input_df_3)\n",
    "\n",
    "# Change predictions df to correct format\n",
    "chronos_model_insample_preds_3 = rename_confidence_intervals(\n",
    "    chronos_model_insample_preds_3.reset_index().rename(columns={'item_id': 'unique_id', 'timestamp': 'ds', 'mean': 'Chronos-large'})\n",
    ")\n",
    "\n",
    "# Save the predictions of the fourth period\n",
    "chronos_model_insample_preds_3.to_csv(f'~/Thesis/predictions/Chronos-large/insample/period04/model_preds_{data_date}_{data_size}.csv', index=False)"
   ]
  },
  {
   "cell_type": "code",
   "execution_count": null,
   "id": "8beda650-20e2-4756-8d1b-e90905cf8ec9",
   "metadata": {
    "execution": {
     "iopub.execute_input": "2024-10-30T13:04:25.808830Z",
     "iopub.status.busy": "2024-10-30T13:04:25.808582Z",
     "iopub.status.idle": "2024-10-30T13:05:39.046351Z",
     "shell.execute_reply": "2024-10-30T13:05:39.044837Z",
     "shell.execute_reply.started": "2024-10-30T13:04:25.808805Z"
    }
   },
   "outputs": [],
   "source": [
    "# Make the predictions for the fifth period\n",
    "chronos_model_insample_preds_4 = predictor_insample.predict(Y_input_df_4)\n",
    "\n",
    "# Change predictions df to correct format\n",
    "chronos_model_insample_preds_4 = rename_confidence_intervals(\n",
    "    chronos_model_insample_preds_4.reset_index().rename(columns={'item_id': 'unique_id', 'timestamp': 'ds', 'mean': 'Chronos-large'})\n",
    ")\n",
    "\n",
    "# Save the predictions of the fifth period\n",
    "chronos_model_insample_preds_4.to_csv(f'~/Thesis/predictions/Chronos-large/insample/period05/model_preds_{data_date}_{data_size}.csv', index=False)"
   ]
  },
  {
   "cell_type": "code",
   "execution_count": null,
   "id": "05ec1652-844d-4a91-9003-e807719ef31b",
   "metadata": {
    "execution": {
     "iopub.execute_input": "2024-10-30T13:05:39.047767Z",
     "iopub.status.busy": "2024-10-30T13:05:39.047512Z",
     "iopub.status.idle": "2024-10-30T13:06:55.590981Z",
     "shell.execute_reply": "2024-10-30T13:06:55.589579Z",
     "shell.execute_reply.started": "2024-10-30T13:05:39.047740Z"
    }
   },
   "outputs": [],
   "source": [
    "# Make the predictions for the sixth period\n",
    "chronos_model_insample_preds_5 = predictor_insample.predict(Y_input_df_5)\n",
    "\n",
    "# Change predictions df to correct format\n",
    "chronos_model_insample_preds_5 = rename_confidence_intervals(\n",
    "    chronos_model_insample_preds_5.reset_index().rename(columns={'item_id': 'unique_id', 'timestamp': 'ds', 'mean': 'Chronos-large'})\n",
    ")\n",
    "\n",
    "# Save the predictions of the second period\n",
    "chronos_model_insample_preds_5.to_csv(f'~/Thesis/predictions/Chronos-large/insample/period06/model_preds_{data_date}_{data_size}.csv', index=False)"
   ]
  },
  {
   "cell_type": "markdown",
   "id": "fa7d5ac1-4e9d-4bd0-86eb-d096e01f8861",
   "metadata": {
    "execution": {
     "iopub.execute_input": "2024-07-02T12:29:25.127313Z",
     "iopub.status.busy": "2024-07-02T12:29:25.126418Z",
     "iopub.status.idle": "2024-07-02T12:29:25.133009Z",
     "shell.execute_reply": "2024-07-02T12:29:25.131580Z",
     "shell.execute_reply.started": "2024-07-02T12:29:25.127243Z"
    },
    "tags": []
   },
   "source": [
    "## 4. Out-of-sample Analysis\n",
    "\n",
    "### 4.1 Train/Test splitting and plotting"
   ]
  },
  {
   "cell_type": "code",
   "execution_count": null,
   "id": "84fb5298-9aa6-4404-9fac-78c57f419d7e",
   "metadata": {
    "execution": {
     "iopub.execute_input": "2024-10-30T13:06:55.594511Z",
     "iopub.status.busy": "2024-10-30T13:06:55.594242Z",
     "iopub.status.idle": "2024-10-30T13:06:55.622338Z",
     "shell.execute_reply": "2024-10-30T13:06:55.621267Z",
     "shell.execute_reply.started": "2024-10-30T13:06:55.594485Z"
    }
   },
   "outputs": [],
   "source": [
    "# Change the data to the long format\n",
    "Y_df = out_sample_data.melt(id_vars=['date'], var_name='unique_id', value_name='y')\n",
    "Y_df = Y_df.rename(columns={'date':'ds'})\n",
    "\n",
    "# Convert date column to datetime type\n",
    "Y_df['ds'] = pd.to_datetime(Y_df['ds'])"
   ]
  },
  {
   "cell_type": "code",
   "execution_count": null,
   "id": "5573da63-cf2b-41fa-bba4-60f101a1193b",
   "metadata": {
    "execution": {
     "iopub.execute_input": "2024-10-30T13:06:55.623548Z",
     "iopub.status.busy": "2024-10-30T13:06:55.623233Z",
     "iopub.status.idle": "2024-10-30T13:06:55.633336Z",
     "shell.execute_reply": "2024-10-30T13:06:55.632257Z",
     "shell.execute_reply.started": "2024-10-30T13:06:55.623525Z"
    }
   },
   "outputs": [],
   "source": [
    "# Define the horizon (12 months of 30 days each)\n",
    "fh = 30\n",
    "horizon = 12 * fh\n",
    "\n",
    "# Identify the unique dates in the dataset\n",
    "unique_dates = Y_df['ds'].unique()\n",
    "\n",
    "# Convert to a list and then sort the dates\n",
    "unique_dates = sorted(list(unique_dates))\n",
    "\n",
    "# Determine the cutoff date (cutoff at 12 months before the last date in the dataset)\n",
    "cutoff_date = unique_dates[-(horizon + 1)]\n",
    "\n",
    "# Training data: all data up to the cutoff date\n",
    "Y_train_df = Y_df[Y_df['ds'] <= cutoff_date]"
   ]
  },
  {
   "cell_type": "code",
   "execution_count": null,
   "id": "61539efb-4e40-4e3d-8987-fdd856f753f5",
   "metadata": {
    "execution": {
     "iopub.execute_input": "2024-10-30T13:06:55.634590Z",
     "iopub.status.busy": "2024-10-30T13:06:55.634228Z",
     "iopub.status.idle": "2024-10-30T13:06:55.663951Z",
     "shell.execute_reply": "2024-10-30T13:06:55.663235Z",
     "shell.execute_reply.started": "2024-10-30T13:06:55.634567Z"
    }
   },
   "outputs": [],
   "source": [
    "# Initialize lists to store the input and test sets\n",
    "input_dfs = []\n",
    "test_dfs = []\n",
    "\n",
    "# Loop to create the 6 input and test sets\n",
    "for i in range(6):\n",
    "    # Determine the start date of the test period\n",
    "    test_start_date = unique_dates[-(horizon - i * 2 * fh)]\n",
    "    test_end_date = unique_dates[-(horizon - (i * 2 * fh) - fh)]\n",
    "    \n",
    "    # Input data: all data up to the start of the current test period\n",
    "    input_df = Y_df[Y_df['ds'] <= test_start_date]\n",
    "    input_dfs.append(input_df)\n",
    "    \n",
    "    # Test data: the 30-day period following the start of the test period\n",
    "    test_df = Y_df[(Y_df['ds'] > test_start_date) & (Y_df['ds'] <= test_end_date)]\n",
    "    test_dfs.append(test_df)"
   ]
  },
  {
   "cell_type": "markdown",
   "id": "665bba13-006a-42e9-9832-509afe5ceb4f",
   "metadata": {
    "execution": {
     "iopub.execute_input": "2024-10-22T12:49:47.709722Z",
     "iopub.status.busy": "2024-10-22T12:49:47.708952Z",
     "iopub.status.idle": "2024-10-22T12:49:47.714818Z",
     "shell.execute_reply": "2024-10-22T12:49:47.713919Z",
     "shell.execute_reply.started": "2024-10-22T12:49:47.709671Z"
    }
   },
   "source": [
    "### 4.1.1 Rename columns for chronos specific data handling"
   ]
  },
  {
   "cell_type": "code",
   "execution_count": null,
   "id": "499fd81c-0305-4b13-ac3d-7473427d3476",
   "metadata": {
    "execution": {
     "iopub.execute_input": "2024-10-30T13:06:55.665002Z",
     "iopub.status.busy": "2024-10-30T13:06:55.664767Z",
     "iopub.status.idle": "2024-10-30T13:06:55.669578Z",
     "shell.execute_reply": "2024-10-30T13:06:55.669031Z",
     "shell.execute_reply.started": "2024-10-30T13:06:55.664979Z"
    }
   },
   "outputs": [],
   "source": [
    "# For the Chronos model we need to rename some columns\n",
    "Y_train_df_chronos = Y_train_df.rename(columns={\"ds\": \"timestamp\", \"unique_id\": \"item_id\", \"y\": \"target\"})"
   ]
  },
  {
   "cell_type": "code",
   "execution_count": null,
   "id": "0cf81fd3-846f-456c-8957-fccaeb9f85ed",
   "metadata": {
    "execution": {
     "iopub.execute_input": "2024-10-30T13:06:55.670649Z",
     "iopub.status.busy": "2024-10-30T13:06:55.670299Z",
     "iopub.status.idle": "2024-10-30T13:06:55.808440Z",
     "shell.execute_reply": "2024-10-30T13:06:55.807356Z",
     "shell.execute_reply.started": "2024-10-30T13:06:55.670624Z"
    }
   },
   "outputs": [],
   "source": [
    "# Define the 6 input periods\n",
    "Y_input_df_0 = TimeSeriesDataFrame(input_dfs[0].rename(columns={\"ds\": \"timestamp\", \"unique_id\": \"item_id\", \"y\": \"target\"}))\n",
    "Y_input_df_1 = TimeSeriesDataFrame(input_dfs[1].rename(columns={\"ds\": \"timestamp\", \"unique_id\": \"item_id\", \"y\": \"target\"}))\n",
    "Y_input_df_2 = TimeSeriesDataFrame(input_dfs[2].rename(columns={\"ds\": \"timestamp\", \"unique_id\": \"item_id\", \"y\": \"target\"}))\n",
    "Y_input_df_3 = TimeSeriesDataFrame(input_dfs[3].rename(columns={\"ds\": \"timestamp\", \"unique_id\": \"item_id\", \"y\": \"target\"}))\n",
    "Y_input_df_4 = TimeSeriesDataFrame(input_dfs[4].rename(columns={\"ds\": \"timestamp\", \"unique_id\": \"item_id\", \"y\": \"target\"}))\n",
    "Y_input_df_5 = TimeSeriesDataFrame(input_dfs[5].rename(columns={\"ds\": \"timestamp\", \"unique_id\": \"item_id\", \"y\": \"target\"}))\n",
    "\n",
    "# Define the 6 test periods\n",
    "Y_test_df_0 = TimeSeriesDataFrame(test_dfs[0].rename(columns={\"ds\": \"timestamp\", \"unique_id\": \"item_id\", \"y\": \"target\"}))\n",
    "Y_test_df_1 = TimeSeriesDataFrame(test_dfs[1].rename(columns={\"ds\": \"timestamp\", \"unique_id\": \"item_id\", \"y\": \"target\"}))\n",
    "Y_test_df_2 = TimeSeriesDataFrame(test_dfs[2].rename(columns={\"ds\": \"timestamp\", \"unique_id\": \"item_id\", \"y\": \"target\"}))\n",
    "Y_test_df_3 = TimeSeriesDataFrame(test_dfs[3].rename(columns={\"ds\": \"timestamp\", \"unique_id\": \"item_id\", \"y\": \"target\"}))\n",
    "Y_test_df_4 = TimeSeriesDataFrame(test_dfs[4].rename(columns={\"ds\": \"timestamp\", \"unique_id\": \"item_id\", \"y\": \"target\"}))\n",
    "Y_test_df_5 = TimeSeriesDataFrame(test_dfs[5].rename(columns={\"ds\": \"timestamp\", \"unique_id\": \"item_id\", \"y\": \"target\"}))"
   ]
  },
  {
   "cell_type": "markdown",
   "id": "d2e1ef80-95a3-494d-9e8a-09d4c1585afa",
   "metadata": {},
   "source": [
    "### 4.2 Training and predicting"
   ]
  },
  {
   "cell_type": "code",
   "execution_count": null,
   "id": "f55ed07d-37a7-458c-8e18-e0728ef27f6d",
   "metadata": {
    "execution": {
     "iopub.execute_input": "2024-10-30T13:06:55.809616Z",
     "iopub.status.busy": "2024-10-30T13:06:55.809374Z",
     "iopub.status.idle": "2024-10-30T13:07:32.826156Z",
     "shell.execute_reply": "2024-10-30T13:07:32.824988Z",
     "shell.execute_reply.started": "2024-10-30T13:06:55.809593Z"
    },
    "tags": []
   },
   "outputs": [],
   "source": [
    "# Make the predictions for the first period\n",
    "chronos_model_outsample_preds_0 = predictor_insample.predict(Y_input_df_0)\n",
    "\n",
    "# Change predictions df to correct format\n",
    "chronos_model_outsample_preds_0 = rename_confidence_intervals(\n",
    "    chronos_model_outsample_preds_0.reset_index().rename(columns={'item_id': 'unique_id', 'timestamp': 'ds', 'mean': 'Chronos-large'})\n",
    ")\n",
    "\n",
    "# Save the predictions of the second period\n",
    "chronos_model_outsample_preds_0.to_csv(f'~/Thesis/predictions/Chronos-large/outsample/period01/model_preds_{data_date}_{data_size}.csv', index=False)"
   ]
  },
  {
   "cell_type": "code",
   "execution_count": null,
   "id": "00746c97-e185-49d9-bbac-6b5b92d09a60",
   "metadata": {
    "execution": {
     "iopub.execute_input": "2024-10-30T13:07:32.827577Z",
     "iopub.status.busy": "2024-10-30T13:07:32.827310Z",
     "iopub.status.idle": "2024-10-30T13:08:06.034208Z",
     "shell.execute_reply": "2024-10-30T13:08:06.032784Z",
     "shell.execute_reply.started": "2024-10-30T13:07:32.827551Z"
    }
   },
   "outputs": [],
   "source": [
    "# Make the predictions for the first period\n",
    "chronos_model_outsample_preds_1 = predictor_insample.predict(Y_input_df_1)\n",
    "\n",
    "# Change predictions df to correct format\n",
    "chronos_model_outsample_preds_1 = rename_confidence_intervals(\n",
    "    chronos_model_outsample_preds_1.reset_index().rename(columns={'item_id': 'unique_id', 'timestamp': 'ds', 'mean': 'Chronos-large'})\n",
    ")\n",
    "\n",
    "# Save the predictions of the second period\n",
    "chronos_model_outsample_preds_1.to_csv(f'~/Thesis/predictions/Chronos-large/outsample/period02/model_preds_{data_date}_{data_size}.csv', index=False)"
   ]
  },
  {
   "cell_type": "code",
   "execution_count": null,
   "id": "154afa4a-c0b9-4cf5-908a-af6ae0cbfe6a",
   "metadata": {
    "execution": {
     "iopub.execute_input": "2024-10-30T13:08:06.035530Z",
     "iopub.status.busy": "2024-10-30T13:08:06.035283Z",
     "iopub.status.idle": "2024-10-30T13:08:43.431243Z",
     "shell.execute_reply": "2024-10-30T13:08:43.429690Z",
     "shell.execute_reply.started": "2024-10-30T13:08:06.035504Z"
    }
   },
   "outputs": [],
   "source": [
    "# Make the predictions for the first period\n",
    "chronos_model_outsample_preds_2 = predictor_insample.predict(Y_input_df_2)\n",
    "\n",
    "# Change predictions df to correct format\n",
    "chronos_model_outsample_preds_2 = rename_confidence_intervals(\n",
    "    chronos_model_outsample_preds_2.reset_index().rename(columns={'item_id': 'unique_id', 'timestamp': 'ds', 'mean': 'Chronos-large'})\n",
    ")\n",
    "\n",
    "# Save the predictions of the second period\n",
    "chronos_model_outsample_preds_2.to_csv(f'~/Thesis/predictions/Chronos-large/outsample/period03/model_preds_{data_date}_{data_size}.csv', index=False)"
   ]
  },
  {
   "cell_type": "code",
   "execution_count": null,
   "id": "89606210-2d3d-4f26-9853-5a67b74172f5",
   "metadata": {
    "execution": {
     "iopub.execute_input": "2024-10-30T13:08:43.432783Z",
     "iopub.status.busy": "2024-10-30T13:08:43.432431Z",
     "iopub.status.idle": "2024-10-30T13:09:19.216983Z",
     "shell.execute_reply": "2024-10-30T13:09:19.215795Z",
     "shell.execute_reply.started": "2024-10-30T13:08:43.432755Z"
    }
   },
   "outputs": [],
   "source": [
    "# Make the predictions for the first period\n",
    "chronos_model_outsample_preds_3 = predictor_insample.predict(Y_input_df_3)\n",
    "\n",
    "# Change predictions df to correct format\n",
    "chronos_model_outsample_preds_3 = rename_confidence_intervals(\n",
    "    chronos_model_outsample_preds_3.reset_index().rename(columns={'item_id': 'unique_id', 'timestamp': 'ds', 'mean': 'Chronos-large'})\n",
    ")\n",
    "\n",
    "# Save the predictions of the second period\n",
    "chronos_model_outsample_preds_3.to_csv(f'~/Thesis/predictions/Chronos-large/outsample/period04/model_preds_{data_date}_{data_size}.csv', index=False)"
   ]
  },
  {
   "cell_type": "code",
   "execution_count": null,
   "id": "ce4eaaee-307c-42f9-ba6b-edc2bbb74485",
   "metadata": {
    "execution": {
     "iopub.execute_input": "2024-10-30T13:09:19.218307Z",
     "iopub.status.busy": "2024-10-30T13:09:19.217977Z",
     "iopub.status.idle": "2024-10-30T13:09:52.025861Z",
     "shell.execute_reply": "2024-10-30T13:09:52.024762Z",
     "shell.execute_reply.started": "2024-10-30T13:09:19.218283Z"
    }
   },
   "outputs": [],
   "source": [
    "# Make the predictions for the first period\n",
    "chronos_model_outsample_preds_4 = predictor_insample.predict(Y_input_df_4)\n",
    "\n",
    "# Change predictions df to correct format\n",
    "chronos_model_outsample_preds_4 = rename_confidence_intervals(\n",
    "    chronos_model_outsample_preds_4.reset_index().rename(columns={'item_id': 'unique_id', 'timestamp': 'ds', 'mean': 'Chronos-large'})\n",
    ")\n",
    "\n",
    "# Save the predictions of the second period\n",
    "chronos_model_outsample_preds_4.to_csv(f'~/Thesis/predictions/Chronos-large/outsample/period05/model_preds_{data_date}_{data_size}.csv', index=False)"
   ]
  },
  {
   "cell_type": "code",
   "execution_count": null,
   "id": "b2908a50-f4ad-4034-80c6-ff7b9bf3328a",
   "metadata": {
    "execution": {
     "iopub.execute_input": "2024-10-30T13:09:52.027074Z",
     "iopub.status.busy": "2024-10-30T13:09:52.026830Z",
     "iopub.status.idle": "2024-10-30T13:10:27.540911Z",
     "shell.execute_reply": "2024-10-30T13:10:27.539484Z",
     "shell.execute_reply.started": "2024-10-30T13:09:52.027048Z"
    }
   },
   "outputs": [],
   "source": [
    "# Make the predictions for the first period\n",
    "chronos_model_outsample_preds_5 = predictor_insample.predict(Y_input_df_5)\n",
    "\n",
    "# Change predictions df to correct format\n",
    "chronos_model_outsample_preds_5 = rename_confidence_intervals(\n",
    "    chronos_model_outsample_preds_5.reset_index().rename(columns={'item_id': 'unique_id', 'timestamp': 'ds', 'mean': 'Chronos-large'})\n",
    ")\n",
    "\n",
    "# Save the predictions of the second period\n",
    "chronos_model_outsample_preds_5.to_csv(f'~/Thesis/predictions/Chronos-large/outsample/period06/model_preds_{data_date}_{data_size}.csv', index=False)"
   ]
  },
  {
   "cell_type": "markdown",
   "id": "883cb14a-6e14-4eaf-902f-dcc2a04b8fa6",
   "metadata": {},
   "source": [
    "### Model statistics"
   ]
  },
  {
   "cell_type": "code",
   "execution_count": null,
   "id": "698d162a-8bda-45c7-ac0d-a21c26a3a58e",
   "metadata": {
    "execution": {
     "iopub.execute_input": "2024-10-30T13:10:27.542514Z",
     "iopub.status.busy": "2024-10-30T13:10:27.542111Z",
     "iopub.status.idle": "2024-10-30T13:10:27.547998Z",
     "shell.execute_reply": "2024-10-30T13:10:27.547108Z",
     "shell.execute_reply.started": "2024-10-30T13:10:27.542487Z"
    },
    "tags": []
   },
   "outputs": [],
   "source": [
    "train_time = timer.elapsed_time(\"start_train\", \"end_train\")\n",
    "inference_time = timer.elapsed_time(\"start_inference\", \"end_inference\")\n",
    "\n",
    "model_name = \"Chronos-large\"\n",
    "num_timeseries = 277\n",
    "\n",
    "file_path = \"model_statistics.txt\"\n",
    "\n",
    "ts_utils.write_statistics(model_name, num_timeseries, train_time, inference_time, file_path)"
   ]
  },
  {
   "cell_type": "code",
   "execution_count": null,
   "id": "0cd64bfa-7a31-4ccd-a6a8-52477f104134",
   "metadata": {},
   "outputs": [],
   "source": []
  },
  {
   "cell_type": "code",
   "execution_count": null,
   "id": "2b3e97e7-8601-4f5d-9f16-868a70cfe41f",
   "metadata": {},
   "outputs": [],
   "source": []
  }
 ],
 "metadata": {
  "kernelspec": {
   "display_name": "DAP Environment",
   "language": "python",
   "name": "dap-env"
  },
  "language_info": {
   "codemirror_mode": {
    "name": "ipython",
    "version": 3
   },
   "file_extension": ".py",
   "mimetype": "text/x-python",
   "name": "python",
   "nbconvert_exporter": "python",
   "pygments_lexer": "ipython3",
   "version": "3.10.14"
  }
 },
 "nbformat": 4,
 "nbformat_minor": 5
}
