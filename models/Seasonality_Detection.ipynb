{
 "cells": [
  {
   "cell_type": "code",
   "execution_count": null,
   "id": "76a7002e-61c8-436d-9985-14f7afcc0640",
   "metadata": {
    "execution": {
     "iopub.execute_input": "2024-10-23T07:24:47.813691Z",
     "iopub.status.busy": "2024-10-23T07:24:47.813233Z",
     "iopub.status.idle": "2024-10-23T07:24:47.821283Z",
     "shell.execute_reply": "2024-10-23T07:24:47.817725Z",
     "shell.execute_reply.started": "2024-10-23T07:24:47.813659Z"
    }
   },
   "outputs": [],
   "source": [
    "# !pip install datasetsforecast\n",
    "# !pip install statsforecast"
   ]
  },
  {
   "cell_type": "code",
   "execution_count": null,
   "id": "5ea9de58-fa44-48d9-aa89-02348e27e35a",
   "metadata": {
    "execution": {
     "iopub.execute_input": "2024-10-23T07:24:47.822531Z",
     "iopub.status.busy": "2024-10-23T07:24:47.822195Z",
     "iopub.status.idle": "2024-10-23T07:24:50.893388Z",
     "shell.execute_reply": "2024-10-23T07:24:50.892489Z",
     "shell.execute_reply.started": "2024-10-23T07:24:47.822501Z"
    }
   },
   "outputs": [],
   "source": [
    "# Basics\n",
    "import pandas as pd\n",
    "import numpy as np\n",
    "\n",
    "# Some functions for plotting and stuff\n",
    "import utils as ts_utils\n",
    "import matplotlib.pyplot as plt\n",
    "\n",
    "# Statistical models\n",
    "from statsforecast import StatsForecast\n",
    "from statsforecast.models import MSTL, AutoARIMA\n",
    "from statsforecast.arima import arima_string"
   ]
  },
  {
   "cell_type": "markdown",
   "id": "deea0486-582e-4955-9777-7377d3a5be49",
   "metadata": {},
   "source": [
    "## 2. Data Preparation"
   ]
  },
  {
   "cell_type": "code",
   "execution_count": null,
   "id": "e702f00b-b42b-4257-bfa3-9960a3683b1a",
   "metadata": {
    "execution": {
     "iopub.execute_input": "2024-10-23T07:24:50.894690Z",
     "iopub.status.busy": "2024-10-23T07:24:50.894188Z",
     "iopub.status.idle": "2024-10-23T07:24:50.991846Z",
     "shell.execute_reply": "2024-10-23T07:24:50.991013Z",
     "shell.execute_reply.started": "2024-10-23T07:24:50.894662Z"
    }
   },
   "outputs": [],
   "source": [
    "# Size of the data to read\n",
    "data_size = 'full'\n",
    "\n",
    "# Date of the data to read\n",
    "data_date = '2110' # '1806' = 18th of June\n",
    "\n",
    "# Read the data (takes around 2 minutes)\n",
    "dataset = pd.read_csv(f\"~/Thesis/data/eod_balances_{data_date}_{data_size}.csv\")\n",
    "\n",
    "dataset"
   ]
  },
  {
   "cell_type": "markdown",
   "id": "4e59e272-6013-427a-bfd9-5dcb35556098",
   "metadata": {
    "execution": {
     "iopub.execute_input": "2024-10-21T12:42:46.641289Z",
     "iopub.status.busy": "2024-10-21T12:42:46.640890Z",
     "iopub.status.idle": "2024-10-21T12:42:46.645146Z",
     "shell.execute_reply": "2024-10-21T12:42:46.644198Z",
     "shell.execute_reply.started": "2024-10-21T12:42:46.641261Z"
    }
   },
   "source": [
    "### 2.1 Pivot Data"
   ]
  },
  {
   "cell_type": "code",
   "execution_count": null,
   "id": "bdb678c5-eaaa-4a72-a26e-284804cb725f",
   "metadata": {
    "execution": {
     "iopub.execute_input": "2024-10-23T07:24:50.993087Z",
     "iopub.status.busy": "2024-10-23T07:24:50.992670Z",
     "iopub.status.idle": "2024-10-23T07:24:51.082016Z",
     "shell.execute_reply": "2024-10-23T07:24:51.080989Z",
     "shell.execute_reply.started": "2024-10-23T07:24:50.993061Z"
    }
   },
   "outputs": [],
   "source": [
    "# Change the data to the long format\n",
    "Y_df = dataset.melt(id_vars=['date'], var_name='unique_id', value_name='y')\n",
    "Y_df = Y_df.rename(columns={'date':'ds'})\n",
    "\n",
    "# Convert date column to datetime type\n",
    "Y_df['ds'] = pd.to_datetime(Y_df['ds'])"
   ]
  },
  {
   "cell_type": "markdown",
   "id": "198b5b1d-f0af-49a4-b4e2-a984543d7470",
   "metadata": {},
   "source": [
    "### 2.2 Train/Test splitting"
   ]
  },
  {
   "cell_type": "code",
   "execution_count": null,
   "id": "9de91678-5229-4df0-985d-ff852b2b13bf",
   "metadata": {
    "execution": {
     "iopub.execute_input": "2024-10-23T07:24:51.083432Z",
     "iopub.status.busy": "2024-10-23T07:24:51.082936Z",
     "iopub.status.idle": "2024-10-23T07:24:51.108255Z",
     "shell.execute_reply": "2024-10-23T07:24:51.107038Z",
     "shell.execute_reply.started": "2024-10-23T07:24:51.083337Z"
    }
   },
   "outputs": [],
   "source": [
    "# Define the horizon (12 months of 30 days each)\n",
    "fh = 30\n",
    "horizon = 12 * fh\n",
    "\n",
    "# Identify the unique dates in the dataset\n",
    "unique_dates = Y_df['ds'].unique()\n",
    "\n",
    "# Convert to a list and then sort the dates\n",
    "unique_dates = sorted(list(unique_dates))\n",
    "\n",
    "# Determine the cutoff date (cutoff at 12 months before the last date in the dataset)\n",
    "cutoff_date = unique_dates[-(horizon + 1)]\n",
    "\n",
    "# Training data: all data up to the cutoff date\n",
    "Y_train_df = Y_df[Y_df['ds'] <= cutoff_date]\n",
    "\n",
    "# Get a 'to be forecasted' time period (the test / 'ground truth' data)\n",
    "Y_test_df = Y_df[Y_df.ds > Y_df.ds.unique()[0 - horizon - 1]]\n",
    "\n",
    "Y_train_df"
   ]
  },
  {
   "cell_type": "markdown",
   "id": "710b5512-6fe7-4ae7-a4e8-17111ccd5ea8",
   "metadata": {
    "execution": {
     "iopub.execute_input": "2024-10-21T12:43:36.638663Z",
     "iopub.status.busy": "2024-10-21T12:43:36.638057Z",
     "iopub.status.idle": "2024-10-21T12:43:36.642612Z",
     "shell.execute_reply": "2024-10-21T12:43:36.641591Z",
     "shell.execute_reply.started": "2024-10-21T12:43:36.638622Z"
    }
   },
   "source": [
    "## 3. Seasonality detection"
   ]
  },
  {
   "cell_type": "code",
   "execution_count": null,
   "id": "c47e63ac-5952-4e6e-9f68-d3af5ce06dfb",
   "metadata": {
    "execution": {
     "iopub.execute_input": "2024-10-23T07:24:51.128554Z",
     "iopub.status.busy": "2024-10-23T07:24:51.128191Z",
     "iopub.status.idle": "2024-10-23T07:24:51.137591Z",
     "shell.execute_reply": "2024-10-23T07:24:51.136429Z",
     "shell.execute_reply.started": "2024-10-23T07:24:51.128529Z"
    }
   },
   "outputs": [],
   "source": [
    "# The mapping between fits and unique_id is not 1-to-1, find out the correct mapping\n",
    "def match_fitted_models_to_timeseries(Y_train_df, fitted_models):\n",
    "    # Create a dictionary to store the results\n",
    "    model_to_unique_id = {}\n",
    "    \n",
    "    # Group the Y_train_df by unique_id\n",
    "    grouped = Y_train_df.groupby('unique_id')\n",
    "    \n",
    "    for i, model in enumerate(fitted_models):\n",
    "        model_data = model['data'].values\n",
    "        \n",
    "        for unique_id, group in grouped:\n",
    "            # Sort the group by 'ds' to ensure alignment\n",
    "            group_sorted = group.sort_values('ds')\n",
    "            group_data = group_sorted['y'].values\n",
    "            \n",
    "            # Check if the lengths match\n",
    "            if len(model_data) == len(group_data):\n",
    "                # Compare the data\n",
    "                if np.allclose(model_data, group_data, rtol=1e-5, atol=1e-8):\n",
    "                    model_to_unique_id[i] = unique_id\n",
    "                    break\n",
    "    \n",
    "    # Create a DataFrame from the dictionary\n",
    "    result_df = pd.DataFrame.from_dict(model_to_unique_id, orient='index', columns=['unique_id'])\n",
    "    result_df.index.name = 'model_index'\n",
    "    \n",
    "    return result_df\n",
    "\n",
    "def add_median_remainder(result_df, fitted_models, name):\n",
    "    # Create a dictionary to store the median remainder for each model\n",
    "    median_remainders = {}\n",
    "    \n",
    "    for i, model in enumerate(fitted_models):\n",
    "        if 'remainder' in model.columns:\n",
    "            median_remainders[i] = model['remainder'].median()\n",
    "        else:\n",
    "            median_remainders[i] = None \n",
    "    \n",
    "    # Create a new DataFrame with the median remainders\n",
    "    median_df = pd.DataFrame.from_dict(median_remainders, orient='index', columns=[name])\n",
    "    median_df.index.name = 'model_index'\n",
    "    \n",
    "    # Merge the median remainders with the original result DataFrame\n",
    "    result_with_median = result_df.merge(median_df, on='model_index', how='left')\n",
    "    \n",
    "    return result_with_median"
   ]
  },
  {
   "cell_type": "markdown",
   "id": "35c619c3-bd3a-4fce-b200-76b1eb7085ca",
   "metadata": {},
   "source": [
    "### 3.1.1 Seasonality = []"
   ]
  },
  {
   "cell_type": "code",
   "execution_count": null,
   "id": "2872175b-cd4d-4f43-8ceb-762f30757852",
   "metadata": {
    "execution": {
     "iopub.execute_input": "2024-10-23T07:24:51.138567Z",
     "iopub.status.busy": "2024-10-23T07:24:51.138335Z",
     "iopub.status.idle": "2024-10-23T07:25:27.754023Z",
     "shell.execute_reply": "2024-10-23T07:25:27.752762Z",
     "shell.execute_reply.started": "2024-10-23T07:24:51.138544Z"
    }
   },
   "outputs": [],
   "source": [
    "# Initialize a model\n",
    "mstl_0 = [AutoARIMA(season_length=1)]\n",
    "\n",
    "# Prepare the fit\n",
    "sf_0 = StatsForecast(models=mstl_0, freq='D', n_jobs=5)\n",
    "\n",
    "# Fit the model\n",
    "sf_0.fit(df=Y_train_df)"
   ]
  },
  {
   "cell_type": "code",
   "execution_count": null,
   "id": "f3d8c128-b021-4876-8d6c-276eb40218c3",
   "metadata": {
    "execution": {
     "iopub.execute_input": "2024-10-23T07:25:27.758079Z",
     "iopub.status.busy": "2024-10-23T07:25:27.757210Z",
     "iopub.status.idle": "2024-10-23T07:25:27.806335Z",
     "shell.execute_reply": "2024-10-23T07:25:27.805252Z",
     "shell.execute_reply.started": "2024-10-23T07:25:27.758011Z"
    }
   },
   "outputs": [],
   "source": [
    "# Create a dictionary to store median residuals\n",
    "median_residuals = {}\n",
    "\n",
    "n = len(set(Y_train_df['unique_id']))\n",
    "\n",
    "# Calculate median residuals for each timeseries\n",
    "for i in range(n):\n",
    "    residuals = sf_0.fitted_[i, 0].model_['residuals']\n",
    "    median_residuals[i] = np.median(residuals)\n",
    "\n",
    "# Create a new DataFrame from the median_residuals dictionary\n",
    "residuals_df = pd.DataFrame.from_dict(median_residuals, orient='index', columns=['[]'])\n",
    "residuals_df.index.name = 'model_index'"
   ]
  },
  {
   "cell_type": "markdown",
   "id": "7770e3c2-d306-445c-8813-40ee4e80e05a",
   "metadata": {},
   "source": [
    "### 3.1.2 Seasonality = [7]"
   ]
  },
  {
   "cell_type": "code",
   "execution_count": null,
   "id": "3f52ec4f-7797-42d4-a807-e599e9f21768",
   "metadata": {
    "execution": {
     "iopub.execute_input": "2024-10-23T07:25:27.807547Z",
     "iopub.status.busy": "2024-10-23T07:25:27.807285Z",
     "iopub.status.idle": "2024-10-23T07:25:44.152218Z",
     "shell.execute_reply": "2024-10-23T07:25:44.150932Z",
     "shell.execute_reply.started": "2024-10-23T07:25:27.807514Z"
    }
   },
   "outputs": [],
   "source": [
    "# Initialize a model\n",
    "mstl_7 = [MSTL(season_length=[7], # seasonalities of the time series \n",
    "    trend_forecaster=AutoARIMA(max_p=2, max_q=2)\n",
    ")]\n",
    "\n",
    "sf_7 = StatsForecast(models=mstl_7, freq='D', n_jobs=5)\n",
    "\n",
    "sf_7.fit(df=Y_train_df)"
   ]
  },
  {
   "cell_type": "code",
   "execution_count": null,
   "id": "adada347-eda6-4fbe-a36b-f51f1637d642",
   "metadata": {
    "execution": {
     "iopub.execute_input": "2024-10-23T07:25:44.154221Z",
     "iopub.status.busy": "2024-10-23T07:25:44.153636Z",
     "iopub.status.idle": "2024-10-23T07:25:59.214200Z",
     "shell.execute_reply": "2024-10-23T07:25:59.212830Z",
     "shell.execute_reply.started": "2024-10-23T07:25:44.154174Z"
    }
   },
   "outputs": [],
   "source": [
    "# Retrieve the mapping\n",
    "seasonality_remainders = match_fitted_models_to_timeseries(Y_train_df, [sf_7.fitted_[i,0].model_ for i in range(n)])"
   ]
  },
  {
   "cell_type": "code",
   "execution_count": null,
   "id": "ea18a557-12cc-4ba9-9ec0-c8bc5d3b25a4",
   "metadata": {
    "execution": {
     "iopub.execute_input": "2024-10-23T07:25:59.215772Z",
     "iopub.status.busy": "2024-10-23T07:25:59.215371Z",
     "iopub.status.idle": "2024-10-23T07:25:59.222133Z",
     "shell.execute_reply": "2024-10-23T07:25:59.221348Z",
     "shell.execute_reply.started": "2024-10-23T07:25:59.215744Z"
    }
   },
   "outputs": [],
   "source": [
    "# Add the remainders from seasonality = []\n",
    "seasonality_remainders = seasonality_remainders.join(residuals_df['[]'], how='left')"
   ]
  },
  {
   "cell_type": "code",
   "execution_count": null,
   "id": "6efcb13f-f2ef-439f-b5b7-647d8e224456",
   "metadata": {
    "execution": {
     "iopub.execute_input": "2024-10-23T07:25:59.223628Z",
     "iopub.status.busy": "2024-10-23T07:25:59.223169Z",
     "iopub.status.idle": "2024-10-23T07:25:59.275685Z",
     "shell.execute_reply": "2024-10-23T07:25:59.274567Z",
     "shell.execute_reply.started": "2024-10-23T07:25:59.223591Z"
    }
   },
   "outputs": [],
   "source": [
    "# Add the remainders from seasonality = [7]\n",
    "fitted_models = [sf_7.fitted_[i,0].model_ for i in range(n)]\n",
    "seasonality_remainders = add_median_remainder(seasonality_remainders, fitted_models, '[7]')"
   ]
  },
  {
   "cell_type": "markdown",
   "id": "b6b40f41-7f40-4fb7-9f22-fe875fa5dfe5",
   "metadata": {},
   "source": [
    "### 3.1.3 Seasonality = [30]"
   ]
  },
  {
   "cell_type": "code",
   "execution_count": null,
   "id": "90de7bb6-10ba-4a67-b7e1-24547297b7b9",
   "metadata": {
    "execution": {
     "iopub.execute_input": "2024-10-23T07:25:59.276691Z",
     "iopub.status.busy": "2024-10-23T07:25:59.276469Z",
     "iopub.status.idle": "2024-10-23T07:26:18.445534Z",
     "shell.execute_reply": "2024-10-23T07:26:18.443847Z",
     "shell.execute_reply.started": "2024-10-23T07:25:59.276669Z"
    }
   },
   "outputs": [],
   "source": [
    "# Initialize a model\n",
    "mstl_30 = [MSTL(season_length=[30], # seasonalities of the time series \n",
    "    trend_forecaster=AutoARIMA(max_p=2, max_q=2)\n",
    ")]\n",
    "\n",
    "sf_30 = StatsForecast(models=mstl_30, freq='D', n_jobs=5)\n",
    "\n",
    "sf_30.fit(df=Y_train_df)\n",
    "\n",
    "# Add the remainders\n",
    "fitted_models = [sf_30.fitted_[i,0].model_ for i in range(n)]\n",
    "seasonality_remainders = add_median_remainder(seasonality_remainders, fitted_models, '[30]')"
   ]
  },
  {
   "cell_type": "markdown",
   "id": "3f8c0732-8390-44c1-ad90-22d25c348086",
   "metadata": {},
   "source": [
    "### 3.1.4 Seasonality = [365]"
   ]
  },
  {
   "cell_type": "code",
   "execution_count": null,
   "id": "7ad9074b-c8af-4585-89e8-902d417862a1",
   "metadata": {
    "execution": {
     "iopub.execute_input": "2024-10-23T07:26:18.447537Z",
     "iopub.status.busy": "2024-10-23T07:26:18.447009Z",
     "iopub.status.idle": "2024-10-23T07:26:49.627477Z",
     "shell.execute_reply": "2024-10-23T07:26:49.626170Z",
     "shell.execute_reply.started": "2024-10-23T07:26:18.447491Z"
    }
   },
   "outputs": [],
   "source": [
    "# Initialize a model\n",
    "mstl_365 = [MSTL(season_length=[365], # seasonalities of the time series \n",
    "    trend_forecaster=AutoARIMA(max_p=2, max_q=2)\n",
    ")]\n",
    "\n",
    "sf_365 = StatsForecast(models=mstl_365, freq='D', n_jobs=5)\n",
    "\n",
    "sf_365.fit(df=Y_train_df)\n",
    "\n",
    "# Add the remainders\n",
    "fitted_models = [sf_365.fitted_[i,0].model_ for i in range(n)]\n",
    "seasonality_remainders = add_median_remainder(seasonality_remainders, fitted_models, '[365]')"
   ]
  },
  {
   "cell_type": "markdown",
   "id": "fe99f093-b20b-40ca-a6c1-2ad8d39c9383",
   "metadata": {},
   "source": [
    "### 3.1.5 Seasonality = [7, 30]"
   ]
  },
  {
   "cell_type": "code",
   "execution_count": null,
   "id": "fa25b258-9685-46b8-a572-3b9316e4b80c",
   "metadata": {
    "execution": {
     "iopub.execute_input": "2024-10-23T07:26:49.629238Z",
     "iopub.status.busy": "2024-10-23T07:26:49.628844Z",
     "iopub.status.idle": "2024-10-23T07:27:08.945342Z",
     "shell.execute_reply": "2024-10-23T07:27:08.944135Z",
     "shell.execute_reply.started": "2024-10-23T07:26:49.629211Z"
    }
   },
   "outputs": [],
   "source": [
    "# Initialize a model\n",
    "mstl_7_30 = [MSTL(season_length=[7,30], # seasonalities of the time series \n",
    "    trend_forecaster=AutoARIMA(max_p=2, max_q=2)\n",
    ")]\n",
    "\n",
    "sf_7_30 = StatsForecast(models=mstl_7_30, freq='D', n_jobs=5)\n",
    "\n",
    "sf_7_30.fit(df=Y_train_df)\n",
    "\n",
    "# Add the remainders\n",
    "fitted_models = [sf_7_30.fitted_[i,0].model_ for i in range(n)]\n",
    "seasonality_remainders = add_median_remainder(seasonality_remainders, fitted_models, '[7, 30]')"
   ]
  },
  {
   "cell_type": "markdown",
   "id": "0e7f867c-e8fb-4fe0-8023-f9e52795bda2",
   "metadata": {},
   "source": [
    "### 3.1.6 Seasonality = [7, 365]"
   ]
  },
  {
   "cell_type": "code",
   "execution_count": null,
   "id": "47c0bdf4-62ff-4100-877b-434f8c6e3519",
   "metadata": {
    "execution": {
     "iopub.execute_input": "2024-10-23T07:27:08.952718Z",
     "iopub.status.busy": "2024-10-23T07:27:08.951653Z",
     "iopub.status.idle": "2024-10-23T07:27:55.548339Z",
     "shell.execute_reply": "2024-10-23T07:27:55.547331Z",
     "shell.execute_reply.started": "2024-10-23T07:27:08.952657Z"
    }
   },
   "outputs": [],
   "source": [
    "# Initialize a model\n",
    "mstl_7_365 = [MSTL(season_length=[7,365], # seasonalities of the time series \n",
    "    trend_forecaster=AutoARIMA(max_p=2, max_q=2)\n",
    ")]\n",
    "\n",
    "sf_7_365 = StatsForecast(models=mstl_7_365, freq='D', n_jobs=5)\n",
    "\n",
    "sf_7_365.fit(df=Y_train_df)\n",
    "\n",
    "# Add the remainders\n",
    "fitted_models = [sf_7_365.fitted_[i,0].model_ for i in range(n)]\n",
    "seasonality_remainders = add_median_remainder(seasonality_remainders, fitted_models, '[7, 365]')"
   ]
  },
  {
   "cell_type": "markdown",
   "id": "9d9ec3cd-0cb0-4329-9f1a-c20e50b5395a",
   "metadata": {},
   "source": [
    "### 3.1.7 Seasonality = [30, 365]"
   ]
  },
  {
   "cell_type": "code",
   "execution_count": null,
   "id": "0730c755-73e2-46fe-b0d6-e0c7c9a46426",
   "metadata": {
    "execution": {
     "iopub.execute_input": "2024-10-23T07:27:55.550189Z",
     "iopub.status.busy": "2024-10-23T07:27:55.549661Z",
     "iopub.status.idle": "2024-10-23T07:28:44.510091Z",
     "shell.execute_reply": "2024-10-23T07:28:44.509394Z",
     "shell.execute_reply.started": "2024-10-23T07:27:55.550142Z"
    }
   },
   "outputs": [],
   "source": [
    "# Initialize a model\n",
    "mstl_30_365 = [MSTL(season_length=[30,365], # seasonalities of the time series \n",
    "    trend_forecaster=AutoARIMA(max_p=2, max_q=2)\n",
    ")]\n",
    "\n",
    "sf_30_365 = StatsForecast(models=mstl_30_365, freq='D', n_jobs=5)\n",
    "\n",
    "sf_30_365.fit(df=Y_train_df)\n",
    "\n",
    "# Add the remainders\n",
    "fitted_models = [sf_30_365.fitted_[i,0].model_ for i in range(n)]\n",
    "seasonality_remainders = add_median_remainder(seasonality_remainders, fitted_models, '[30, 365]')"
   ]
  },
  {
   "cell_type": "markdown",
   "id": "48a0eb6c-3f4f-4be3-8e04-0fb280e3df60",
   "metadata": {},
   "source": [
    "### 3.1.8 Seasonality = [7, 30, 365]"
   ]
  },
  {
   "cell_type": "code",
   "execution_count": null,
   "id": "e9d97897-1d79-483a-88e2-bf698b41abf7",
   "metadata": {
    "execution": {
     "iopub.execute_input": "2024-10-23T07:28:44.511128Z",
     "iopub.status.busy": "2024-10-23T07:28:44.510883Z",
     "iopub.status.idle": "2024-10-23T07:29:33.105921Z",
     "shell.execute_reply": "2024-10-23T07:29:33.104687Z",
     "shell.execute_reply.started": "2024-10-23T07:28:44.511102Z"
    }
   },
   "outputs": [],
   "source": [
    "# Initialize a model\n",
    "mstl_7_30_365 = [MSTL(season_length=[7,30,365], # seasonalities of the time series \n",
    "    trend_forecaster=AutoARIMA(max_p=2, max_q=2)\n",
    ")]\n",
    "\n",
    "sf_7_30_365 = StatsForecast(models=mstl_7_30_365, freq='D', n_jobs=5)\n",
    "\n",
    "sf_7_30_365.fit(df=Y_train_df)\n",
    "\n",
    "# Add the remainders\n",
    "fitted_models = [sf_7_30_365.fitted_[i,0].model_ for i in range(n)]\n",
    "seasonality_remainders = add_median_remainder(seasonality_remainders, fitted_models, '[7, 30, 365]')"
   ]
  },
  {
   "cell_type": "markdown",
   "id": "52268a6d-885a-4414-9063-26de0ae7526b",
   "metadata": {},
   "source": [
    "### 3.2 Find the best fits (lowest remainders)"
   ]
  },
  {
   "cell_type": "code",
   "execution_count": null,
   "id": "ba8a7afe-7cb7-433d-8aed-3011822a9624",
   "metadata": {
    "execution": {
     "iopub.execute_input": "2024-10-23T07:29:33.107446Z",
     "iopub.status.busy": "2024-10-23T07:29:33.107030Z",
     "iopub.status.idle": "2024-10-23T07:29:33.114936Z",
     "shell.execute_reply": "2024-10-23T07:29:33.113908Z",
     "shell.execute_reply.started": "2024-10-23T07:29:33.107418Z"
    }
   },
   "outputs": [],
   "source": [
    "# Create a copy of the dataframe excluding the 'unique_id' column\n",
    "df_abs = seasonality_remainders.drop('unique_id', axis=1).abs()\n",
    "\n",
    "# Find the column name with the minimum absolute value for each row\n",
    "best_fit = df_abs.idxmin(axis=1)\n",
    "\n",
    "# Add the 'best_fit' column to the original dataframe\n",
    "seasonality_remainders['best_fit'] = best_fit\n",
    "\n",
    "seasonality_remainders"
   ]
  },
  {
   "cell_type": "markdown",
   "id": "b9447dd9-e917-48a8-9e9f-8fd7d2a87323",
   "metadata": {},
   "source": [
    "### 3.3 Save the best fits"
   ]
  },
  {
   "cell_type": "code",
   "execution_count": null,
   "id": "0f6c55cc-2a6c-407d-870a-fe9d0bc8fce5",
   "metadata": {
    "execution": {
     "iopub.execute_input": "2024-10-23T07:29:33.136536Z",
     "iopub.status.busy": "2024-10-23T07:29:33.136203Z",
     "iopub.status.idle": "2024-10-23T07:29:33.145306Z",
     "shell.execute_reply": "2024-10-23T07:29:33.144374Z",
     "shell.execute_reply.started": "2024-10-23T07:29:33.136513Z"
    }
   },
   "outputs": [],
   "source": [
    "# Create a new dataframe with 'unique_id' as index and 'best_fit' as the only column\n",
    "best_fits_df = seasonality_remainders[['unique_id', 'best_fit']].set_index('unique_id')\n",
    "best_fits_df.index = best_fits_df.index.astype(int)\n",
    "best_fits_df = best_fits_df.sort_index()\n",
    "\n",
    "# Save the new dataframe as a CSV file\n",
    "best_fits_df.to_csv(f'best_fits_{data_date}_{data_size}.csv')"
   ]
  },
  {
   "cell_type": "code",
   "execution_count": null,
   "id": "9b3a2956-dc28-4b23-8ffe-d4706d0fc668",
   "metadata": {
    "execution": {
     "iopub.execute_input": "2024-10-23T07:29:33.146944Z",
     "iopub.status.busy": "2024-10-23T07:29:33.146573Z",
     "iopub.status.idle": "2024-10-23T07:29:33.159983Z",
     "shell.execute_reply": "2024-10-23T07:29:33.158820Z",
     "shell.execute_reply.started": "2024-10-23T07:29:33.146921Z"
    }
   },
   "outputs": [],
   "source": [
    "best_fits_df"
   ]
  },
  {
   "cell_type": "code",
   "execution_count": null,
   "id": "5cf2b73b-e6e2-474c-9df7-af9c99876b88",
   "metadata": {},
   "outputs": [],
   "source": []
  },
  {
   "cell_type": "code",
   "execution_count": null,
   "id": "55f625a4-8592-4c42-9f51-12cd8438ffef",
   "metadata": {},
   "outputs": [],
   "source": []
  }
 ],
 "metadata": {
  "kernelspec": {
   "display_name": "DAP Environment",
   "language": "python",
   "name": "dap-env"
  },
  "language_info": {
   "codemirror_mode": {
    "name": "ipython",
    "version": 3
   },
   "file_extension": ".py",
   "mimetype": "text/x-python",
   "name": "python",
   "nbconvert_exporter": "python",
   "pygments_lexer": "ipython3",
   "version": "3.10.14"
  }
 },
 "nbformat": 4,
 "nbformat_minor": 5
}
