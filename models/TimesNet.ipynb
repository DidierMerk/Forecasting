{
 "cells": [
  {
   "cell_type": "markdown",
   "id": "34298caf-b555-49b2-9674-1ce175f5e9b3",
   "metadata": {},
   "source": [
    "# Timeseries Forecasting (TimesNetmodel)\n",
    "\n",
    "## 1. Installing dependencies"
   ]
  },
  {
   "cell_type": "code",
   "execution_count": null,
   "id": "c02fc9db-8a73-4868-b1a8-8793bf2bd84b",
   "metadata": {
    "execution": {
     "iopub.execute_input": "2024-10-30T14:14:23.431892Z",
     "iopub.status.busy": "2024-10-30T14:14:23.431081Z",
     "iopub.status.idle": "2024-10-30T14:14:23.438946Z",
     "shell.execute_reply": "2024-10-30T14:14:23.436900Z",
     "shell.execute_reply.started": "2024-10-30T14:14:23.431827Z"
    },
    "tags": []
   },
   "outputs": [],
   "source": [
    "# pip install neuralforecast "
   ]
  },
  {
   "cell_type": "code",
   "execution_count": null,
   "id": "9939773b-4b5f-48b1-b327-b56afdf80589",
   "metadata": {
    "execution": {
     "iopub.execute_input": "2024-10-30T14:14:23.537386Z",
     "iopub.status.busy": "2024-10-30T14:14:23.536607Z",
     "iopub.status.idle": "2024-10-30T14:14:23.543525Z",
     "shell.execute_reply": "2024-10-30T14:14:23.542053Z",
     "shell.execute_reply.started": "2024-10-30T14:14:23.537326Z"
    }
   },
   "outputs": [],
   "source": [
    "# pip install sktime"
   ]
  },
  {
   "cell_type": "code",
   "execution_count": null,
   "id": "a70cfbe9-1468-4dbb-9b2a-1b3ee1b87f68",
   "metadata": {
    "execution": {
     "iopub.execute_input": "2024-10-30T14:14:24.424277Z",
     "iopub.status.busy": "2024-10-30T14:14:24.423694Z",
     "iopub.status.idle": "2024-10-30T14:14:24.429542Z",
     "shell.execute_reply": "2024-10-30T14:14:24.428323Z",
     "shell.execute_reply.started": "2024-10-30T14:14:24.424237Z"
    }
   },
   "outputs": [],
   "source": [
    "# pip install datasetsforecast"
   ]
  },
  {
   "cell_type": "code",
   "execution_count": null,
   "id": "7a1ef60b-97e2-40e2-9d6c-f4c8a676dd23",
   "metadata": {
    "execution": {
     "iopub.execute_input": "2024-10-30T14:14:24.432170Z",
     "iopub.status.busy": "2024-10-30T14:14:24.431365Z",
     "iopub.status.idle": "2024-10-30T14:14:31.498839Z",
     "shell.execute_reply": "2024-10-30T14:14:31.498006Z",
     "shell.execute_reply.started": "2024-10-30T14:14:24.432133Z"
    },
    "tags": []
   },
   "outputs": [],
   "source": [
    "# Basics\n",
    "import pandas as pd\n",
    "import numpy as np\n",
    "\n",
    "# Some functions for plotting and stuff\n",
    "import utils as ts_utils\n",
    "\n",
    "# Neural models\n",
    "from neuralforecast import NeuralForecast\n",
    "from neuralforecast.models import TimesNet\n",
    "from neuralforecast.losses.pytorch import DistributionLoss\n",
    "from neuralforecast.losses.pytorch import MQLoss"
   ]
  },
  {
   "cell_type": "markdown",
   "id": "ad6f8e6e-32d8-4d05-a08e-ea0527147074",
   "metadata": {},
   "source": [
    "## 2. Data Preparation"
   ]
  },
  {
   "cell_type": "code",
   "execution_count": null,
   "id": "add6acc7-0fa8-43c0-8a32-dad8fccd91ae",
   "metadata": {
    "execution": {
     "iopub.execute_input": "2024-10-30T14:14:31.500020Z",
     "iopub.status.busy": "2024-10-30T14:14:31.499573Z",
     "iopub.status.idle": "2024-10-30T14:14:31.591015Z",
     "shell.execute_reply": "2024-10-30T14:14:31.590337Z",
     "shell.execute_reply.started": "2024-10-30T14:14:31.499995Z"
    },
    "tags": []
   },
   "outputs": [],
   "source": [
    "# Size of the data to read\n",
    "data_size = 'norm'\n",
    "\n",
    "# Date of the data to read\n",
    "data_date = '2110' # '1806' = 18th of June\n",
    "\n",
    "# Read the data (takes around 2 minutes)\n",
    "dataset = pd.read_csv(f\"~/Thesis/data/eod_balances_{data_date}_{data_size}.csv\")\n",
    "\n",
    "dataset"
   ]
  },
  {
   "cell_type": "code",
   "execution_count": null,
   "id": "3ce1f14a-5300-4e1a-8072-d1607bc99ff3",
   "metadata": {
    "execution": {
     "iopub.execute_input": "2024-10-30T14:14:31.591901Z",
     "iopub.status.busy": "2024-10-30T14:14:31.591686Z",
     "iopub.status.idle": "2024-10-30T14:14:31.595135Z",
     "shell.execute_reply": "2024-10-30T14:14:31.594575Z",
     "shell.execute_reply.started": "2024-10-30T14:14:31.591878Z"
    }
   },
   "outputs": [],
   "source": [
    "# Create the timer\n",
    "timer = ts_utils.Timer()"
   ]
  },
  {
   "cell_type": "markdown",
   "id": "482501ea-e582-4e68-9496-2bd3dd97b62b",
   "metadata": {},
   "source": [
    "### 2.1 In-sample and Out-sample split"
   ]
  },
  {
   "cell_type": "code",
   "execution_count": null,
   "id": "f7f6d59e-6b84-4ef9-888c-d21885f5d4f3",
   "metadata": {
    "execution": {
     "iopub.execute_input": "2024-10-30T14:14:31.596797Z",
     "iopub.status.busy": "2024-10-30T14:14:31.596539Z",
     "iopub.status.idle": "2024-10-30T14:14:31.601966Z",
     "shell.execute_reply": "2024-10-30T14:14:31.601436Z",
     "shell.execute_reply.started": "2024-10-30T14:14:31.596776Z"
    },
    "tags": []
   },
   "outputs": [],
   "source": [
    "# Calculate total amount of timeseries\n",
    "num_timeseries = len(dataset.columns) - 1\n",
    "\n",
    "# Specify train test split percentage\n",
    "train_test_split = 0.8\n",
    "\n",
    "# Split into train and out of sample test data\n",
    "num_out_of_sample = int(train_test_split * num_timeseries)\n",
    "\n",
    "# Create in-sample dataframe\n",
    "in_sample_data = dataset.iloc[:, : num_out_of_sample + 1] # Training and testing\n",
    "\n",
    "# Create out-sample dataframe\n",
    "n = num_timeseries-num_out_of_sample\n",
    "columns_to_keep = dataset.columns[[0]].tolist() + dataset.columns[-n:].tolist()\n",
    "out_sample_data = dataset[columns_to_keep]"
   ]
  },
  {
   "cell_type": "markdown",
   "id": "2b5d652b-0658-48bb-b18f-0e8063c5c614",
   "metadata": {
    "execution": {
     "iopub.execute_input": "2024-07-02T11:29:41.908418Z",
     "iopub.status.busy": "2024-07-02T11:29:41.907853Z",
     "iopub.status.idle": "2024-07-02T11:29:41.912399Z",
     "shell.execute_reply": "2024-07-02T11:29:41.911460Z",
     "shell.execute_reply.started": "2024-07-02T11:29:41.908378Z"
    },
    "tags": []
   },
   "source": [
    "## 3. In-sample Analysis\n",
    "\n",
    "### 3.1 Train/Test splitting and plotting"
   ]
  },
  {
   "cell_type": "code",
   "execution_count": null,
   "id": "483058b6-d8d0-4f6c-9d59-d62b8a312ad1",
   "metadata": {
    "execution": {
     "iopub.execute_input": "2024-10-30T14:14:31.602760Z",
     "iopub.status.busy": "2024-10-30T14:14:31.602567Z",
     "iopub.status.idle": "2024-10-30T14:14:31.667690Z",
     "shell.execute_reply": "2024-10-30T14:14:31.666400Z",
     "shell.execute_reply.started": "2024-10-30T14:14:31.602741Z"
    }
   },
   "outputs": [],
   "source": [
    "# Change the data to the long format\n",
    "Y_df = in_sample_data.melt(id_vars=['date'], var_name='unique_id', value_name='y')\n",
    "Y_df = Y_df.rename(columns={'date':'ds'})\n",
    "\n",
    "# Convert date column to datetime type\n",
    "Y_df['ds'] = pd.to_datetime(Y_df['ds'])"
   ]
  },
  {
   "cell_type": "code",
   "execution_count": null,
   "id": "36675659-fd5b-4389-9a0b-c98b57e85190",
   "metadata": {
    "execution": {
     "iopub.execute_input": "2024-10-30T14:14:31.668796Z",
     "iopub.status.busy": "2024-10-30T14:14:31.668582Z",
     "iopub.status.idle": "2024-10-30T14:14:31.680459Z",
     "shell.execute_reply": "2024-10-30T14:14:31.679582Z",
     "shell.execute_reply.started": "2024-10-30T14:14:31.668774Z"
    }
   },
   "outputs": [],
   "source": [
    "# Define the horizon (12 months of 30 days each)\n",
    "fh = 30\n",
    "horizon = 12 * fh\n",
    "\n",
    "# Identify the unique dates in the dataset\n",
    "unique_dates = Y_df['ds'].unique()\n",
    "\n",
    "# Convert to a list and then sort the dates\n",
    "unique_dates = sorted(list(unique_dates))\n",
    "\n",
    "# Determine the cutoff date (cutoff at 12 months before the last date in the dataset)\n",
    "cutoff_date = unique_dates[-(horizon + 1)]\n",
    "\n",
    "# Training data: all data up to the cutoff date\n",
    "Y_train_df = Y_df[Y_df['ds'] <= cutoff_date]"
   ]
  },
  {
   "cell_type": "code",
   "execution_count": null,
   "id": "4d8c30b9-2ae4-4739-8f5f-45838e7bccb7",
   "metadata": {
    "execution": {
     "iopub.execute_input": "2024-10-30T14:14:31.681745Z",
     "iopub.status.busy": "2024-10-30T14:14:31.681435Z",
     "iopub.status.idle": "2024-10-30T14:14:31.745465Z",
     "shell.execute_reply": "2024-10-30T14:14:31.743846Z",
     "shell.execute_reply.started": "2024-10-30T14:14:31.681724Z"
    }
   },
   "outputs": [],
   "source": [
    "# Initialize lists to store the input and test sets\n",
    "input_dfs = []\n",
    "test_dfs = []\n",
    "\n",
    "# Loop to create the 6 input and test sets\n",
    "for i in range(6):\n",
    "    # Determine the start date of the test period\n",
    "    test_start_date = unique_dates[-(horizon - i * 2 * fh)]\n",
    "    test_end_date = unique_dates[-(horizon - (i * 2 * fh) - fh)]\n",
    "    \n",
    "    # Input data: all data up to the start of the current test period\n",
    "    input_df = Y_df[Y_df['ds'] <= test_start_date]\n",
    "    input_dfs.append(input_df)\n",
    "    \n",
    "    # Test data: the 30-day period following the start of the test period\n",
    "    test_df = Y_df[(Y_df['ds'] > test_start_date) & (Y_df['ds'] <= test_end_date)]\n",
    "    test_dfs.append(test_df)\n",
    "\n",
    "# Define the 6 input periods\n",
    "Y_input_df_0 = input_dfs[0]\n",
    "Y_input_df_1 = input_dfs[1]\n",
    "Y_input_df_2 = input_dfs[2]\n",
    "Y_input_df_3 = input_dfs[3]\n",
    "Y_input_df_4 = input_dfs[4]\n",
    "Y_input_df_5 = input_dfs[5]\n",
    "\n",
    "# Define the 6 test periods\n",
    "Y_test_df_0 = test_dfs[0]\n",
    "Y_test_df_1 = test_dfs[1]\n",
    "Y_test_df_2 = test_dfs[2]\n",
    "Y_test_df_3 = test_dfs[3]\n",
    "Y_test_df_4 = test_dfs[4]\n",
    "Y_test_df_5 = test_dfs[5]"
   ]
  },
  {
   "cell_type": "code",
   "execution_count": null,
   "id": "3f875f8c-b3f6-4403-97d0-8069be7f0854",
   "metadata": {
    "execution": {
     "iopub.execute_input": "2024-10-30T14:14:31.748569Z",
     "iopub.status.busy": "2024-10-30T14:14:31.747694Z",
     "iopub.status.idle": "2024-10-30T14:14:32.272624Z",
     "shell.execute_reply": "2024-10-30T14:14:32.271823Z",
     "shell.execute_reply.started": "2024-10-30T14:14:31.748507Z"
    }
   },
   "outputs": [],
   "source": [
    "# Timeserie to plot\n",
    "unique_id = '6'\n",
    "\n",
    "# Plot the train and test dataframes\n",
    "ts_utils.plot_train_test_split(Y_input_df_0, Y_test_df_0, unique_id)"
   ]
  },
  {
   "cell_type": "markdown",
   "id": "06dd1578-b6f0-4dd7-8476-434b24b2256c",
   "metadata": {
    "execution": {
     "iopub.execute_input": "2024-07-02T11:31:27.905068Z",
     "iopub.status.busy": "2024-07-02T11:31:27.903883Z",
     "iopub.status.idle": "2024-07-02T11:31:27.919741Z",
     "shell.execute_reply": "2024-07-02T11:31:27.916428Z",
     "shell.execute_reply.started": "2024-07-02T11:31:27.905004Z"
    },
    "tags": []
   },
   "source": [
    "### 3.2 Training and predicting"
   ]
  },
  {
   "cell_type": "code",
   "execution_count": null,
   "id": "8bbb6340-a65c-4e88-b765-08eee1e14fcc",
   "metadata": {
    "execution": {
     "iopub.execute_input": "2024-10-30T14:14:32.273775Z",
     "iopub.status.busy": "2024-10-30T14:14:32.273473Z",
     "iopub.status.idle": "2024-10-30T14:14:32.277973Z",
     "shell.execute_reply": "2024-10-30T14:14:32.277332Z",
     "shell.execute_reply.started": "2024-10-30T14:14:32.273750Z"
    },
    "tags": []
   },
   "outputs": [],
   "source": [
    "# Decide max_steps:\n",
    "if data_size == 'tiny':\n",
    "    max_steps = 500   #checked \n",
    "if data_size == 'full':\n",
    "    max_steps = 3500 # 3500 is checked == 500 epochs\n",
    "if data_size == 'norm':\n",
    "    max_steps = 3500\n",
    "\n",
    "print(f\"The maximum steps we take during training will be {max_steps}.\")"
   ]
  },
  {
   "cell_type": "markdown",
   "id": "8df50145-bba9-42d4-92e8-bc7db4df31f2",
   "metadata": {},
   "source": [
    "#### 3.2.1 Train the model"
   ]
  },
  {
   "cell_type": "code",
   "execution_count": null,
   "id": "3a6a320e-7a28-4884-8f05-c0a3a36c6105",
   "metadata": {
    "execution": {
     "iopub.execute_input": "2024-10-30T14:14:32.279161Z",
     "iopub.status.busy": "2024-10-30T14:14:32.278822Z",
     "iopub.status.idle": "2024-10-30T14:35:37.133580Z",
     "shell.execute_reply": "2024-10-30T14:35:37.132688Z",
     "shell.execute_reply.started": "2024-10-30T14:14:32.279139Z"
    }
   },
   "outputs": [],
   "source": [
    "# Set forecasting horizon\n",
    "fh = 30\n",
    "\n",
    "# Set our confidence levels\n",
    "levels = [60, 70, 80, 90]\n",
    "\n",
    "timer.record_timestamp(\"start_train\")\n",
    "\n",
    "timesnet_model_insample = NeuralForecast(models=[TimesNet(h=fh,\n",
    "                                              input_size= 15 * fh,\n",
    "                                              loss=MQLoss(level=levels),\n",
    "                                              scaler_type='standard',\n",
    "                                              max_steps=max_steps,\n",
    "                                              val_check_steps=max_steps / 10)\n",
    "                                    ], freq='D'\n",
    "                            )\n",
    "\n",
    "# Fit the model\n",
    "timesnet_model_insample.fit(df=Y_train_df)\n",
    "\n",
    "timer.record_timestamp(\"end_train\")"
   ]
  },
  {
   "cell_type": "markdown",
   "id": "41beb719-fd5d-4d3d-8adf-22181d15d554",
   "metadata": {},
   "source": [
    "#### 3.2.1 Retrieve predictions"
   ]
  },
  {
   "cell_type": "code",
   "execution_count": null,
   "id": "d748ad5d-95aa-4471-8c4c-b876f8b9f6dc",
   "metadata": {
    "execution": {
     "iopub.execute_input": "2024-10-30T14:35:37.134809Z",
     "iopub.status.busy": "2024-10-30T14:35:37.134477Z",
     "iopub.status.idle": "2024-10-30T14:35:37.793815Z",
     "shell.execute_reply": "2024-10-30T14:35:37.791106Z",
     "shell.execute_reply.started": "2024-10-30T14:35:37.134785Z"
    }
   },
   "outputs": [],
   "source": [
    "timer.record_timestamp(\"start_inference\")\n",
    "\n",
    "# Make predictions on first period\n",
    "timesnet_model_insample_preds_0 = timesnet_model_insample.predict(df=Y_input_df_0).rename(columns={'TimesNet-median': 'TimesNet'})\n",
    "\n",
    "timer.record_timestamp(\"end_inference\")\n",
    "\n",
    "# Save predictions of first period\n",
    "timesnet_model_insample_preds_0.to_csv(f'~/Thesis/predictions/TimesNet/insample/period01/model_preds_{data_date}_{data_size}.csv', index=True)"
   ]
  },
  {
   "cell_type": "code",
   "execution_count": null,
   "id": "9044ad29-aa5b-434d-bdc4-e4de1e4945c8",
   "metadata": {
    "execution": {
     "iopub.execute_input": "2024-10-30T14:35:37.804229Z",
     "iopub.status.busy": "2024-10-30T14:35:37.803272Z",
     "iopub.status.idle": "2024-10-30T14:35:38.397457Z",
     "shell.execute_reply": "2024-10-30T14:35:38.396324Z",
     "shell.execute_reply.started": "2024-10-30T14:35:37.804140Z"
    }
   },
   "outputs": [],
   "source": [
    "# Make predictions on second period\n",
    "timesnet_model_insample_preds_1 = timesnet_model_insample.predict(df=Y_input_df_1).rename(columns={'TimesNet-median': 'TimesNet'})\n",
    "\n",
    "# Save predictions of second period\n",
    "timesnet_model_insample_preds_1.to_csv(f'~/Thesis/predictions/TimesNet/insample/period02/model_preds_{data_date}_{data_size}.csv', index=True)"
   ]
  },
  {
   "cell_type": "code",
   "execution_count": null,
   "id": "79445649-7aff-4ca2-925f-9c0b55725b6f",
   "metadata": {
    "execution": {
     "iopub.execute_input": "2024-10-30T14:35:38.398905Z",
     "iopub.status.busy": "2024-10-30T14:35:38.398471Z",
     "iopub.status.idle": "2024-10-30T14:35:38.925387Z",
     "shell.execute_reply": "2024-10-30T14:35:38.924378Z",
     "shell.execute_reply.started": "2024-10-30T14:35:38.398874Z"
    }
   },
   "outputs": [],
   "source": [
    "# Make predictions on third period\n",
    "timesnet_model_insample_preds_2 = timesnet_model_insample.predict(df=Y_input_df_2).rename(columns={'TimesNet-median': 'TimesNet'})\n",
    "\n",
    "# Save predictions of third period\n",
    "timesnet_model_insample_preds_2.to_csv(f'~/Thesis/predictions/TimesNet/insample/period03/model_preds_{data_date}_{data_size}.csv', index=True)"
   ]
  },
  {
   "cell_type": "code",
   "execution_count": null,
   "id": "240459f7-8d32-430a-9394-c10ea3311b36",
   "metadata": {
    "execution": {
     "iopub.execute_input": "2024-10-30T14:35:38.926793Z",
     "iopub.status.busy": "2024-10-30T14:35:38.926403Z",
     "iopub.status.idle": "2024-10-30T14:35:39.745089Z",
     "shell.execute_reply": "2024-10-30T14:35:39.743270Z",
     "shell.execute_reply.started": "2024-10-30T14:35:38.926765Z"
    }
   },
   "outputs": [],
   "source": [
    "# Make predictions on fourth period\n",
    "timesnet_model_insample_preds_3 = timesnet_model_insample.predict(df=Y_input_df_3).rename(columns={'TimesNet-median': 'TimesNet'})\n",
    "\n",
    "# Save predictions of fourth period\n",
    "timesnet_model_insample_preds_3.to_csv(f'~/Thesis/predictions/TimesNet/insample/period04/model_preds_{data_date}_{data_size}.csv', index=True)"
   ]
  },
  {
   "cell_type": "code",
   "execution_count": null,
   "id": "95460ec0-8b5a-4241-a044-6dd07e8607a9",
   "metadata": {
    "execution": {
     "iopub.execute_input": "2024-10-30T14:35:39.747341Z",
     "iopub.status.busy": "2024-10-30T14:35:39.746630Z",
     "iopub.status.idle": "2024-10-30T14:35:40.437593Z",
     "shell.execute_reply": "2024-10-30T14:35:40.436608Z",
     "shell.execute_reply.started": "2024-10-30T14:35:39.747282Z"
    }
   },
   "outputs": [],
   "source": [
    "# Make predictions on fifth period\n",
    "timesnet_model_insample_preds_4 = timesnet_model_insample.predict(df=Y_input_df_4).rename(columns={'TimesNet-median': 'TimesNet'})\n",
    "\n",
    "# Save predictions of fifth period\n",
    "timesnet_model_insample_preds_4.to_csv(f'~/Thesis/predictions/TimesNet/insample/period05/model_preds_{data_date}_{data_size}.csv', index=True)"
   ]
  },
  {
   "cell_type": "code",
   "execution_count": null,
   "id": "f8405f38-fc0d-4cc9-a008-295b3c085207",
   "metadata": {
    "execution": {
     "iopub.execute_input": "2024-10-30T14:35:40.439180Z",
     "iopub.status.busy": "2024-10-30T14:35:40.438744Z",
     "iopub.status.idle": "2024-10-30T14:35:41.069908Z",
     "shell.execute_reply": "2024-10-30T14:35:41.069046Z",
     "shell.execute_reply.started": "2024-10-30T14:35:40.439142Z"
    }
   },
   "outputs": [],
   "source": [
    "# Make predictions on sixth period\n",
    "timesnet_model_insample_preds_5 = timesnet_model_insample.predict(df=Y_input_df_5).rename(columns={'TimesNet-median': 'TimesNet'})\n",
    "\n",
    "# Save predictions of sixth period\n",
    "timesnet_model_insample_preds_5.to_csv(f'~/Thesis/predictions/TimesNet/insample/period06/model_preds_{data_date}_{data_size}.csv', index=True)"
   ]
  },
  {
   "cell_type": "markdown",
   "id": "1e800c4d-69aa-4036-abb4-03d7a8facd94",
   "metadata": {},
   "source": [
    "## 4. Out-of-sample Analysis\n",
    "\n",
    "### 4.1 Data Handling"
   ]
  },
  {
   "cell_type": "code",
   "execution_count": null,
   "id": "0c51e2bf-0828-49d0-8a1d-c47397cda266",
   "metadata": {
    "execution": {
     "iopub.execute_input": "2024-10-30T14:35:41.070913Z",
     "iopub.status.busy": "2024-10-30T14:35:41.070681Z",
     "iopub.status.idle": "2024-10-30T14:35:41.096793Z",
     "shell.execute_reply": "2024-10-30T14:35:41.095398Z",
     "shell.execute_reply.started": "2024-10-30T14:35:41.070889Z"
    }
   },
   "outputs": [],
   "source": [
    "# Change the data to the long format\n",
    "Y_df = out_sample_data.melt(id_vars=['date'], var_name='unique_id', value_name='y')\n",
    "Y_df = Y_df.rename(columns={'date':'ds'})\n",
    "\n",
    "# Convert date column to datetime type\n",
    "Y_df['ds'] = pd.to_datetime(Y_df['ds'])"
   ]
  },
  {
   "cell_type": "code",
   "execution_count": null,
   "id": "1622abfe-45f8-45ad-b29c-8afeea8c54d7",
   "metadata": {
    "execution": {
     "iopub.execute_input": "2024-10-30T14:35:41.098774Z",
     "iopub.status.busy": "2024-10-30T14:35:41.098164Z",
     "iopub.status.idle": "2024-10-30T14:35:41.111628Z",
     "shell.execute_reply": "2024-10-30T14:35:41.110402Z",
     "shell.execute_reply.started": "2024-10-30T14:35:41.098725Z"
    }
   },
   "outputs": [],
   "source": [
    "# Define the horizon (12 months of 30 days each)\n",
    "fh = 30\n",
    "horizon = 12 * fh\n",
    "\n",
    "# Identify the unique dates in the dataset\n",
    "unique_dates = Y_df['ds'].unique()\n",
    "\n",
    "# Convert to a list and then sort the dates\n",
    "unique_dates = sorted(list(unique_dates))\n",
    "\n",
    "# Determine the cutoff date (cutoff at 12 months before the last date in the dataset)\n",
    "cutoff_date = unique_dates[-(horizon + 1)]\n",
    "\n",
    "# Training data: all data up to the cutoff date\n",
    "Y_train_df = Y_df[Y_df['ds'] <= cutoff_date]"
   ]
  },
  {
   "cell_type": "code",
   "execution_count": null,
   "id": "f82c8d5d-890f-480a-93ec-d2953c6d99a9",
   "metadata": {
    "execution": {
     "iopub.execute_input": "2024-10-30T14:35:41.113034Z",
     "iopub.status.busy": "2024-10-30T14:35:41.112641Z",
     "iopub.status.idle": "2024-10-30T14:35:41.142992Z",
     "shell.execute_reply": "2024-10-30T14:35:41.141884Z",
     "shell.execute_reply.started": "2024-10-30T14:35:41.112992Z"
    }
   },
   "outputs": [],
   "source": [
    "# Initialize lists to store the input and test sets\n",
    "input_dfs = []\n",
    "test_dfs = []\n",
    "\n",
    "# Loop to create the 6 input and test sets\n",
    "for i in range(6):\n",
    "    # Determine the start date of the test period\n",
    "    test_start_date = unique_dates[-(horizon - i * 2 * fh)]\n",
    "    test_end_date = unique_dates[-(horizon - (i * 2 * fh) - fh)]\n",
    "    \n",
    "    # Input data: all data up to the start of the current test period\n",
    "    input_df = Y_df[Y_df['ds'] <= test_start_date]\n",
    "    input_dfs.append(input_df)\n",
    "    \n",
    "    # Test data: the 30-day period following the start of the test period\n",
    "    test_df = Y_df[(Y_df['ds'] > test_start_date) & (Y_df['ds'] <= test_end_date)]\n",
    "    test_dfs.append(test_df)\n",
    "\n",
    "# Define the 6 input periods\n",
    "Y_input_df_0 = input_dfs[0]\n",
    "Y_input_df_1 = input_dfs[1]\n",
    "Y_input_df_2 = input_dfs[2]\n",
    "Y_input_df_3 = input_dfs[3]\n",
    "Y_input_df_4 = input_dfs[4]\n",
    "Y_input_df_5 = input_dfs[5]\n",
    "\n",
    "# Define the 6 test periods\n",
    "Y_test_df_0 = test_dfs[0]\n",
    "Y_test_df_1 = test_dfs[1]\n",
    "Y_test_df_2 = test_dfs[2]\n",
    "Y_test_df_3 = test_dfs[3]\n",
    "Y_test_df_4 = test_dfs[4]\n",
    "Y_test_df_5 = test_dfs[5]"
   ]
  },
  {
   "cell_type": "code",
   "execution_count": null,
   "id": "0a7d584f-92bc-4e82-bfe4-56d3c35d6242",
   "metadata": {
    "execution": {
     "iopub.execute_input": "2024-10-30T14:35:41.144191Z",
     "iopub.status.busy": "2024-10-30T14:35:41.143940Z",
     "iopub.status.idle": "2024-10-30T14:35:41.689883Z",
     "shell.execute_reply": "2024-10-30T14:35:41.689037Z",
     "shell.execute_reply.started": "2024-10-30T14:35:41.144167Z"
    }
   },
   "outputs": [],
   "source": [
    "# Timeserie to plot\n",
    "unique_id = Y_train_df['unique_id'][0]\n",
    "\n",
    "# Plot the train and test dataframes\n",
    "ts_utils.plot_train_test_split(Y_train_df, Y_test_df_0, unique_id)"
   ]
  },
  {
   "cell_type": "markdown",
   "id": "4c40d8e7-b6d2-4e85-9c34-0ec47148edde",
   "metadata": {},
   "source": [
    "### 4.2 Retrieve predictions"
   ]
  },
  {
   "cell_type": "code",
   "execution_count": null,
   "id": "88e8e7e4-f590-4849-b385-5c94856911cc",
   "metadata": {
    "execution": {
     "iopub.execute_input": "2024-10-30T14:35:41.690978Z",
     "iopub.status.busy": "2024-10-30T14:35:41.690678Z",
     "iopub.status.idle": "2024-10-30T14:35:42.064966Z",
     "shell.execute_reply": "2024-10-30T14:35:42.063843Z",
     "shell.execute_reply.started": "2024-10-30T14:35:41.690954Z"
    }
   },
   "outputs": [],
   "source": [
    "# Make outsample predictions on first period (using already trained model)\n",
    "timesnet_model_outsample_preds_0 = timesnet_model_insample.predict(df=Y_input_df_0).rename(columns={'TimesNet-median': 'TimesNet'})\n",
    "\n",
    "# Save outsample predictions of first period\n",
    "timesnet_model_outsample_preds_0.to_csv(f'~/Thesis/predictions/TimesNet/outsample/period01/model_preds_{data_date}_{data_size}.csv', index=True)"
   ]
  },
  {
   "cell_type": "code",
   "execution_count": null,
   "id": "20d6231d-8153-4efc-8dc7-57b0ec65c80d",
   "metadata": {
    "execution": {
     "iopub.execute_input": "2024-10-30T14:35:42.066116Z",
     "iopub.status.busy": "2024-10-30T14:35:42.065892Z",
     "iopub.status.idle": "2024-10-30T14:35:42.516944Z",
     "shell.execute_reply": "2024-10-30T14:35:42.516213Z",
     "shell.execute_reply.started": "2024-10-30T14:35:42.066094Z"
    }
   },
   "outputs": [],
   "source": [
    "# Make outsample predictions on second period (using already trained model)\n",
    "timesnet_model_outsample_preds_1 = timesnet_model_insample.predict(df=Y_input_df_1).rename(columns={'TimesNet-median': 'TimesNet'})\n",
    "\n",
    "# Save outsample predictions of second period\n",
    "timesnet_model_outsample_preds_1.to_csv(f'~/Thesis/predictions/TimesNet/outsample/period02/model_preds_{data_date}_{data_size}.csv', index=True)"
   ]
  },
  {
   "cell_type": "code",
   "execution_count": null,
   "id": "f3fb2b00-3400-48d4-821f-9c0551c66359",
   "metadata": {
    "execution": {
     "iopub.execute_input": "2024-10-30T14:35:42.518087Z",
     "iopub.status.busy": "2024-10-30T14:35:42.517875Z",
     "iopub.status.idle": "2024-10-30T14:35:42.883133Z",
     "shell.execute_reply": "2024-10-30T14:35:42.882312Z",
     "shell.execute_reply.started": "2024-10-30T14:35:42.518066Z"
    }
   },
   "outputs": [],
   "source": [
    "# Make outsample predictions on third period (using already trained model)\n",
    "timesnet_model_outsample_preds_2 = timesnet_model_insample.predict(df=Y_input_df_2).rename(columns={'TimesNet-median': 'TimesNet'})\n",
    "\n",
    "# Save outsample predictions of third period\n",
    "timesnet_model_outsample_preds_2.to_csv(f'~/Thesis/predictions/TimesNet/outsample/period03/model_preds_{data_date}_{data_size}.csv', index=True)"
   ]
  },
  {
   "cell_type": "code",
   "execution_count": null,
   "id": "7f9c4f57-1804-45b2-ab4b-94e447d6d907",
   "metadata": {
    "execution": {
     "iopub.execute_input": "2024-10-30T14:35:42.884283Z",
     "iopub.status.busy": "2024-10-30T14:35:42.883957Z",
     "iopub.status.idle": "2024-10-30T14:35:43.274421Z",
     "shell.execute_reply": "2024-10-30T14:35:43.273629Z",
     "shell.execute_reply.started": "2024-10-30T14:35:42.884258Z"
    }
   },
   "outputs": [],
   "source": [
    "# Make outsample predictions on fourth period (using already trained model)\n",
    "timesnet_model_outsample_preds_3 = timesnet_model_insample.predict(df=Y_input_df_3).rename(columns={'TimesNet-median': 'TimesNet'})\n",
    "\n",
    "# Save outsample predictions of fourth period\n",
    "timesnet_model_outsample_preds_3.to_csv(f'~/Thesis/predictions/TimesNet/outsample/period04/model_preds_{data_date}_{data_size}.csv', index=True)"
   ]
  },
  {
   "cell_type": "code",
   "execution_count": null,
   "id": "8c2442d5-9dc1-4dae-b61c-79e5ea745fa5",
   "metadata": {
    "execution": {
     "iopub.execute_input": "2024-10-30T14:35:43.275513Z",
     "iopub.status.busy": "2024-10-30T14:35:43.275190Z",
     "iopub.status.idle": "2024-10-30T14:35:43.558130Z",
     "shell.execute_reply": "2024-10-30T14:35:43.556918Z",
     "shell.execute_reply.started": "2024-10-30T14:35:43.275489Z"
    }
   },
   "outputs": [],
   "source": [
    "# Make outsample predictions on fifth period (using already trained model)\n",
    "timesnet_model_outsample_preds_4 = timesnet_model_insample.predict(df=Y_input_df_4).rename(columns={'TimesNet-median': 'TimesNet'})\n",
    "\n",
    "# Save outsample predictions of fifth period\n",
    "timesnet_model_outsample_preds_4.to_csv(f'~/Thesis/predictions/TimesNet/outsample/period05/model_preds_{data_date}_{data_size}.csv', index=True)"
   ]
  },
  {
   "cell_type": "code",
   "execution_count": null,
   "id": "71fb5a65-72a8-4e42-a3cf-579ad6d19472",
   "metadata": {
    "execution": {
     "iopub.execute_input": "2024-10-30T14:35:43.560686Z",
     "iopub.status.busy": "2024-10-30T14:35:43.559544Z",
     "iopub.status.idle": "2024-10-30T14:35:43.962693Z",
     "shell.execute_reply": "2024-10-30T14:35:43.961837Z",
     "shell.execute_reply.started": "2024-10-30T14:35:43.560590Z"
    }
   },
   "outputs": [],
   "source": [
    "# Make outsample predictions on sixth period (using already trained model)\n",
    "timesnet_model_outsample_preds_5 = timesnet_model_insample.predict(df=Y_input_df_5).rename(columns={'TimesNet-median': 'TimesNet'})\n",
    "\n",
    "# Save outsample predictions of fifth period\n",
    "timesnet_model_outsample_preds_5.to_csv(f'~/Thesis/predictions/TimesNet/outsample/period06/model_preds_{data_date}_{data_size}.csv', index=True)"
   ]
  },
  {
   "cell_type": "markdown",
   "id": "500e89e5-3eda-46eb-8acf-6f91a1e61ce3",
   "metadata": {},
   "source": [
    "### Model Statistics"
   ]
  },
  {
   "cell_type": "code",
   "execution_count": null,
   "id": "913aca30-3d25-4410-b032-88a5968b2dea",
   "metadata": {
    "execution": {
     "iopub.execute_input": "2024-10-30T14:35:43.963779Z",
     "iopub.status.busy": "2024-10-30T14:35:43.963469Z",
     "iopub.status.idle": "2024-10-30T14:35:43.968720Z",
     "shell.execute_reply": "2024-10-30T14:35:43.967693Z",
     "shell.execute_reply.started": "2024-10-30T14:35:43.963756Z"
    }
   },
   "outputs": [],
   "source": [
    "train_time = timer.elapsed_time(\"start_train\", \"end_train\")\n",
    "inference_time = timer.elapsed_time(\"start_inference\", \"end_inference\")\n",
    "\n",
    "model_name = \"TimesNet\"\n",
    "num_timeseries = 277\n",
    "\n",
    "file_path = \"model_statistics.txt\"\n",
    "\n",
    "ts_utils.write_statistics(model_name, num_timeseries, train_time, inference_time, file_path)"
   ]
  },
  {
   "cell_type": "code",
   "execution_count": null,
   "id": "5c2dde81-710d-46bd-a6e2-e962972f66b4",
   "metadata": {},
   "outputs": [],
   "source": []
  },
  {
   "cell_type": "code",
   "execution_count": null,
   "id": "07cfbaac-6c66-491d-ba71-1e098e7443f8",
   "metadata": {},
   "outputs": [],
   "source": []
  }
 ],
 "metadata": {
  "kernelspec": {
   "display_name": "DAP Environment",
   "language": "python",
   "name": "dap-env"
  },
  "language_info": {
   "codemirror_mode": {
    "name": "ipython",
    "version": 3
   },
   "file_extension": ".py",
   "mimetype": "text/x-python",
   "name": "python",
   "nbconvert_exporter": "python",
   "pygments_lexer": "ipython3",
   "version": "3.10.14"
  }
 },
 "nbformat": 4,
 "nbformat_minor": 5
}
