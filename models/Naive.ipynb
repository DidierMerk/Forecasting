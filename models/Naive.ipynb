{
 "cells": [
  {
   "cell_type": "markdown",
   "id": "34298caf-b555-49b2-9674-1ce175f5e9b3",
   "metadata": {},
   "source": [
    "# Timeseries Forecasting (Naive model)\n",
    "\n",
    "## 1. Installing dependencies"
   ]
  },
  {
   "cell_type": "code",
   "execution_count": null,
   "id": "c15c7368-14b7-43ec-ae53-9ba7ed042d48",
   "metadata": {
    "execution": {
     "iopub.execute_input": "2024-10-30T14:48:15.687185Z",
     "iopub.status.busy": "2024-10-30T14:48:15.686821Z",
     "iopub.status.idle": "2024-10-30T14:48:15.690023Z",
     "shell.execute_reply": "2024-10-30T14:48:15.689443Z",
     "shell.execute_reply.started": "2024-10-30T14:48:15.687160Z"
    }
   },
   "outputs": [],
   "source": [
    "# !pip install datasetsforecast"
   ]
  },
  {
   "cell_type": "code",
   "execution_count": null,
   "id": "19cd2aa6-6066-472c-a633-97670357dd71",
   "metadata": {
    "execution": {
     "iopub.execute_input": "2024-10-30T14:48:15.690915Z",
     "iopub.status.busy": "2024-10-30T14:48:15.690712Z",
     "iopub.status.idle": "2024-10-30T14:48:15.693679Z",
     "shell.execute_reply": "2024-10-30T14:48:15.693069Z",
     "shell.execute_reply.started": "2024-10-30T14:48:15.690894Z"
    }
   },
   "outputs": [],
   "source": [
    "# !pip install sktime"
   ]
  },
  {
   "cell_type": "code",
   "execution_count": null,
   "id": "50764152-4563-4ad7-b513-400280b920ff",
   "metadata": {
    "execution": {
     "iopub.execute_input": "2024-10-30T14:48:15.694562Z",
     "iopub.status.busy": "2024-10-30T14:48:15.694290Z",
     "iopub.status.idle": "2024-10-30T14:48:15.697251Z",
     "shell.execute_reply": "2024-10-30T14:48:15.696657Z",
     "shell.execute_reply.started": "2024-10-30T14:48:15.694540Z"
    }
   },
   "outputs": [],
   "source": [
    "# !pip install statsforecast"
   ]
  },
  {
   "cell_type": "code",
   "execution_count": null,
   "id": "7a1ef60b-97e2-40e2-9d6c-f4c8a676dd23",
   "metadata": {
    "execution": {
     "iopub.execute_input": "2024-10-30T14:48:15.698102Z",
     "iopub.status.busy": "2024-10-30T14:48:15.697851Z",
     "iopub.status.idle": "2024-10-30T14:48:18.463709Z",
     "shell.execute_reply": "2024-10-30T14:48:18.462420Z",
     "shell.execute_reply.started": "2024-10-30T14:48:15.698081Z"
    },
    "tags": []
   },
   "outputs": [],
   "source": [
    "# Basics\n",
    "import pandas as pd\n",
    "import numpy as np\n",
    "\n",
    "# Some functions for plotting and stuff\n",
    "import utils as ts_utils\n",
    "\n",
    "# Statistical models\n",
    "from statsforecast import StatsForecast\n",
    "from statsforecast.models import Naive"
   ]
  },
  {
   "cell_type": "markdown",
   "id": "ad6f8e6e-32d8-4d05-a08e-ea0527147074",
   "metadata": {},
   "source": [
    "## 2. Data Preparation"
   ]
  },
  {
   "cell_type": "code",
   "execution_count": null,
   "id": "add6acc7-0fa8-43c0-8a32-dad8fccd91ae",
   "metadata": {
    "execution": {
     "iopub.execute_input": "2024-10-30T14:48:18.464982Z",
     "iopub.status.busy": "2024-10-30T14:48:18.464630Z",
     "iopub.status.idle": "2024-10-30T14:48:18.580334Z",
     "shell.execute_reply": "2024-10-30T14:48:18.579354Z",
     "shell.execute_reply.started": "2024-10-30T14:48:18.464958Z"
    },
    "tags": []
   },
   "outputs": [],
   "source": [
    "# Size of the data to read\n",
    "data_size = 'norm'\n",
    "\n",
    "# Date of the data to read\n",
    "data_date = '2110' # '1806' = 18th of June\n",
    "\n",
    "# Read the data (takes around 2 minutes)\n",
    "dataset = pd.read_csv(f\"~/Thesis/data/eod_balances_{data_date}_{data_size}.csv\")\n",
    "\n",
    "dataset"
   ]
  },
  {
   "cell_type": "code",
   "execution_count": null,
   "id": "5dab2f97-d9de-41f3-a175-26cb0d1f80da",
   "metadata": {
    "execution": {
     "iopub.execute_input": "2024-10-30T14:48:18.583159Z",
     "iopub.status.busy": "2024-10-30T14:48:18.582784Z",
     "iopub.status.idle": "2024-10-30T14:48:18.587384Z",
     "shell.execute_reply": "2024-10-30T14:48:18.586469Z",
     "shell.execute_reply.started": "2024-10-30T14:48:18.583134Z"
    }
   },
   "outputs": [],
   "source": [
    "# Create the timer\n",
    "timer = ts_utils.Timer()"
   ]
  },
  {
   "cell_type": "markdown",
   "id": "482501ea-e582-4e68-9496-2bd3dd97b62b",
   "metadata": {},
   "source": [
    "### 2.1 In-sample and Out-sample split"
   ]
  },
  {
   "cell_type": "code",
   "execution_count": null,
   "id": "f7f6d59e-6b84-4ef9-888c-d21885f5d4f3",
   "metadata": {
    "execution": {
     "iopub.execute_input": "2024-10-30T14:48:18.588790Z",
     "iopub.status.busy": "2024-10-30T14:48:18.588316Z",
     "iopub.status.idle": "2024-10-30T14:48:18.596648Z",
     "shell.execute_reply": "2024-10-30T14:48:18.595603Z",
     "shell.execute_reply.started": "2024-10-30T14:48:18.588750Z"
    },
    "tags": []
   },
   "outputs": [],
   "source": [
    "# Calculate total amount of timeseries\n",
    "num_timeseries = len(dataset.columns) - 1\n",
    "\n",
    "# Specify train test split percentage\n",
    "train_test_split = 0.8\n",
    "\n",
    "# Split into train and out of sample test data\n",
    "num_out_of_sample = int(train_test_split * num_timeseries)\n",
    "\n",
    "# Create in-sample dataframe\n",
    "in_sample_data = dataset.iloc[:, : num_out_of_sample + 1] # Training and testing\n",
    "\n",
    "# Create out-sample dataframe\n",
    "n = num_timeseries-num_out_of_sample\n",
    "columns_to_keep = dataset.columns[[0]].tolist() + dataset.columns[-n:].tolist()\n",
    "out_sample_data = dataset[columns_to_keep]"
   ]
  },
  {
   "cell_type": "markdown",
   "id": "2b5d652b-0658-48bb-b18f-0e8063c5c614",
   "metadata": {
    "execution": {
     "iopub.execute_input": "2024-07-02T11:29:41.908418Z",
     "iopub.status.busy": "2024-07-02T11:29:41.907853Z",
     "iopub.status.idle": "2024-07-02T11:29:41.912399Z",
     "shell.execute_reply": "2024-07-02T11:29:41.911460Z",
     "shell.execute_reply.started": "2024-07-02T11:29:41.908378Z"
    },
    "tags": []
   },
   "source": [
    "## 3. In-sample Analysis\n",
    "\n",
    "### 3.1 Train/Test splitting and plotting"
   ]
  },
  {
   "cell_type": "code",
   "execution_count": null,
   "id": "277a5b2d-72b7-4ad5-b7d6-d4d8f59cde11",
   "metadata": {
    "execution": {
     "iopub.execute_input": "2024-10-30T14:48:18.598070Z",
     "iopub.status.busy": "2024-10-30T14:48:18.597610Z",
     "iopub.status.idle": "2024-10-30T14:48:18.803398Z",
     "shell.execute_reply": "2024-10-30T14:48:18.802429Z",
     "shell.execute_reply.started": "2024-10-30T14:48:18.598031Z"
    }
   },
   "outputs": [],
   "source": [
    "# Change the data to the long format\n",
    "Y_df = in_sample_data.melt(id_vars=['date'], var_name='unique_id', value_name='y')\n",
    "Y_df = Y_df.rename(columns={'date':'ds'})\n",
    "\n",
    "# Convert date column to datetime type\n",
    "Y_df['ds'] = pd.to_datetime(Y_df['ds'])"
   ]
  },
  {
   "cell_type": "code",
   "execution_count": null,
   "id": "4322b608-3cb8-4c7d-bab2-f3566bce9a1d",
   "metadata": {
    "execution": {
     "iopub.execute_input": "2024-10-30T14:48:18.806997Z",
     "iopub.status.busy": "2024-10-30T14:48:18.806790Z",
     "iopub.status.idle": "2024-10-30T14:48:18.821381Z",
     "shell.execute_reply": "2024-10-30T14:48:18.820275Z",
     "shell.execute_reply.started": "2024-10-30T14:48:18.806975Z"
    }
   },
   "outputs": [],
   "source": [
    "# Define the horizon (12 months of 30 days each)\n",
    "fh = 30\n",
    "horizon = 12 * fh\n",
    "\n",
    "# Identify the unique dates in the dataset\n",
    "unique_dates = Y_df['ds'].unique()\n",
    "\n",
    "# Convert to a list and then sort the dates\n",
    "unique_dates = sorted(list(unique_dates))\n",
    "\n",
    "# Determine the cutoff date (cutoff at 12 months before the last date in the dataset)\n",
    "cutoff_date = unique_dates[-(horizon + 1)]\n",
    "\n",
    "# Training data: all data up to the cutoff date\n",
    "Y_train_df = Y_df[Y_df['ds'] <= cutoff_date]"
   ]
  },
  {
   "cell_type": "code",
   "execution_count": null,
   "id": "098353c8-c99f-4488-bdfe-bfc81376a870",
   "metadata": {
    "execution": {
     "iopub.execute_input": "2024-10-30T14:48:18.822467Z",
     "iopub.status.busy": "2024-10-30T14:48:18.822240Z",
     "iopub.status.idle": "2024-10-30T14:48:18.907480Z",
     "shell.execute_reply": "2024-10-30T14:48:18.906663Z",
     "shell.execute_reply.started": "2024-10-30T14:48:18.822444Z"
    }
   },
   "outputs": [],
   "source": [
    "# Initialize lists to store the input and test sets\n",
    "input_dfs = []\n",
    "test_dfs = []\n",
    "\n",
    "# Loop to create the 6 input and test sets\n",
    "for i in range(6):\n",
    "    # Determine the start date of the test period\n",
    "    test_start_date = unique_dates[-(horizon - i * 2 * fh)]\n",
    "    test_end_date = unique_dates[-(horizon - (i * 2 * fh) - fh)]\n",
    "    \n",
    "    # Input data: all data up to the start of the current test period\n",
    "    input_df = Y_df[Y_df['ds'] <= test_start_date]\n",
    "    input_dfs.append(input_df)\n",
    "    \n",
    "    # Test data: the 30-day period following the start of the test period\n",
    "    test_df = Y_df[(Y_df['ds'] > test_start_date) & (Y_df['ds'] <= test_end_date)]\n",
    "    test_dfs.append(test_df)\n",
    "\n",
    "# Define the 6 input periods\n",
    "Y_input_df_0 = input_dfs[0]\n",
    "Y_input_df_1 = input_dfs[1]\n",
    "Y_input_df_2 = input_dfs[2]\n",
    "Y_input_df_3 = input_dfs[3]\n",
    "Y_input_df_4 = input_dfs[4]\n",
    "Y_input_df_5 = input_dfs[5]\n",
    "\n",
    "# Define the 6 test periods\n",
    "Y_test_df_0 = test_dfs[0]\n",
    "Y_test_df_1 = test_dfs[1]\n",
    "Y_test_df_2 = test_dfs[2]\n",
    "Y_test_df_3 = test_dfs[3]\n",
    "Y_test_df_4 = test_dfs[4]\n",
    "Y_test_df_5 = test_dfs[5]"
   ]
  },
  {
   "cell_type": "code",
   "execution_count": null,
   "id": "d1551f7c-cb1b-456d-94a0-bc95ff5e29a9",
   "metadata": {
    "execution": {
     "iopub.execute_input": "2024-10-30T14:48:18.908490Z",
     "iopub.status.busy": "2024-10-30T14:48:18.908256Z",
     "iopub.status.idle": "2024-10-30T14:48:19.486374Z",
     "shell.execute_reply": "2024-10-30T14:48:19.484978Z",
     "shell.execute_reply.started": "2024-10-30T14:48:18.908467Z"
    }
   },
   "outputs": [],
   "source": [
    "# Timeserie to plot\n",
    "unique_id = '6'\n",
    "\n",
    "# Plot the train and test dataframes\n",
    "ts_utils.plot_train_test_split(Y_input_df_0, Y_test_df_0, unique_id)"
   ]
  },
  {
   "cell_type": "markdown",
   "id": "06dd1578-b6f0-4dd7-8476-434b24b2256c",
   "metadata": {
    "execution": {
     "iopub.execute_input": "2024-07-02T11:31:27.905068Z",
     "iopub.status.busy": "2024-07-02T11:31:27.903883Z",
     "iopub.status.idle": "2024-07-02T11:31:27.919741Z",
     "shell.execute_reply": "2024-07-02T11:31:27.916428Z",
     "shell.execute_reply.started": "2024-07-02T11:31:27.905004Z"
    },
    "tags": []
   },
   "source": [
    "### 3.2 Training and predicting"
   ]
  },
  {
   "cell_type": "code",
   "execution_count": null,
   "id": "90530fc8-10c3-4f0f-8f6f-e1b9f54bc408",
   "metadata": {
    "execution": {
     "iopub.execute_input": "2024-10-30T14:48:19.488238Z",
     "iopub.status.busy": "2024-10-30T14:48:19.487736Z",
     "iopub.status.idle": "2024-10-30T14:48:19.495581Z",
     "shell.execute_reply": "2024-10-30T14:48:19.493891Z",
     "shell.execute_reply.started": "2024-10-30T14:48:19.488194Z"
    },
    "tags": []
   },
   "outputs": [],
   "source": [
    "# Initialize the model\n",
    "naive_model_insample = StatsForecast(models=[Naive()], freq='D')"
   ]
  },
  {
   "cell_type": "code",
   "execution_count": null,
   "id": "934cc5ba-ca85-4790-ba89-c4b8ff27ad05",
   "metadata": {
    "execution": {
     "iopub.execute_input": "2024-10-30T14:48:19.497163Z",
     "iopub.status.busy": "2024-10-30T14:48:19.496787Z",
     "iopub.status.idle": "2024-10-30T14:48:26.531075Z",
     "shell.execute_reply": "2024-10-30T14:48:26.529819Z",
     "shell.execute_reply.started": "2024-10-30T14:48:19.497123Z"
    }
   },
   "outputs": [],
   "source": [
    "# Fit the model on first period\n",
    "naive_model_insample_0 = naive_model_insample.fit(df=Y_input_df_0)\n",
    "\n",
    "# Predict the first period\n",
    "naive_model_insample_pred_0 = naive_model_insample_0.predict(h=30)\n",
    "\n",
    "# Save the first period predictions\n",
    "naive_model_insample_pred_0.to_csv(f'~/Thesis/predictions/Naive/insample/period01/model_preds_{data_date}_{data_size}.csv', index=True)"
   ]
  },
  {
   "cell_type": "code",
   "execution_count": null,
   "id": "b2f9827f-3645-42bb-b241-a7ed5100ebae",
   "metadata": {
    "execution": {
     "iopub.execute_input": "2024-10-30T14:48:26.532540Z",
     "iopub.status.busy": "2024-10-30T14:48:26.532274Z",
     "iopub.status.idle": "2024-10-30T14:48:26.617071Z",
     "shell.execute_reply": "2024-10-30T14:48:26.615830Z",
     "shell.execute_reply.started": "2024-10-30T14:48:26.532511Z"
    }
   },
   "outputs": [],
   "source": [
    "# Fit the model on second period\n",
    "naive_model_insample_1 = naive_model_insample.fit(df=Y_input_df_1)\n",
    "\n",
    "# Predict the second period\n",
    "naive_model_insample_pred_1 = naive_model_insample_1.predict(h=30)\n",
    "\n",
    "# Save the second period predictions\n",
    "naive_model_insample_pred_1.to_csv(f'~/Thesis/predictions/Naive/insample/period02/model_preds_{data_date}_{data_size}.csv', index=True)"
   ]
  },
  {
   "cell_type": "code",
   "execution_count": null,
   "id": "98a9b97f-1463-4183-b22e-7374f6c4bcdf",
   "metadata": {
    "execution": {
     "iopub.execute_input": "2024-10-30T14:48:26.620740Z",
     "iopub.status.busy": "2024-10-30T14:48:26.620288Z",
     "iopub.status.idle": "2024-10-30T14:48:26.700124Z",
     "shell.execute_reply": "2024-10-30T14:48:26.698820Z",
     "shell.execute_reply.started": "2024-10-30T14:48:26.620712Z"
    }
   },
   "outputs": [],
   "source": [
    "# Fit the model on third period\n",
    "naive_model_insample_2 = naive_model_insample.fit(df=Y_input_df_2)\n",
    "\n",
    "# Predict the third period\n",
    "naive_model_insample_pred_2 = naive_model_insample_2.predict(h=30)\n",
    "\n",
    "# Save the third period predictions\n",
    "naive_model_insample_pred_2.to_csv(f'~/Thesis/predictions/Naive/insample/period03/model_preds_{data_date}_{data_size}.csv', index=True)"
   ]
  },
  {
   "cell_type": "code",
   "execution_count": null,
   "id": "c83aed2e-f433-4dee-b49c-7dd8afce9751",
   "metadata": {
    "execution": {
     "iopub.execute_input": "2024-10-30T14:48:26.701563Z",
     "iopub.status.busy": "2024-10-30T14:48:26.701185Z",
     "iopub.status.idle": "2024-10-30T14:48:26.784613Z",
     "shell.execute_reply": "2024-10-30T14:48:26.783465Z",
     "shell.execute_reply.started": "2024-10-30T14:48:26.701538Z"
    }
   },
   "outputs": [],
   "source": [
    "# Fit the model on fourth period\n",
    "naive_model_insample_3 = naive_model_insample.fit(df=Y_input_df_3)\n",
    "\n",
    "# Predict the fourth period\n",
    "naive_model_insample_pred_3 = naive_model_insample_3.predict(h=30)\n",
    "\n",
    "# Save the fourth period predictions\n",
    "naive_model_insample_pred_3.to_csv(f'~/Thesis/predictions/Naive/insample/period04/model_preds_{data_date}_{data_size}.csv', index=True)"
   ]
  },
  {
   "cell_type": "code",
   "execution_count": null,
   "id": "1ff9cfc6-1267-4403-8f3a-ec3f400784e2",
   "metadata": {
    "execution": {
     "iopub.execute_input": "2024-10-30T14:48:26.785987Z",
     "iopub.status.busy": "2024-10-30T14:48:26.785652Z",
     "iopub.status.idle": "2024-10-30T14:48:26.865071Z",
     "shell.execute_reply": "2024-10-30T14:48:26.863929Z",
     "shell.execute_reply.started": "2024-10-30T14:48:26.785963Z"
    }
   },
   "outputs": [],
   "source": [
    "# Fit the model on fifth period\n",
    "naive_model_insample_4 = naive_model_insample.fit(df=Y_input_df_4)\n",
    "\n",
    "# Predict the fifth period\n",
    "naive_model_insample_pred_4 = naive_model_insample_4.predict(h=30)\n",
    "\n",
    "# Save the fifth period predictions\n",
    "naive_model_insample_pred_4.to_csv(f'~/Thesis/predictions/Naive/insample/period05/model_preds_{data_date}_{data_size}.csv', index=True)"
   ]
  },
  {
   "cell_type": "code",
   "execution_count": null,
   "id": "ee2aa485-db1f-46c8-9857-11234892e941",
   "metadata": {
    "execution": {
     "iopub.execute_input": "2024-10-30T14:48:26.866361Z",
     "iopub.status.busy": "2024-10-30T14:48:26.866026Z",
     "iopub.status.idle": "2024-10-30T14:48:26.953902Z",
     "shell.execute_reply": "2024-10-30T14:48:26.952371Z",
     "shell.execute_reply.started": "2024-10-30T14:48:26.866337Z"
    }
   },
   "outputs": [],
   "source": [
    "# Fit the model on sixth period\n",
    "naive_model_insample_5 = naive_model_insample.fit(df=Y_input_df_5)\n",
    "\n",
    "# Predict the sixth period\n",
    "naive_model_insample_pred_5 = naive_model_insample_5.predict(h=30)\n",
    "\n",
    "# Save the sixth period predictions\n",
    "naive_model_insample_pred_5.to_csv(f'~/Thesis/predictions/Naive/insample/period06/model_preds_{data_date}_{data_size}.csv', index=True)"
   ]
  },
  {
   "cell_type": "markdown",
   "id": "fa7d5ac1-4e9d-4bd0-86eb-d096e01f8861",
   "metadata": {
    "execution": {
     "iopub.execute_input": "2024-07-02T12:29:25.127313Z",
     "iopub.status.busy": "2024-07-02T12:29:25.126418Z",
     "iopub.status.idle": "2024-07-02T12:29:25.133009Z",
     "shell.execute_reply": "2024-07-02T12:29:25.131580Z",
     "shell.execute_reply.started": "2024-07-02T12:29:25.127243Z"
    },
    "tags": []
   },
   "source": [
    "## 4. Out-of-sample Analysis\n",
    "\n",
    "### 4.1 Data Handling"
   ]
  },
  {
   "cell_type": "code",
   "execution_count": null,
   "id": "204418c2-9200-427f-92aa-182876a25ef4",
   "metadata": {
    "execution": {
     "iopub.execute_input": "2024-10-30T14:48:26.955626Z",
     "iopub.status.busy": "2024-10-30T14:48:26.955254Z",
     "iopub.status.idle": "2024-10-30T14:48:26.979625Z",
     "shell.execute_reply": "2024-10-30T14:48:26.978586Z",
     "shell.execute_reply.started": "2024-10-30T14:48:26.955600Z"
    }
   },
   "outputs": [],
   "source": [
    "# Change the data to the long format\n",
    "Y_df = out_sample_data.melt(id_vars=['date'], var_name='unique_id', value_name='y')\n",
    "Y_df = Y_df.rename(columns={'date':'ds'})\n",
    "\n",
    "# Convert date column to datetime type\n",
    "Y_df['ds'] = pd.to_datetime(Y_df['ds'])"
   ]
  },
  {
   "cell_type": "code",
   "execution_count": null,
   "id": "5c97d59d-c8d1-46c9-ae18-ebf413046dfa",
   "metadata": {
    "execution": {
     "iopub.execute_input": "2024-10-30T14:48:26.980920Z",
     "iopub.status.busy": "2024-10-30T14:48:26.980675Z",
     "iopub.status.idle": "2024-10-30T14:48:26.990256Z",
     "shell.execute_reply": "2024-10-30T14:48:26.988935Z",
     "shell.execute_reply.started": "2024-10-30T14:48:26.980897Z"
    }
   },
   "outputs": [],
   "source": [
    "# Define the horizon (12 months of 30 days each)\n",
    "fh = 30\n",
    "horizon = 12 * fh\n",
    "\n",
    "# Identify the unique dates in the dataset\n",
    "unique_dates = Y_df['ds'].unique()\n",
    "\n",
    "# Convert to a list and then sort the dates\n",
    "unique_dates = sorted(list(unique_dates))\n",
    "\n",
    "# Determine the cutoff date (cutoff at 12 months before the last date in the dataset)\n",
    "cutoff_date = unique_dates[-(horizon + 1)]\n",
    "\n",
    "# Training data: all data up to the cutoff date\n",
    "Y_train_df = Y_df[Y_df['ds'] <= cutoff_date]"
   ]
  },
  {
   "cell_type": "code",
   "execution_count": null,
   "id": "f25dcd31-ff89-4c47-bfb0-7c87409ed620",
   "metadata": {
    "execution": {
     "iopub.execute_input": "2024-10-30T14:48:26.991854Z",
     "iopub.status.busy": "2024-10-30T14:48:26.991439Z",
     "iopub.status.idle": "2024-10-30T14:48:27.018784Z",
     "shell.execute_reply": "2024-10-30T14:48:27.017163Z",
     "shell.execute_reply.started": "2024-10-30T14:48:26.991827Z"
    }
   },
   "outputs": [],
   "source": [
    "# Initialize lists to store the input and test sets\n",
    "input_dfs = []\n",
    "test_dfs = []\n",
    "\n",
    "# Loop to create the 6 input and test sets\n",
    "for i in range(6):\n",
    "    # Determine the start date of the test period\n",
    "    test_start_date = unique_dates[-(horizon - i * 2 * fh)]\n",
    "    test_end_date = unique_dates[-(horizon - (i * 2 * fh) - fh)]\n",
    "    \n",
    "    # Input data: all data up to the start of the current test period\n",
    "    input_df = Y_df[Y_df['ds'] <= test_start_date]\n",
    "    input_dfs.append(input_df)\n",
    "    \n",
    "    # Test data: the 30-day period following the start of the test period\n",
    "    test_df = Y_df[(Y_df['ds'] > test_start_date) & (Y_df['ds'] <= test_end_date)]\n",
    "    test_dfs.append(test_df)\n",
    "\n",
    "# Define the 6 input periods\n",
    "Y_input_df_0 = input_dfs[0]\n",
    "Y_input_df_1 = input_dfs[1]\n",
    "Y_input_df_2 = input_dfs[2]\n",
    "Y_input_df_3 = input_dfs[3]\n",
    "Y_input_df_4 = input_dfs[4]\n",
    "Y_input_df_5 = input_dfs[5]\n",
    "\n",
    "# Define the 6 test periods\n",
    "Y_test_df_0 = test_dfs[0]\n",
    "Y_test_df_1 = test_dfs[1]\n",
    "Y_test_df_2 = test_dfs[2]\n",
    "Y_test_df_3 = test_dfs[3]\n",
    "Y_test_df_4 = test_dfs[4]\n",
    "Y_test_df_5 = test_dfs[5]"
   ]
  },
  {
   "cell_type": "code",
   "execution_count": null,
   "id": "7cbb71ba-8cc1-43b1-ad4c-6dbb55c73a9c",
   "metadata": {
    "execution": {
     "iopub.execute_input": "2024-10-30T14:48:27.020639Z",
     "iopub.status.busy": "2024-10-30T14:48:27.020163Z",
     "iopub.status.idle": "2024-10-30T14:48:27.550983Z",
     "shell.execute_reply": "2024-10-30T14:48:27.550207Z",
     "shell.execute_reply.started": "2024-10-30T14:48:27.020606Z"
    }
   },
   "outputs": [],
   "source": [
    "# Timeserie to plot\n",
    "unique_id = Y_train_df['unique_id'][0]\n",
    "\n",
    "# Plot the train and test dataframes\n",
    "ts_utils.plot_train_test_split(Y_train_df, Y_test_df_0, unique_id)"
   ]
  },
  {
   "cell_type": "markdown",
   "id": "d2e1ef80-95a3-494d-9e8a-09d4c1585afa",
   "metadata": {},
   "source": [
    "### 4.2 Retrieve Predictions"
   ]
  },
  {
   "cell_type": "code",
   "execution_count": null,
   "id": "cae5745e-eeb1-4e2b-801d-2c8e1e22351a",
   "metadata": {
    "execution": {
     "iopub.execute_input": "2024-10-30T14:48:27.551983Z",
     "iopub.status.busy": "2024-10-30T14:48:27.551756Z",
     "iopub.status.idle": "2024-10-30T14:48:27.556504Z",
     "shell.execute_reply": "2024-10-30T14:48:27.555700Z",
     "shell.execute_reply.started": "2024-10-30T14:48:27.551960Z"
    }
   },
   "outputs": [],
   "source": [
    "# Initialize the model\n",
    "naive_model_outsample = StatsForecast(models=[Naive()], freq='D')"
   ]
  },
  {
   "cell_type": "code",
   "execution_count": null,
   "id": "b68f409b-f887-4dfe-85a1-7af245b09e06",
   "metadata": {
    "execution": {
     "iopub.execute_input": "2024-10-30T14:48:27.557428Z",
     "iopub.status.busy": "2024-10-30T14:48:27.557201Z",
     "iopub.status.idle": "2024-10-30T14:48:27.581789Z",
     "shell.execute_reply": "2024-10-30T14:48:27.581011Z",
     "shell.execute_reply.started": "2024-10-30T14:48:27.557390Z"
    }
   },
   "outputs": [],
   "source": [
    "# Fit the model on first period\n",
    "naive_model_outsample_0 = naive_model_outsample.fit(df=Y_input_df_0)\n",
    "\n",
    "# Predict the first period\n",
    "naive_model_outsample_pred_0 = naive_model_outsample_0.predict(h=30)\n",
    "\n",
    "# Save the first period predictions\n",
    "naive_model_outsample_pred_0.to_csv(f'~/Thesis/predictions/Naive/outsample/period01/model_preds_{data_date}_{data_size}.csv', index=True)"
   ]
  },
  {
   "cell_type": "code",
   "execution_count": null,
   "id": "f55ed07d-37a7-458c-8e18-e0728ef27f6d",
   "metadata": {
    "execution": {
     "iopub.execute_input": "2024-10-30T14:48:27.582846Z",
     "iopub.status.busy": "2024-10-30T14:48:27.582567Z",
     "iopub.status.idle": "2024-10-30T14:48:27.610874Z",
     "shell.execute_reply": "2024-10-30T14:48:27.610036Z",
     "shell.execute_reply.started": "2024-10-30T14:48:27.582817Z"
    },
    "tags": []
   },
   "outputs": [],
   "source": [
    "# Fit the model on second period\n",
    "naive_model_outsample_1 = naive_model_outsample.fit(df=Y_input_df_1)\n",
    "\n",
    "# Predict the second period\n",
    "naive_model_outsample_pred_1 = naive_model_outsample_1.predict(h=30)\n",
    "\n",
    "# Save the second period predictions\n",
    "naive_model_outsample_pred_1.to_csv(f'~/Thesis/predictions/Naive/outsample/period02/model_preds_{data_date}_{data_size}.csv', index=True)"
   ]
  },
  {
   "cell_type": "code",
   "execution_count": null,
   "id": "9096bf06-ba13-4a08-977b-34e24a3c1c6e",
   "metadata": {
    "execution": {
     "iopub.execute_input": "2024-10-30T14:48:27.611878Z",
     "iopub.status.busy": "2024-10-30T14:48:27.611651Z",
     "iopub.status.idle": "2024-10-30T14:48:27.635875Z",
     "shell.execute_reply": "2024-10-30T14:48:27.635026Z",
     "shell.execute_reply.started": "2024-10-30T14:48:27.611854Z"
    }
   },
   "outputs": [],
   "source": [
    "# Fit the model on third period\n",
    "naive_model_outsample_2 = naive_model_outsample.fit(df=Y_input_df_2)\n",
    "\n",
    "# Predict the third period\n",
    "naive_model_outsample_pred_2 = naive_model_outsample_2.predict(h=30)\n",
    "\n",
    "# Save the third period predictions\n",
    "naive_model_outsample_pred_2.to_csv(f'~/Thesis/predictions/Naive/outsample/period03/model_preds_{data_date}_{data_size}.csv', index=True)"
   ]
  },
  {
   "cell_type": "code",
   "execution_count": null,
   "id": "36898d78-3b87-4e3f-8c54-68824e8b1fc8",
   "metadata": {
    "execution": {
     "iopub.execute_input": "2024-10-30T14:48:27.636892Z",
     "iopub.status.busy": "2024-10-30T14:48:27.636668Z",
     "iopub.status.idle": "2024-10-30T14:48:27.661187Z",
     "shell.execute_reply": "2024-10-30T14:48:27.660360Z",
     "shell.execute_reply.started": "2024-10-30T14:48:27.636868Z"
    }
   },
   "outputs": [],
   "source": [
    "# Fit the model on fourth period\n",
    "naive_model_outsample_3 = naive_model_outsample.fit(df=Y_input_df_3)\n",
    "\n",
    "# Predict the fourth period\n",
    "naive_model_outsample_pred_3 = naive_model_outsample_3.predict(h=30)\n",
    "\n",
    "# Save the fourth period predictions\n",
    "naive_model_outsample_pred_3.to_csv(f'~/Thesis/predictions/Naive/outsample/period04/model_preds_{data_date}_{data_size}.csv', index=True)"
   ]
  },
  {
   "cell_type": "code",
   "execution_count": null,
   "id": "c61c467e-5d7a-42e5-8868-7b800f36157a",
   "metadata": {
    "execution": {
     "iopub.execute_input": "2024-10-30T14:48:27.662380Z",
     "iopub.status.busy": "2024-10-30T14:48:27.661987Z",
     "iopub.status.idle": "2024-10-30T14:48:27.686710Z",
     "shell.execute_reply": "2024-10-30T14:48:27.685915Z",
     "shell.execute_reply.started": "2024-10-30T14:48:27.662356Z"
    }
   },
   "outputs": [],
   "source": [
    "# Fit the model on fifth period\n",
    "naive_model_outsample_4 = naive_model_outsample.fit(df=Y_input_df_4)\n",
    "\n",
    "# Predict the fifth period\n",
    "naive_model_outsample_pred_4 = naive_model_outsample_4.predict(h=30)\n",
    "\n",
    "# Save the fifth period predictions\n",
    "naive_model_outsample_pred_4.to_csv(f'~/Thesis/predictions/Naive/outsample/period05/model_preds_{data_date}_{data_size}.csv', index=True)"
   ]
  },
  {
   "cell_type": "code",
   "execution_count": null,
   "id": "0d24a503-de6b-444f-8097-47297e4af5f6",
   "metadata": {
    "execution": {
     "iopub.execute_input": "2024-10-30T14:48:27.687692Z",
     "iopub.status.busy": "2024-10-30T14:48:27.687470Z",
     "iopub.status.idle": "2024-10-30T14:48:27.712621Z",
     "shell.execute_reply": "2024-10-30T14:48:27.711954Z",
     "shell.execute_reply.started": "2024-10-30T14:48:27.687669Z"
    }
   },
   "outputs": [],
   "source": [
    "# Fit the model on sixth period\n",
    "naive_model_outsample_5 = naive_model_outsample.fit(df=Y_input_df_5)\n",
    "\n",
    "# Predict the sixth period\n",
    "naive_model_outsample_pred_5 = naive_model_outsample_5.predict(h=30)\n",
    "\n",
    "# Save the sixth period predictions\n",
    "naive_model_outsample_pred_5.to_csv(f'~/Thesis/predictions/Naive/outsample/period06/model_preds_{data_date}_{data_size}.csv', index=True)"
   ]
  },
  {
   "cell_type": "code",
   "execution_count": null,
   "id": "95c3c423-6204-480c-bf0d-822a8cd1fd04",
   "metadata": {},
   "outputs": [],
   "source": []
  },
  {
   "cell_type": "code",
   "execution_count": null,
   "id": "f16fa82e-0ebd-4eb2-9455-a4ad05dc95f3",
   "metadata": {},
   "outputs": [],
   "source": []
  }
 ],
 "metadata": {
  "kernelspec": {
   "display_name": "DAP Environment",
   "language": "python",
   "name": "dap-env"
  },
  "language_info": {
   "codemirror_mode": {
    "name": "ipython",
    "version": 3
   },
   "file_extension": ".py",
   "mimetype": "text/x-python",
   "name": "python",
   "nbconvert_exporter": "python",
   "pygments_lexer": "ipython3",
   "version": "3.10.14"
  }
 },
 "nbformat": 4,
 "nbformat_minor": 5
}
