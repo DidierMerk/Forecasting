{
 "cells": [
  {
   "cell_type": "markdown",
   "id": "34298caf-b555-49b2-9674-1ce175f5e9b3",
   "metadata": {},
   "source": [
    "# Timeseries Forecasting (Chronos-small model)\n",
    "\n",
    "## 1. Installing dependencies"
   ]
  },
  {
   "cell_type": "code",
   "execution_count": null,
   "id": "9be02da8-c0d8-4aa5-a522-88c20c550602",
   "metadata": {
    "execution": {
     "iopub.execute_input": "2024-10-30T12:52:21.324484Z",
     "iopub.status.busy": "2024-10-30T12:52:21.323461Z",
     "iopub.status.idle": "2024-10-30T12:52:21.331945Z",
     "shell.execute_reply": "2024-10-30T12:52:21.330737Z",
     "shell.execute_reply.started": "2024-10-30T12:52:21.324376Z"
    },
    "tags": []
   },
   "outputs": [],
   "source": [
    "# !pip install autogluon.timeseries "
   ]
  },
  {
   "cell_type": "code",
   "execution_count": null,
   "id": "7a1ef60b-97e2-40e2-9d6c-f4c8a676dd23",
   "metadata": {
    "execution": {
     "iopub.execute_input": "2024-10-30T12:52:21.333702Z",
     "iopub.status.busy": "2024-10-30T12:52:21.333211Z",
     "iopub.status.idle": "2024-10-30T12:52:23.835029Z",
     "shell.execute_reply": "2024-10-30T12:52:23.833894Z",
     "shell.execute_reply.started": "2024-10-30T12:52:21.333661Z"
    },
    "tags": []
   },
   "outputs": [],
   "source": [
    "import pandas as pd\n",
    "\n",
    "# Some functions for plotting and stuff\n",
    "import utils as ts_utils\n",
    "\n",
    "# Foundation models\n",
    "from autogluon.timeseries import TimeSeriesDataFrame, TimeSeriesPredictor"
   ]
  },
  {
   "cell_type": "markdown",
   "id": "ad6f8e6e-32d8-4d05-a08e-ea0527147074",
   "metadata": {},
   "source": [
    "## 2. Data Preparation"
   ]
  },
  {
   "cell_type": "code",
   "execution_count": null,
   "id": "add6acc7-0fa8-43c0-8a32-dad8fccd91ae",
   "metadata": {
    "execution": {
     "iopub.execute_input": "2024-10-30T12:52:23.836355Z",
     "iopub.status.busy": "2024-10-30T12:52:23.835790Z",
     "iopub.status.idle": "2024-10-30T12:52:23.963578Z",
     "shell.execute_reply": "2024-10-30T12:52:23.962444Z",
     "shell.execute_reply.started": "2024-10-30T12:52:23.836329Z"
    },
    "tags": []
   },
   "outputs": [],
   "source": [
    "# Size of the data to read\n",
    "data_size = 'norm'\n",
    "\n",
    "# Date of the data to read\n",
    "data_date = '2110' # '1806' = 18th of June\n",
    "\n",
    "# Read the data (takes around 2 minutes)\n",
    "dataset = pd.read_csv(f\"~/Thesis/data/eod_balances_{data_date}_{data_size}.csv\")\n",
    "\n",
    "dataset"
   ]
  },
  {
   "cell_type": "code",
   "execution_count": null,
   "id": "7b5806e6-7bd1-40b2-b8a4-462cf56e60e6",
   "metadata": {
    "execution": {
     "iopub.execute_input": "2024-10-30T12:52:23.964914Z",
     "iopub.status.busy": "2024-10-30T12:52:23.964600Z",
     "iopub.status.idle": "2024-10-30T12:52:23.970171Z",
     "shell.execute_reply": "2024-10-30T12:52:23.968856Z",
     "shell.execute_reply.started": "2024-10-30T12:52:23.964873Z"
    },
    "tags": []
   },
   "outputs": [],
   "source": [
    "# Create the timer\n",
    "timer = ts_utils.Timer()"
   ]
  },
  {
   "cell_type": "markdown",
   "id": "482501ea-e582-4e68-9496-2bd3dd97b62b",
   "metadata": {},
   "source": [
    "### 2.1 In-sample and Out-sample split"
   ]
  },
  {
   "cell_type": "code",
   "execution_count": null,
   "id": "f7f6d59e-6b84-4ef9-888c-d21885f5d4f3",
   "metadata": {
    "execution": {
     "iopub.execute_input": "2024-10-30T12:52:23.971404Z",
     "iopub.status.busy": "2024-10-30T12:52:23.971133Z",
     "iopub.status.idle": "2024-10-30T12:52:23.980657Z",
     "shell.execute_reply": "2024-10-30T12:52:23.979720Z",
     "shell.execute_reply.started": "2024-10-30T12:52:23.971376Z"
    },
    "tags": []
   },
   "outputs": [],
   "source": [
    "# Calculate total amount of timeseries\n",
    "num_timeseries = len(dataset.columns) - 1\n",
    "\n",
    "# Specify train test split percentage\n",
    "train_test_split = 0.8\n",
    "\n",
    "# Split into train and out of sample test data\n",
    "num_out_of_sample = int(train_test_split * num_timeseries)\n",
    "\n",
    "# Create in-sample dataframe\n",
    "in_sample_data = dataset.iloc[:, : num_out_of_sample + 1] # Training and testing\n",
    "\n",
    "# Create out-sample dataframe\n",
    "n = num_timeseries-num_out_of_sample\n",
    "columns_to_keep = dataset.columns[[0]].tolist() + dataset.columns[-n:].tolist()\n",
    "out_sample_data = dataset[columns_to_keep]"
   ]
  },
  {
   "cell_type": "markdown",
   "id": "2b5d652b-0658-48bb-b18f-0e8063c5c614",
   "metadata": {
    "execution": {
     "iopub.execute_input": "2024-07-02T11:29:41.908418Z",
     "iopub.status.busy": "2024-07-02T11:29:41.907853Z",
     "iopub.status.idle": "2024-07-02T11:29:41.912399Z",
     "shell.execute_reply": "2024-07-02T11:29:41.911460Z",
     "shell.execute_reply.started": "2024-07-02T11:29:41.908378Z"
    },
    "tags": []
   },
   "source": [
    "## 3. In-sample Analysis\n",
    "\n",
    "### 3.1 Train/Test splitting and plotting"
   ]
  },
  {
   "cell_type": "code",
   "execution_count": null,
   "id": "517dd6c2-ced4-4024-97ba-76a562b1aea6",
   "metadata": {
    "execution": {
     "iopub.execute_input": "2024-10-30T12:52:23.983558Z",
     "iopub.status.busy": "2024-10-30T12:52:23.983327Z",
     "iopub.status.idle": "2024-10-30T12:52:24.054104Z",
     "shell.execute_reply": "2024-10-30T12:52:24.052974Z",
     "shell.execute_reply.started": "2024-10-30T12:52:23.983536Z"
    }
   },
   "outputs": [],
   "source": [
    "# Change the data to the long format\n",
    "Y_df = in_sample_data.melt(id_vars=['date'], var_name='unique_id', value_name='y')\n",
    "Y_df = Y_df.rename(columns={'date':'ds'})\n",
    "\n",
    "# Convert date column to datetime type\n",
    "Y_df['ds'] = pd.to_datetime(Y_df['ds'])"
   ]
  },
  {
   "cell_type": "code",
   "execution_count": null,
   "id": "4f065720-838a-454a-82df-e71a23d685da",
   "metadata": {
    "execution": {
     "iopub.execute_input": "2024-10-30T12:52:24.055594Z",
     "iopub.status.busy": "2024-10-30T12:52:24.055323Z",
     "iopub.status.idle": "2024-10-30T12:52:24.070651Z",
     "shell.execute_reply": "2024-10-30T12:52:24.069312Z",
     "shell.execute_reply.started": "2024-10-30T12:52:24.055570Z"
    }
   },
   "outputs": [],
   "source": [
    "# Define the horizon (12 months of 30 days each)\n",
    "fh = 30\n",
    "horizon = 12 * fh\n",
    "\n",
    "# Identify the unique dates in the dataset\n",
    "unique_dates = Y_df['ds'].unique()\n",
    "\n",
    "# Convert to a list and then sort the dates\n",
    "unique_dates = sorted(list(unique_dates))\n",
    "\n",
    "# Determine the cutoff date (cutoff at 12 months before the last date in the dataset)\n",
    "cutoff_date = unique_dates[-(horizon + 1)]\n",
    "\n",
    "# Training data: all data up to the cutoff date\n",
    "Y_train_df = Y_df[Y_df['ds'] <= cutoff_date]"
   ]
  },
  {
   "cell_type": "code",
   "execution_count": null,
   "id": "6c9e788d-445d-4078-9ea8-d6df38ff2bd8",
   "metadata": {
    "execution": {
     "iopub.execute_input": "2024-10-30T12:52:24.073033Z",
     "iopub.status.busy": "2024-10-30T12:52:24.072299Z",
     "iopub.status.idle": "2024-10-30T12:52:24.145360Z",
     "shell.execute_reply": "2024-10-30T12:52:24.144208Z",
     "shell.execute_reply.started": "2024-10-30T12:52:24.072972Z"
    }
   },
   "outputs": [],
   "source": [
    "# Initialize lists to store the input and test sets\n",
    "input_dfs = []\n",
    "test_dfs = []\n",
    "\n",
    "# Loop to create the 6 input and test sets\n",
    "for i in range(6):\n",
    "    # Determine the start date of the test period\n",
    "    test_start_date = unique_dates[-(horizon - i * 2 * fh)]\n",
    "    test_end_date = unique_dates[-(horizon - (i * 2 * fh) - fh)]\n",
    "    \n",
    "    # Input data: all data up to the start of the current test period\n",
    "    input_df = Y_df[Y_df['ds'] <= test_start_date]\n",
    "    input_dfs.append(input_df)\n",
    "    \n",
    "    # Test data: the 30-day period following the start of the test period\n",
    "    test_df = Y_df[(Y_df['ds'] > test_start_date) & (Y_df['ds'] <= test_end_date)]\n",
    "    test_dfs.append(test_df)"
   ]
  },
  {
   "cell_type": "markdown",
   "id": "9a5205d0-8db3-45df-bc90-a42310a848f2",
   "metadata": {},
   "source": [
    "### 3.2 Rename columns for chronos specific data handling"
   ]
  },
  {
   "cell_type": "code",
   "execution_count": null,
   "id": "4a0bdb63-987c-4253-9108-f9a7fdf6e11a",
   "metadata": {
    "execution": {
     "iopub.execute_input": "2024-10-30T12:52:24.146668Z",
     "iopub.status.busy": "2024-10-30T12:52:24.146437Z",
     "iopub.status.idle": "2024-10-30T12:52:24.152900Z",
     "shell.execute_reply": "2024-10-30T12:52:24.151857Z",
     "shell.execute_reply.started": "2024-10-30T12:52:24.146645Z"
    }
   },
   "outputs": [],
   "source": [
    "# For the Chronos model we need to rename some columns\n",
    "Y_train_df_chronos = Y_train_df.rename(columns={\"ds\": \"timestamp\", \"unique_id\": \"item_id\", \"y\": \"target\"})"
   ]
  },
  {
   "cell_type": "code",
   "execution_count": null,
   "id": "5d1354a1-cf52-4290-9655-28f4ba5e11f7",
   "metadata": {
    "execution": {
     "iopub.execute_input": "2024-10-30T12:52:24.157810Z",
     "iopub.status.busy": "2024-10-30T12:52:24.157466Z",
     "iopub.status.idle": "2024-10-30T12:52:24.576881Z",
     "shell.execute_reply": "2024-10-30T12:52:24.575752Z",
     "shell.execute_reply.started": "2024-10-30T12:52:24.157781Z"
    }
   },
   "outputs": [],
   "source": [
    "# Define the 6 input periods\n",
    "Y_input_df_0 = TimeSeriesDataFrame(input_dfs[0].rename(columns={\"ds\": \"timestamp\", \"unique_id\": \"item_id\", \"y\": \"target\"}))\n",
    "Y_input_df_1 = TimeSeriesDataFrame(input_dfs[1].rename(columns={\"ds\": \"timestamp\", \"unique_id\": \"item_id\", \"y\": \"target\"}))\n",
    "Y_input_df_2 = TimeSeriesDataFrame(input_dfs[2].rename(columns={\"ds\": \"timestamp\", \"unique_id\": \"item_id\", \"y\": \"target\"}))\n",
    "Y_input_df_3 = TimeSeriesDataFrame(input_dfs[3].rename(columns={\"ds\": \"timestamp\", \"unique_id\": \"item_id\", \"y\": \"target\"}))\n",
    "Y_input_df_4 = TimeSeriesDataFrame(input_dfs[4].rename(columns={\"ds\": \"timestamp\", \"unique_id\": \"item_id\", \"y\": \"target\"}))\n",
    "Y_input_df_5 = TimeSeriesDataFrame(input_dfs[5].rename(columns={\"ds\": \"timestamp\", \"unique_id\": \"item_id\", \"y\": \"target\"}))\n",
    "\n",
    "# Define the 6 test periods\n",
    "Y_test_df_0 = TimeSeriesDataFrame(test_dfs[0].rename(columns={\"ds\": \"timestamp\", \"unique_id\": \"item_id\", \"y\": \"target\"}))\n",
    "Y_test_df_1 = TimeSeriesDataFrame(test_dfs[1].rename(columns={\"ds\": \"timestamp\", \"unique_id\": \"item_id\", \"y\": \"target\"}))\n",
    "Y_test_df_2 = TimeSeriesDataFrame(test_dfs[2].rename(columns={\"ds\": \"timestamp\", \"unique_id\": \"item_id\", \"y\": \"target\"}))\n",
    "Y_test_df_3 = TimeSeriesDataFrame(test_dfs[3].rename(columns={\"ds\": \"timestamp\", \"unique_id\": \"item_id\", \"y\": \"target\"}))\n",
    "Y_test_df_4 = TimeSeriesDataFrame(test_dfs[4].rename(columns={\"ds\": \"timestamp\", \"unique_id\": \"item_id\", \"y\": \"target\"}))\n",
    "Y_test_df_5 = TimeSeriesDataFrame(test_dfs[5].rename(columns={\"ds\": \"timestamp\", \"unique_id\": \"item_id\", \"y\": \"target\"}))"
   ]
  },
  {
   "cell_type": "code",
   "execution_count": null,
   "id": "41dec160-0108-4adf-b95a-5d97be2ae9d7",
   "metadata": {
    "execution": {
     "iopub.execute_input": "2024-10-30T12:52:24.591353Z",
     "iopub.status.busy": "2024-10-30T12:52:24.579302Z",
     "iopub.status.idle": "2024-10-30T12:52:25.123185Z",
     "shell.execute_reply": "2024-10-30T12:52:25.122550Z",
     "shell.execute_reply.started": "2024-10-30T12:52:24.591235Z"
    }
   },
   "outputs": [],
   "source": [
    "# Timeserie to plot\n",
    "unique_id = '6'\n",
    "\n",
    "# Plot the train and test dataframes\n",
    "ts_utils.plot_train_test_split(input_dfs[0], test_dfs[0], unique_id)"
   ]
  },
  {
   "cell_type": "markdown",
   "id": "06dd1578-b6f0-4dd7-8476-434b24b2256c",
   "metadata": {
    "execution": {
     "iopub.execute_input": "2024-07-02T11:31:27.905068Z",
     "iopub.status.busy": "2024-07-02T11:31:27.903883Z",
     "iopub.status.idle": "2024-07-02T11:31:27.919741Z",
     "shell.execute_reply": "2024-07-02T11:31:27.916428Z",
     "shell.execute_reply.started": "2024-07-02T11:31:27.905004Z"
    },
    "tags": []
   },
   "source": [
    "### 3.2 Training (in this case it means nothing)"
   ]
  },
  {
   "cell_type": "code",
   "execution_count": null,
   "id": "90530fc8-10c3-4f0f-8f6f-e1b9f54bc408",
   "metadata": {
    "execution": {
     "iopub.execute_input": "2024-10-30T12:52:25.124174Z",
     "iopub.status.busy": "2024-10-30T12:52:25.123892Z",
     "iopub.status.idle": "2024-10-30T12:52:27.612017Z",
     "shell.execute_reply": "2024-10-30T12:52:27.610941Z",
     "shell.execute_reply.started": "2024-10-30T12:52:25.124151Z"
    },
    "tags": []
   },
   "outputs": [],
   "source": [
    "# Set the horizon\n",
    "horizon = 30\n",
    "\n",
    "timer.record_timestamp(\"start_train\")\n",
    "\n",
    "# Initialize the chronos model\n",
    "predictor_insample = TimeSeriesPredictor(\n",
    "    prediction_length=horizon,\n",
    "    path=\"chronos-model-runs/chronos-small-model\",\n",
    "    target=\"target\",\n",
    "    eval_metric=\"MASE\")\n",
    "\n",
    "# Fit the model\n",
    "predictor_insample.fit(Y_train_df_chronos,\n",
    "              presets='chronos_small',\n",
    "              time_limit=60,\n",
    "             )\n",
    "\n",
    "timer.record_timestamp(\"end_train\")"
   ]
  },
  {
   "cell_type": "markdown",
   "id": "73b517b2-e558-457b-b67f-37288ed21cf1",
   "metadata": {},
   "source": [
    "### 3.3 Predicting (in this case it means nothing)"
   ]
  },
  {
   "cell_type": "code",
   "execution_count": null,
   "id": "e8509d3f-72fe-4864-ba4b-bed1939540b1",
   "metadata": {
    "execution": {
     "iopub.execute_input": "2024-10-30T12:52:27.613858Z",
     "iopub.status.busy": "2024-10-30T12:52:27.613142Z",
     "iopub.status.idle": "2024-10-30T12:52:27.620472Z",
     "shell.execute_reply": "2024-10-30T12:52:27.619371Z",
     "shell.execute_reply.started": "2024-10-30T12:52:27.613822Z"
    }
   },
   "outputs": [],
   "source": [
    "# Function that renames the columns correctly\n",
    "def rename_confidence_intervals(df):\n",
    "    # Remove the 0.5 column if it exists\n",
    "    if '0.5' in df.columns:\n",
    "        df = df.drop(columns=['0.5'])\n",
    "    \n",
    "    # Create mapping dictionary\n",
    "    mapping = {\n",
    "        '0.1': 'Chronos-small-lo-90',\n",
    "        '0.2': 'Chronos-small-lo-80',\n",
    "        '0.3': 'Chronos-small-lo-70',\n",
    "        '0.4': 'Chronos-small-lo-60',\n",
    "        '0.6': 'Chronos-small-hi-60',\n",
    "        '0.7': 'Chronos-small-hi-70',\n",
    "        '0.8': 'Chronos-small-hi-80',\n",
    "        '0.9': 'Chronos-small-hi-90'\n",
    "    }\n",
    "    \n",
    "    # Rename columns\n",
    "    return df.rename(columns=mapping)"
   ]
  },
  {
   "cell_type": "code",
   "execution_count": null,
   "id": "66060dc5-e049-4c58-a49e-25b038baa359",
   "metadata": {
    "execution": {
     "iopub.execute_input": "2024-10-30T12:52:27.621846Z",
     "iopub.status.busy": "2024-10-30T12:52:27.621466Z",
     "iopub.status.idle": "2024-10-30T12:52:45.256981Z",
     "shell.execute_reply": "2024-10-30T12:52:45.256045Z",
     "shell.execute_reply.started": "2024-10-30T12:52:27.621816Z"
    }
   },
   "outputs": [],
   "source": [
    "timer.record_timestamp(\"start_inference\")\n",
    "\n",
    "# Make the predictions\n",
    "chronos_model_insample_preds_0 = predictor_insample.predict(Y_input_df_0)\n",
    "\n",
    "timer.record_timestamp(\"end_inference\")\n",
    "\n",
    "# Change predictions df to correct format\n",
    "chronos_model_insample_preds_0 = rename_confidence_intervals(\n",
    "    chronos_model_insample_preds_0.reset_index().rename(columns={'item_id': 'unique_id', 'timestamp': 'ds', 'mean': 'Chronos-small'})\n",
    ")\n",
    "\n",
    "# Save the predictions of the first period\n",
    "chronos_model_insample_preds_0.to_csv(f'~/Thesis/predictions/Chronos-small/insample/period01/model_preds_{data_date}_{data_size}.csv', index=False)"
   ]
  },
  {
   "cell_type": "code",
   "execution_count": null,
   "id": "7b4dd763-6628-476f-97db-44119fabc1d0",
   "metadata": {
    "execution": {
     "iopub.execute_input": "2024-10-30T12:52:45.258040Z",
     "iopub.status.busy": "2024-10-30T12:52:45.257807Z",
     "iopub.status.idle": "2024-10-30T12:53:00.012344Z",
     "shell.execute_reply": "2024-10-30T12:53:00.011450Z",
     "shell.execute_reply.started": "2024-10-30T12:52:45.258017Z"
    }
   },
   "outputs": [],
   "source": [
    "# Make the predictions for the second period\n",
    "chronos_model_insample_preds_1 = predictor_insample.predict(Y_input_df_1)\n",
    "\n",
    "# Change predictions df to correct format\n",
    "chronos_model_insample_preds_1 = rename_confidence_intervals(\n",
    "    chronos_model_insample_preds_1.reset_index().rename(columns={'item_id': 'unique_id', 'timestamp': 'ds', 'mean': 'Chronos-small'})\n",
    ")\n",
    "\n",
    "# Save the predictions of the second period\n",
    "chronos_model_insample_preds_1.to_csv(f'~/Thesis/predictions/Chronos-small/insample/period02/model_preds_{data_date}_{data_size}.csv', index=False)"
   ]
  },
  {
   "cell_type": "code",
   "execution_count": null,
   "id": "aa210e84-c3d7-49c0-9404-241d65885a7b",
   "metadata": {
    "execution": {
     "iopub.execute_input": "2024-10-30T12:53:00.013544Z",
     "iopub.status.busy": "2024-10-30T12:53:00.013166Z",
     "iopub.status.idle": "2024-10-30T12:53:10.809149Z",
     "shell.execute_reply": "2024-10-30T12:53:10.808010Z",
     "shell.execute_reply.started": "2024-10-30T12:53:00.013520Z"
    }
   },
   "outputs": [],
   "source": [
    "# Make the predictions for the third period\n",
    "chronos_model_insample_preds_2 = predictor_insample.predict(Y_input_df_2)\n",
    "\n",
    "# Change predictions df to correct format\n",
    "chronos_model_insample_preds_2 = rename_confidence_intervals(\n",
    "    chronos_model_insample_preds_2.reset_index().rename(columns={'item_id': 'unique_id', 'timestamp': 'ds', 'mean': 'Chronos-small'})\n",
    ")\n",
    "\n",
    "# Save the predictions of the third period\n",
    "chronos_model_insample_preds_2.to_csv(f'~/Thesis/predictions/Chronos-small/insample/period03/model_preds_{data_date}_{data_size}.csv', index=False)"
   ]
  },
  {
   "cell_type": "code",
   "execution_count": null,
   "id": "804e506c-0577-4cb9-ab51-3de29e055641",
   "metadata": {
    "execution": {
     "iopub.execute_input": "2024-10-30T12:53:10.810919Z",
     "iopub.status.busy": "2024-10-30T12:53:10.810466Z",
     "iopub.status.idle": "2024-10-30T12:53:23.709558Z",
     "shell.execute_reply": "2024-10-30T12:53:23.707954Z",
     "shell.execute_reply.started": "2024-10-30T12:53:10.810877Z"
    }
   },
   "outputs": [],
   "source": [
    "# Make the predictions for the fourth period\n",
    "chronos_model_insample_preds_3 = predictor_insample.predict(Y_input_df_3)\n",
    "\n",
    "# Change predictions df to correct format\n",
    "chronos_model_insample_preds_3 = rename_confidence_intervals(\n",
    "    chronos_model_insample_preds_3.reset_index().rename(columns={'item_id': 'unique_id', 'timestamp': 'ds', 'mean': 'Chronos-small'})\n",
    ")\n",
    "\n",
    "# Save the predictions of the fourth period\n",
    "chronos_model_insample_preds_3.to_csv(f'~/Thesis/predictions/Chronos-small/insample/period04/model_preds_{data_date}_{data_size}.csv', index=False)"
   ]
  },
  {
   "cell_type": "code",
   "execution_count": null,
   "id": "8beda650-20e2-4756-8d1b-e90905cf8ec9",
   "metadata": {
    "execution": {
     "iopub.execute_input": "2024-10-30T12:53:23.711106Z",
     "iopub.status.busy": "2024-10-30T12:53:23.710853Z",
     "iopub.status.idle": "2024-10-30T12:53:35.013741Z",
     "shell.execute_reply": "2024-10-30T12:53:35.012179Z",
     "shell.execute_reply.started": "2024-10-30T12:53:23.711080Z"
    }
   },
   "outputs": [],
   "source": [
    "# Make the predictions for the fifth period\n",
    "chronos_model_insample_preds_4 = predictor_insample.predict(Y_input_df_4)\n",
    "\n",
    "# Change predictions df to correct format\n",
    "chronos_model_insample_preds_4 = rename_confidence_intervals(\n",
    "    chronos_model_insample_preds_4.reset_index().rename(columns={'item_id': 'unique_id', 'timestamp': 'ds', 'mean': 'Chronos-small'})\n",
    ")\n",
    "\n",
    "# Save the predictions of the fifth period\n",
    "chronos_model_insample_preds_4.to_csv(f'~/Thesis/predictions/Chronos-small/insample/period05/model_preds_{data_date}_{data_size}.csv', index=False)"
   ]
  },
  {
   "cell_type": "code",
   "execution_count": null,
   "id": "05ec1652-844d-4a91-9003-e807719ef31b",
   "metadata": {
    "execution": {
     "iopub.execute_input": "2024-10-30T12:53:35.015322Z",
     "iopub.status.busy": "2024-10-30T12:53:35.014943Z",
     "iopub.status.idle": "2024-10-30T12:53:48.017462Z",
     "shell.execute_reply": "2024-10-30T12:53:48.015817Z",
     "shell.execute_reply.started": "2024-10-30T12:53:35.015295Z"
    }
   },
   "outputs": [],
   "source": [
    "# Make the predictions for the sixth period\n",
    "chronos_model_insample_preds_5 = predictor_insample.predict(Y_input_df_5)\n",
    "\n",
    "# Change predictions df to correct format\n",
    "chronos_model_insample_preds_5 = rename_confidence_intervals(\n",
    "    chronos_model_insample_preds_5.reset_index().rename(columns={'item_id': 'unique_id', 'timestamp': 'ds', 'mean': 'Chronos-small'})\n",
    ")\n",
    "\n",
    "# Save the predictions of the second period\n",
    "chronos_model_insample_preds_5.to_csv(f'~/Thesis/predictions/Chronos-small/insample/period06/model_preds_{data_date}_{data_size}.csv', index=False)"
   ]
  },
  {
   "cell_type": "markdown",
   "id": "fa7d5ac1-4e9d-4bd0-86eb-d096e01f8861",
   "metadata": {
    "execution": {
     "iopub.execute_input": "2024-07-02T12:29:25.127313Z",
     "iopub.status.busy": "2024-07-02T12:29:25.126418Z",
     "iopub.status.idle": "2024-07-02T12:29:25.133009Z",
     "shell.execute_reply": "2024-07-02T12:29:25.131580Z",
     "shell.execute_reply.started": "2024-07-02T12:29:25.127243Z"
    },
    "tags": []
   },
   "source": [
    "## 4. Out-of-sample Analysis\n",
    "\n",
    "### 4.1 Train/Test splitting and plotting"
   ]
  },
  {
   "cell_type": "code",
   "execution_count": null,
   "id": "84fb5298-9aa6-4404-9fac-78c57f419d7e",
   "metadata": {
    "execution": {
     "iopub.execute_input": "2024-10-30T12:53:48.024245Z",
     "iopub.status.busy": "2024-10-30T12:53:48.023765Z",
     "iopub.status.idle": "2024-10-30T12:53:48.051112Z",
     "shell.execute_reply": "2024-10-30T12:53:48.050366Z",
     "shell.execute_reply.started": "2024-10-30T12:53:48.024193Z"
    }
   },
   "outputs": [],
   "source": [
    "# Change the data to the long format\n",
    "Y_df = out_sample_data.melt(id_vars=['date'], var_name='unique_id', value_name='y')\n",
    "Y_df = Y_df.rename(columns={'date':'ds'})\n",
    "\n",
    "# Convert date column to datetime type\n",
    "Y_df['ds'] = pd.to_datetime(Y_df['ds'])"
   ]
  },
  {
   "cell_type": "code",
   "execution_count": null,
   "id": "5573da63-cf2b-41fa-bba4-60f101a1193b",
   "metadata": {
    "execution": {
     "iopub.execute_input": "2024-10-30T12:53:48.052548Z",
     "iopub.status.busy": "2024-10-30T12:53:48.052003Z",
     "iopub.status.idle": "2024-10-30T12:53:48.061636Z",
     "shell.execute_reply": "2024-10-30T12:53:48.060563Z",
     "shell.execute_reply.started": "2024-10-30T12:53:48.052523Z"
    }
   },
   "outputs": [],
   "source": [
    "# Define the horizon (12 months of 30 days each)\n",
    "fh = 30\n",
    "horizon = 12 * fh\n",
    "\n",
    "# Identify the unique dates in the dataset\n",
    "unique_dates = Y_df['ds'].unique()\n",
    "\n",
    "# Convert to a list and then sort the dates\n",
    "unique_dates = sorted(list(unique_dates))\n",
    "\n",
    "# Determine the cutoff date (cutoff at 12 months before the last date in the dataset)\n",
    "cutoff_date = unique_dates[-(horizon + 1)]\n",
    "\n",
    "# Training data: all data up to the cutoff date\n",
    "Y_train_df = Y_df[Y_df['ds'] <= cutoff_date]"
   ]
  },
  {
   "cell_type": "code",
   "execution_count": null,
   "id": "61539efb-4e40-4e3d-8987-fdd856f753f5",
   "metadata": {
    "execution": {
     "iopub.execute_input": "2024-10-30T12:53:48.062654Z",
     "iopub.status.busy": "2024-10-30T12:53:48.062433Z",
     "iopub.status.idle": "2024-10-30T12:53:48.090128Z",
     "shell.execute_reply": "2024-10-30T12:53:48.088986Z",
     "shell.execute_reply.started": "2024-10-30T12:53:48.062632Z"
    }
   },
   "outputs": [],
   "source": [
    "# Initialize lists to store the input and test sets\n",
    "input_dfs = []\n",
    "test_dfs = []\n",
    "\n",
    "# Loop to create the 6 input and test sets\n",
    "for i in range(6):\n",
    "    # Determine the start date of the test period\n",
    "    test_start_date = unique_dates[-(horizon - i * 2 * fh)]\n",
    "    test_end_date = unique_dates[-(horizon - (i * 2 * fh) - fh)]\n",
    "    \n",
    "    # Input data: all data up to the start of the current test period\n",
    "    input_df = Y_df[Y_df['ds'] <= test_start_date]\n",
    "    input_dfs.append(input_df)\n",
    "    \n",
    "    # Test data: the 30-day period following the start of the test period\n",
    "    test_df = Y_df[(Y_df['ds'] > test_start_date) & (Y_df['ds'] <= test_end_date)]\n",
    "    test_dfs.append(test_df)"
   ]
  },
  {
   "cell_type": "markdown",
   "id": "665bba13-006a-42e9-9832-509afe5ceb4f",
   "metadata": {
    "execution": {
     "iopub.execute_input": "2024-10-22T12:49:47.709722Z",
     "iopub.status.busy": "2024-10-22T12:49:47.708952Z",
     "iopub.status.idle": "2024-10-22T12:49:47.714818Z",
     "shell.execute_reply": "2024-10-22T12:49:47.713919Z",
     "shell.execute_reply.started": "2024-10-22T12:49:47.709671Z"
    }
   },
   "source": [
    "### 4.1.1 Rename columns for chronos specific data handling"
   ]
  },
  {
   "cell_type": "code",
   "execution_count": null,
   "id": "499fd81c-0305-4b13-ac3d-7473427d3476",
   "metadata": {
    "execution": {
     "iopub.execute_input": "2024-10-30T12:53:48.091566Z",
     "iopub.status.busy": "2024-10-30T12:53:48.091215Z",
     "iopub.status.idle": "2024-10-30T12:53:48.097298Z",
     "shell.execute_reply": "2024-10-30T12:53:48.096332Z",
     "shell.execute_reply.started": "2024-10-30T12:53:48.091532Z"
    }
   },
   "outputs": [],
   "source": [
    "# For the Chronos model we need to rename some columns\n",
    "Y_train_df_chronos = Y_train_df.rename(columns={\"ds\": \"timestamp\", \"unique_id\": \"item_id\", \"y\": \"target\"})"
   ]
  },
  {
   "cell_type": "code",
   "execution_count": null,
   "id": "0cf81fd3-846f-456c-8957-fccaeb9f85ed",
   "metadata": {
    "execution": {
     "iopub.execute_input": "2024-10-30T12:53:48.098300Z",
     "iopub.status.busy": "2024-10-30T12:53:48.098088Z",
     "iopub.status.idle": "2024-10-30T12:53:48.238854Z",
     "shell.execute_reply": "2024-10-30T12:53:48.237841Z",
     "shell.execute_reply.started": "2024-10-30T12:53:48.098279Z"
    }
   },
   "outputs": [],
   "source": [
    "# Define the 6 input periods\n",
    "Y_input_df_0 = TimeSeriesDataFrame(input_dfs[0].rename(columns={\"ds\": \"timestamp\", \"unique_id\": \"item_id\", \"y\": \"target\"}))\n",
    "Y_input_df_1 = TimeSeriesDataFrame(input_dfs[1].rename(columns={\"ds\": \"timestamp\", \"unique_id\": \"item_id\", \"y\": \"target\"}))\n",
    "Y_input_df_2 = TimeSeriesDataFrame(input_dfs[2].rename(columns={\"ds\": \"timestamp\", \"unique_id\": \"item_id\", \"y\": \"target\"}))\n",
    "Y_input_df_3 = TimeSeriesDataFrame(input_dfs[3].rename(columns={\"ds\": \"timestamp\", \"unique_id\": \"item_id\", \"y\": \"target\"}))\n",
    "Y_input_df_4 = TimeSeriesDataFrame(input_dfs[4].rename(columns={\"ds\": \"timestamp\", \"unique_id\": \"item_id\", \"y\": \"target\"}))\n",
    "Y_input_df_5 = TimeSeriesDataFrame(input_dfs[5].rename(columns={\"ds\": \"timestamp\", \"unique_id\": \"item_id\", \"y\": \"target\"}))\n",
    "\n",
    "# Define the 6 test periods\n",
    "Y_test_df_0 = TimeSeriesDataFrame(test_dfs[0].rename(columns={\"ds\": \"timestamp\", \"unique_id\": \"item_id\", \"y\": \"target\"}))\n",
    "Y_test_df_1 = TimeSeriesDataFrame(test_dfs[1].rename(columns={\"ds\": \"timestamp\", \"unique_id\": \"item_id\", \"y\": \"target\"}))\n",
    "Y_test_df_2 = TimeSeriesDataFrame(test_dfs[2].rename(columns={\"ds\": \"timestamp\", \"unique_id\": \"item_id\", \"y\": \"target\"}))\n",
    "Y_test_df_3 = TimeSeriesDataFrame(test_dfs[3].rename(columns={\"ds\": \"timestamp\", \"unique_id\": \"item_id\", \"y\": \"target\"}))\n",
    "Y_test_df_4 = TimeSeriesDataFrame(test_dfs[4].rename(columns={\"ds\": \"timestamp\", \"unique_id\": \"item_id\", \"y\": \"target\"}))\n",
    "Y_test_df_5 = TimeSeriesDataFrame(test_dfs[5].rename(columns={\"ds\": \"timestamp\", \"unique_id\": \"item_id\", \"y\": \"target\"}))"
   ]
  },
  {
   "cell_type": "markdown",
   "id": "d2e1ef80-95a3-494d-9e8a-09d4c1585afa",
   "metadata": {},
   "source": [
    "### 4.2 Training and predicting"
   ]
  },
  {
   "cell_type": "code",
   "execution_count": null,
   "id": "f55ed07d-37a7-458c-8e18-e0728ef27f6d",
   "metadata": {
    "execution": {
     "iopub.execute_input": "2024-10-30T12:53:48.240014Z",
     "iopub.status.busy": "2024-10-30T12:53:48.239690Z",
     "iopub.status.idle": "2024-10-30T12:53:55.540215Z",
     "shell.execute_reply": "2024-10-30T12:53:55.539247Z",
     "shell.execute_reply.started": "2024-10-30T12:53:48.239989Z"
    },
    "tags": []
   },
   "outputs": [],
   "source": [
    "# Make the predictions for the first period\n",
    "chronos_model_outsample_preds_0 = predictor_insample.predict(Y_input_df_0)\n",
    "\n",
    "# Change predictions df to correct format\n",
    "chronos_model_outsample_preds_0 = rename_confidence_intervals(\n",
    "    chronos_model_outsample_preds_0.reset_index().rename(columns={'item_id': 'unique_id', 'timestamp': 'ds', 'mean': 'Chronos-small'})\n",
    ")\n",
    "\n",
    "# Save the predictions of the second period\n",
    "chronos_model_outsample_preds_0.to_csv(f'~/Thesis/predictions/Chronos-small/outsample/period01/model_preds_{data_date}_{data_size}.csv', index=False)"
   ]
  },
  {
   "cell_type": "code",
   "execution_count": null,
   "id": "00746c97-e185-49d9-bbac-6b5b92d09a60",
   "metadata": {
    "execution": {
     "iopub.execute_input": "2024-10-30T12:53:55.541567Z",
     "iopub.status.busy": "2024-10-30T12:53:55.541162Z",
     "iopub.status.idle": "2024-10-30T12:54:03.538118Z",
     "shell.execute_reply": "2024-10-30T12:54:03.536768Z",
     "shell.execute_reply.started": "2024-10-30T12:53:55.541543Z"
    }
   },
   "outputs": [],
   "source": [
    "# Make the predictions for the first period\n",
    "chronos_model_outsample_preds_1 = predictor_insample.predict(Y_input_df_1)\n",
    "\n",
    "# Change predictions df to correct format\n",
    "chronos_model_outsample_preds_1 = rename_confidence_intervals(\n",
    "    chronos_model_outsample_preds_1.reset_index().rename(columns={'item_id': 'unique_id', 'timestamp': 'ds', 'mean': 'Chronos-small'})\n",
    ")\n",
    "\n",
    "# Save the predictions of the second period\n",
    "chronos_model_outsample_preds_1.to_csv(f'~/Thesis/predictions/Chronos-small/outsample/period02/model_preds_{data_date}_{data_size}.csv', index=False)"
   ]
  },
  {
   "cell_type": "code",
   "execution_count": null,
   "id": "154afa4a-c0b9-4cf5-908a-af6ae0cbfe6a",
   "metadata": {
    "execution": {
     "iopub.execute_input": "2024-10-30T12:54:03.540130Z",
     "iopub.status.busy": "2024-10-30T12:54:03.539262Z",
     "iopub.status.idle": "2024-10-30T12:54:17.683492Z",
     "shell.execute_reply": "2024-10-30T12:54:17.682250Z",
     "shell.execute_reply.started": "2024-10-30T12:54:03.540049Z"
    }
   },
   "outputs": [],
   "source": [
    "# Make the predictions for the first period\n",
    "chronos_model_outsample_preds_2 = predictor_insample.predict(Y_input_df_2)\n",
    "\n",
    "# Change predictions df to correct format\n",
    "chronos_model_outsample_preds_2 = rename_confidence_intervals(\n",
    "    chronos_model_outsample_preds_2.reset_index().rename(columns={'item_id': 'unique_id', 'timestamp': 'ds', 'mean': 'Chronos-small'})\n",
    ")\n",
    "\n",
    "# Save the predictions of the second period\n",
    "chronos_model_outsample_preds_2.to_csv(f'~/Thesis/predictions/Chronos-small/outsample/period03/model_preds_{data_date}_{data_size}.csv', index=False)"
   ]
  },
  {
   "cell_type": "code",
   "execution_count": null,
   "id": "89606210-2d3d-4f26-9853-5a67b74172f5",
   "metadata": {
    "execution": {
     "iopub.execute_input": "2024-10-30T12:54:17.685222Z",
     "iopub.status.busy": "2024-10-30T12:54:17.684831Z",
     "iopub.status.idle": "2024-10-30T12:54:29.122795Z",
     "shell.execute_reply": "2024-10-30T12:54:29.121474Z",
     "shell.execute_reply.started": "2024-10-30T12:54:17.685197Z"
    }
   },
   "outputs": [],
   "source": [
    "# Make the predictions for the first period\n",
    "chronos_model_outsample_preds_3 = predictor_insample.predict(Y_input_df_3)\n",
    "\n",
    "# Change predictions df to correct format\n",
    "chronos_model_outsample_preds_3 = rename_confidence_intervals(\n",
    "    chronos_model_outsample_preds_3.reset_index().rename(columns={'item_id': 'unique_id', 'timestamp': 'ds', 'mean': 'Chronos-small'})\n",
    ")\n",
    "\n",
    "# Save the predictions of the second period\n",
    "chronos_model_outsample_preds_3.to_csv(f'~/Thesis/predictions/Chronos-small/outsample/period04/model_preds_{data_date}_{data_size}.csv', index=False)"
   ]
  },
  {
   "cell_type": "code",
   "execution_count": null,
   "id": "ce4eaaee-307c-42f9-ba6b-edc2bbb74485",
   "metadata": {
    "execution": {
     "iopub.execute_input": "2024-10-30T12:54:29.124778Z",
     "iopub.status.busy": "2024-10-30T12:54:29.124283Z",
     "iopub.status.idle": "2024-10-30T12:54:35.216476Z",
     "shell.execute_reply": "2024-10-30T12:54:35.214514Z",
     "shell.execute_reply.started": "2024-10-30T12:54:29.124747Z"
    }
   },
   "outputs": [],
   "source": [
    "# Make the predictions for the first period\n",
    "chronos_model_outsample_preds_4 = predictor_insample.predict(Y_input_df_4)\n",
    "\n",
    "# Change predictions df to correct format\n",
    "chronos_model_outsample_preds_4 = rename_confidence_intervals(\n",
    "    chronos_model_outsample_preds_4.reset_index().rename(columns={'item_id': 'unique_id', 'timestamp': 'ds', 'mean': 'Chronos-small'})\n",
    ")\n",
    "\n",
    "# Save the predictions of the second period\n",
    "chronos_model_outsample_preds_4.to_csv(f'~/Thesis/predictions/Chronos-small/outsample/period05/model_preds_{data_date}_{data_size}.csv', index=False)"
   ]
  },
  {
   "cell_type": "code",
   "execution_count": null,
   "id": "b2908a50-f4ad-4034-80c6-ff7b9bf3328a",
   "metadata": {
    "execution": {
     "iopub.execute_input": "2024-10-30T12:54:35.218069Z",
     "iopub.status.busy": "2024-10-30T12:54:35.217818Z",
     "iopub.status.idle": "2024-10-30T12:54:40.622182Z",
     "shell.execute_reply": "2024-10-30T12:54:40.621082Z",
     "shell.execute_reply.started": "2024-10-30T12:54:35.218044Z"
    }
   },
   "outputs": [],
   "source": [
    "# Make the predictions for the first period\n",
    "chronos_model_outsample_preds_5 = predictor_insample.predict(Y_input_df_5)\n",
    "\n",
    "# Change predictions df to correct format\n",
    "chronos_model_outsample_preds_5 = rename_confidence_intervals(\n",
    "    chronos_model_outsample_preds_5.reset_index().rename(columns={'item_id': 'unique_id', 'timestamp': 'ds', 'mean': 'Chronos-small'})\n",
    ")\n",
    "\n",
    "# Save the predictions of the second period\n",
    "chronos_model_outsample_preds_5.to_csv(f'~/Thesis/predictions/Chronos-small/outsample/period06/model_preds_{data_date}_{data_size}.csv', index=False)"
   ]
  },
  {
   "cell_type": "markdown",
   "id": "883cb14a-6e14-4eaf-902f-dcc2a04b8fa6",
   "metadata": {},
   "source": [
    "### Model statistics"
   ]
  },
  {
   "cell_type": "code",
   "execution_count": null,
   "id": "698d162a-8bda-45c7-ac0d-a21c26a3a58e",
   "metadata": {
    "execution": {
     "iopub.execute_input": "2024-10-30T12:58:41.651081Z",
     "iopub.status.busy": "2024-10-30T12:58:41.650529Z",
     "iopub.status.idle": "2024-10-30T12:58:41.659994Z",
     "shell.execute_reply": "2024-10-30T12:58:41.657925Z",
     "shell.execute_reply.started": "2024-10-30T12:58:41.651048Z"
    },
    "tags": []
   },
   "outputs": [],
   "source": [
    "train_time = timer.elapsed_time(\"start_train\", \"end_train\")\n",
    "inference_time = timer.elapsed_time(\"start_inference\", \"end_inference\")\n",
    "\n",
    "model_name = \"Chronos-small\"\n",
    "num_timeseries = 277\n",
    "\n",
    "file_path = \"model_statistics.txt\"\n",
    "\n",
    "ts_utils.write_statistics(model_name, num_timeseries, train_time, inference_time, file_path)"
   ]
  },
  {
   "cell_type": "code",
   "execution_count": null,
   "id": "0cd64bfa-7a31-4ccd-a6a8-52477f104134",
   "metadata": {},
   "outputs": [],
   "source": []
  },
  {
   "cell_type": "code",
   "execution_count": null,
   "id": "2b3e97e7-8601-4f5d-9f16-868a70cfe41f",
   "metadata": {},
   "outputs": [],
   "source": []
  }
 ],
 "metadata": {
  "kernelspec": {
   "display_name": "DAP Environment",
   "language": "python",
   "name": "dap-env"
  },
  "language_info": {
   "codemirror_mode": {
    "name": "ipython",
    "version": 3
   },
   "file_extension": ".py",
   "mimetype": "text/x-python",
   "name": "python",
   "nbconvert_exporter": "python",
   "pygments_lexer": "ipython3",
   "version": "3.10.14"
  }
 },
 "nbformat": 4,
 "nbformat_minor": 5
}
