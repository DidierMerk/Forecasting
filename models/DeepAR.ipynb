{
 "cells": [
  {
   "cell_type": "markdown",
   "id": "34298caf-b555-49b2-9674-1ce175f5e9b3",
   "metadata": {},
   "source": [
    "# Timeseries Forecasting (DeepAR model)\n",
    "\n",
    "## 1. Installing dependencies"
   ]
  },
  {
   "cell_type": "code",
   "execution_count": null,
   "id": "c02fc9db-8a73-4868-b1a8-8793bf2bd84b",
   "metadata": {
    "execution": {
     "iopub.execute_input": "2024-10-30T14:36:20.893329Z",
     "iopub.status.busy": "2024-10-30T14:36:20.892879Z",
     "iopub.status.idle": "2024-10-30T14:36:20.897577Z",
     "shell.execute_reply": "2024-10-30T14:36:20.896440Z",
     "shell.execute_reply.started": "2024-10-30T14:36:20.893301Z"
    },
    "tags": []
   },
   "outputs": [],
   "source": [
    "# pip install neuralforecast "
   ]
  },
  {
   "cell_type": "code",
   "execution_count": null,
   "id": "9939773b-4b5f-48b1-b327-b56afdf80589",
   "metadata": {
    "execution": {
     "iopub.execute_input": "2024-10-30T14:36:20.899324Z",
     "iopub.status.busy": "2024-10-30T14:36:20.898858Z",
     "iopub.status.idle": "2024-10-30T14:36:20.903908Z",
     "shell.execute_reply": "2024-10-30T14:36:20.902989Z",
     "shell.execute_reply.started": "2024-10-30T14:36:20.899285Z"
    }
   },
   "outputs": [],
   "source": [
    "# pip install sktime"
   ]
  },
  {
   "cell_type": "code",
   "execution_count": null,
   "id": "a70cfbe9-1468-4dbb-9b2a-1b3ee1b87f68",
   "metadata": {
    "execution": {
     "iopub.execute_input": "2024-10-30T14:36:20.906059Z",
     "iopub.status.busy": "2024-10-30T14:36:20.905756Z",
     "iopub.status.idle": "2024-10-30T14:36:20.911225Z",
     "shell.execute_reply": "2024-10-30T14:36:20.910336Z",
     "shell.execute_reply.started": "2024-10-30T14:36:20.906026Z"
    }
   },
   "outputs": [],
   "source": [
    "# pip install datasetsforecast"
   ]
  },
  {
   "cell_type": "code",
   "execution_count": null,
   "id": "7a1ef60b-97e2-40e2-9d6c-f4c8a676dd23",
   "metadata": {
    "execution": {
     "iopub.execute_input": "2024-10-30T14:36:20.912432Z",
     "iopub.status.busy": "2024-10-30T14:36:20.912088Z",
     "iopub.status.idle": "2024-10-30T14:36:28.572521Z",
     "shell.execute_reply": "2024-10-30T14:36:28.570933Z",
     "shell.execute_reply.started": "2024-10-30T14:36:20.912385Z"
    },
    "tags": []
   },
   "outputs": [],
   "source": [
    "# Basics\n",
    "import pandas as pd\n",
    "import numpy as np\n",
    "\n",
    "# Some functions for plotting and stuff\n",
    "import utils as ts_utils\n",
    "\n",
    "# Neural models\n",
    "from neuralforecast import NeuralForecast\n",
    "from neuralforecast.models import DeepAR\n",
    "from neuralforecast.losses.pytorch import DistributionLoss"
   ]
  },
  {
   "cell_type": "markdown",
   "id": "ad6f8e6e-32d8-4d05-a08e-ea0527147074",
   "metadata": {},
   "source": [
    "## 2. Data Preparation"
   ]
  },
  {
   "cell_type": "code",
   "execution_count": null,
   "id": "add6acc7-0fa8-43c0-8a32-dad8fccd91ae",
   "metadata": {
    "execution": {
     "iopub.execute_input": "2024-10-30T14:36:28.573885Z",
     "iopub.status.busy": "2024-10-30T14:36:28.573625Z",
     "iopub.status.idle": "2024-10-30T14:36:28.691740Z",
     "shell.execute_reply": "2024-10-30T14:36:28.691138Z",
     "shell.execute_reply.started": "2024-10-30T14:36:28.573857Z"
    },
    "tags": []
   },
   "outputs": [],
   "source": [
    "# Size of the data to read\n",
    "data_size = 'norm'\n",
    "\n",
    "# Date of the data to read\n",
    "data_date = '2110' # '1806' = 18th of June\n",
    "\n",
    "# Read the data (takes around 2 minutes)\n",
    "dataset = pd.read_csv(f\"~/Thesis/data/eod_balances_{data_date}_{data_size}.csv\")\n",
    "\n",
    "dataset"
   ]
  },
  {
   "cell_type": "code",
   "execution_count": null,
   "id": "3ce1f14a-5300-4e1a-8072-d1607bc99ff3",
   "metadata": {
    "execution": {
     "iopub.execute_input": "2024-10-30T14:36:28.694267Z",
     "iopub.status.busy": "2024-10-30T14:36:28.693930Z",
     "iopub.status.idle": "2024-10-30T14:36:28.697905Z",
     "shell.execute_reply": "2024-10-30T14:36:28.696944Z",
     "shell.execute_reply.started": "2024-10-30T14:36:28.694244Z"
    }
   },
   "outputs": [],
   "source": [
    "# Create the timer\n",
    "timer = ts_utils.Timer()"
   ]
  },
  {
   "cell_type": "markdown",
   "id": "482501ea-e582-4e68-9496-2bd3dd97b62b",
   "metadata": {},
   "source": [
    "### 2.1 In-sample and Out-sample split"
   ]
  },
  {
   "cell_type": "code",
   "execution_count": null,
   "id": "f7f6d59e-6b84-4ef9-888c-d21885f5d4f3",
   "metadata": {
    "execution": {
     "iopub.execute_input": "2024-10-30T14:36:28.699255Z",
     "iopub.status.busy": "2024-10-30T14:36:28.698864Z",
     "iopub.status.idle": "2024-10-30T14:36:28.706947Z",
     "shell.execute_reply": "2024-10-30T14:36:28.706052Z",
     "shell.execute_reply.started": "2024-10-30T14:36:28.699220Z"
    },
    "tags": []
   },
   "outputs": [],
   "source": [
    "# Calculate total amount of timeseries\n",
    "num_timeseries = len(dataset.columns) - 1\n",
    "\n",
    "# Specify train test split percentage\n",
    "train_test_split = 0.8\n",
    "\n",
    "# Split into train and out of sample test data\n",
    "num_out_of_sample = int(train_test_split * num_timeseries)\n",
    "\n",
    "# Create in-sample dataframe\n",
    "in_sample_data = dataset.iloc[:, : num_out_of_sample + 1] # Training and testing\n",
    "\n",
    "# Create out-sample dataframe\n",
    "n = num_timeseries-num_out_of_sample\n",
    "columns_to_keep = dataset.columns[[0]].tolist() + dataset.columns[-n:].tolist()\n",
    "out_sample_data = dataset[columns_to_keep]"
   ]
  },
  {
   "cell_type": "markdown",
   "id": "2b5d652b-0658-48bb-b18f-0e8063c5c614",
   "metadata": {
    "execution": {
     "iopub.execute_input": "2024-07-02T11:29:41.908418Z",
     "iopub.status.busy": "2024-07-02T11:29:41.907853Z",
     "iopub.status.idle": "2024-07-02T11:29:41.912399Z",
     "shell.execute_reply": "2024-07-02T11:29:41.911460Z",
     "shell.execute_reply.started": "2024-07-02T11:29:41.908378Z"
    },
    "tags": []
   },
   "source": [
    "## 3. In-sample Analysis\n",
    "\n",
    "### 3.1 Train/Test splitting and plotting"
   ]
  },
  {
   "cell_type": "code",
   "execution_count": null,
   "id": "483058b6-d8d0-4f6c-9d59-d62b8a312ad1",
   "metadata": {
    "execution": {
     "iopub.execute_input": "2024-10-30T14:36:28.708183Z",
     "iopub.status.busy": "2024-10-30T14:36:28.707950Z",
     "iopub.status.idle": "2024-10-30T14:36:28.777978Z",
     "shell.execute_reply": "2024-10-30T14:36:28.776717Z",
     "shell.execute_reply.started": "2024-10-30T14:36:28.708160Z"
    }
   },
   "outputs": [],
   "source": [
    "# Change the data to the long format\n",
    "Y_df = in_sample_data.melt(id_vars=['date'], var_name='unique_id', value_name='y')\n",
    "Y_df = Y_df.rename(columns={'date':'ds'})\n",
    "\n",
    "# Convert date column to datetime type\n",
    "Y_df['ds'] = pd.to_datetime(Y_df['ds'])"
   ]
  },
  {
   "cell_type": "code",
   "execution_count": null,
   "id": "36675659-fd5b-4389-9a0b-c98b57e85190",
   "metadata": {
    "execution": {
     "iopub.execute_input": "2024-10-30T14:36:28.780547Z",
     "iopub.status.busy": "2024-10-30T14:36:28.779339Z",
     "iopub.status.idle": "2024-10-30T14:36:28.799661Z",
     "shell.execute_reply": "2024-10-30T14:36:28.798923Z",
     "shell.execute_reply.started": "2024-10-30T14:36:28.780477Z"
    }
   },
   "outputs": [],
   "source": [
    "# Define the horizon (12 months of 30 days each)\n",
    "fh = 30\n",
    "horizon = 12 * fh\n",
    "\n",
    "# Identify the unique dates in the dataset\n",
    "unique_dates = Y_df['ds'].unique()\n",
    "\n",
    "# Convert to a list and then sort the dates\n",
    "unique_dates = sorted(list(unique_dates))\n",
    "\n",
    "# Determine the cutoff date (cutoff at 12 months before the last date in the dataset)\n",
    "cutoff_date = unique_dates[-(horizon + 1)]\n",
    "\n",
    "# Training data: all data up to the cutoff date\n",
    "Y_train_df = Y_df[Y_df['ds'] <= cutoff_date]"
   ]
  },
  {
   "cell_type": "code",
   "execution_count": null,
   "id": "4d8c30b9-2ae4-4739-8f5f-45838e7bccb7",
   "metadata": {
    "execution": {
     "iopub.execute_input": "2024-10-30T14:36:28.800650Z",
     "iopub.status.busy": "2024-10-30T14:36:28.800426Z",
     "iopub.status.idle": "2024-10-30T14:36:28.897972Z",
     "shell.execute_reply": "2024-10-30T14:36:28.896635Z",
     "shell.execute_reply.started": "2024-10-30T14:36:28.800628Z"
    }
   },
   "outputs": [],
   "source": [
    "# Initialize lists to store the input and test sets\n",
    "input_dfs = []\n",
    "test_dfs = []\n",
    "\n",
    "# Loop to create the 6 input and test sets\n",
    "for i in range(6):\n",
    "    # Determine the start date of the test period\n",
    "    test_start_date = unique_dates[-(horizon - i * 2 * fh)]\n",
    "    test_end_date = unique_dates[-(horizon - (i * 2 * fh) - fh)]\n",
    "    \n",
    "    # Input data: all data up to the start of the current test period\n",
    "    input_df = Y_df[Y_df['ds'] <= test_start_date]\n",
    "    input_dfs.append(input_df)\n",
    "    \n",
    "    # Test data: the 30-day period following the start of the test period\n",
    "    test_df = Y_df[(Y_df['ds'] > test_start_date) & (Y_df['ds'] <= test_end_date)]\n",
    "    test_dfs.append(test_df)\n",
    "\n",
    "# Define the 6 input periods\n",
    "Y_input_df_0 = input_dfs[0]\n",
    "Y_input_df_1 = input_dfs[1]\n",
    "Y_input_df_2 = input_dfs[2]\n",
    "Y_input_df_3 = input_dfs[3]\n",
    "Y_input_df_4 = input_dfs[4]\n",
    "Y_input_df_5 = input_dfs[5]\n",
    "\n",
    "# Define the 6 test periods\n",
    "Y_test_df_0 = test_dfs[0]\n",
    "Y_test_df_1 = test_dfs[1]\n",
    "Y_test_df_2 = test_dfs[2]\n",
    "Y_test_df_3 = test_dfs[3]\n",
    "Y_test_df_4 = test_dfs[4]\n",
    "Y_test_df_5 = test_dfs[5]"
   ]
  },
  {
   "cell_type": "code",
   "execution_count": null,
   "id": "3f875f8c-b3f6-4403-97d0-8069be7f0854",
   "metadata": {
    "execution": {
     "iopub.execute_input": "2024-10-30T14:36:28.899034Z",
     "iopub.status.busy": "2024-10-30T14:36:28.898790Z",
     "iopub.status.idle": "2024-10-30T14:36:29.491788Z",
     "shell.execute_reply": "2024-10-30T14:36:29.490839Z",
     "shell.execute_reply.started": "2024-10-30T14:36:28.899010Z"
    }
   },
   "outputs": [],
   "source": [
    "# Timeserie to plot\n",
    "unique_id = '6'\n",
    "\n",
    "# Plot the train and test dataframes\n",
    "ts_utils.plot_train_test_split(Y_input_df_0, Y_test_df_0, unique_id)"
   ]
  },
  {
   "cell_type": "markdown",
   "id": "06dd1578-b6f0-4dd7-8476-434b24b2256c",
   "metadata": {
    "execution": {
     "iopub.execute_input": "2024-07-02T11:31:27.905068Z",
     "iopub.status.busy": "2024-07-02T11:31:27.903883Z",
     "iopub.status.idle": "2024-07-02T11:31:27.919741Z",
     "shell.execute_reply": "2024-07-02T11:31:27.916428Z",
     "shell.execute_reply.started": "2024-07-02T11:31:27.905004Z"
    },
    "tags": []
   },
   "source": [
    "### 3.2 Training and predicting"
   ]
  },
  {
   "cell_type": "code",
   "execution_count": null,
   "id": "8bbb6340-a65c-4e88-b765-08eee1e14fcc",
   "metadata": {
    "execution": {
     "iopub.execute_input": "2024-10-30T14:36:29.492884Z",
     "iopub.status.busy": "2024-10-30T14:36:29.492588Z",
     "iopub.status.idle": "2024-10-30T14:36:29.497430Z",
     "shell.execute_reply": "2024-10-30T14:36:29.496735Z",
     "shell.execute_reply.started": "2024-10-30T14:36:29.492861Z"
    },
    "tags": []
   },
   "outputs": [],
   "source": [
    "# Decide max_steps:\n",
    "if data_size == 'tiny':\n",
    "    max_steps = 500   #checked \n",
    "if data_size == 'full':\n",
    "    max_steps = 3500 # 3500 is checked == 500 epochs\n",
    "if data_size == 'norm':\n",
    "    max_steps = 3500\n",
    "\n",
    "print(f\"The maximum steps we take during training will be {max_steps}.\")"
   ]
  },
  {
   "cell_type": "markdown",
   "id": "8df50145-bba9-42d4-92e8-bc7db4df31f2",
   "metadata": {},
   "source": [
    "#### 3.2.1 Train the model"
   ]
  },
  {
   "cell_type": "code",
   "execution_count": null,
   "id": "3a6a320e-7a28-4884-8f05-c0a3a36c6105",
   "metadata": {
    "execution": {
     "iopub.execute_input": "2024-10-30T14:36:29.499926Z",
     "iopub.status.busy": "2024-10-30T14:36:29.499724Z",
     "iopub.status.idle": "2024-10-30T14:40:33.244342Z",
     "shell.execute_reply": "2024-10-30T14:40:33.243322Z",
     "shell.execute_reply.started": "2024-10-30T14:36:29.499904Z"
    }
   },
   "outputs": [],
   "source": [
    "# Set forecasting horizon\n",
    "fh = 30\n",
    "\n",
    "# Set our confidence levels\n",
    "levels = [60, 70, 80, 90]\n",
    "\n",
    "timer.record_timestamp(\"start_train\")\n",
    "\n",
    "# Initialize the model\n",
    "deepar_model_insample = NeuralForecast(models=[DeepAR(h=fh,\n",
    "                                              input_size= 15 * fh,\n",
    "                                              loss=DistributionLoss(distribution='Normal', level=levels, return_params=False),\n",
    "                                              scaler_type='standard',\n",
    "                                              max_steps=max_steps,\n",
    "                                              val_check_steps=max_steps / 10)\n",
    "                                    ], freq='D'\n",
    "                            )\n",
    "\n",
    "# Fit the model\n",
    "deepar_model_insample.fit(df=Y_train_df)\n",
    "\n",
    "timer.record_timestamp(\"end_train\")"
   ]
  },
  {
   "cell_type": "markdown",
   "id": "41beb719-fd5d-4d3d-8adf-22181d15d554",
   "metadata": {},
   "source": [
    "#### 3.2.1 Retrieve predictions"
   ]
  },
  {
   "cell_type": "code",
   "execution_count": null,
   "id": "d748ad5d-95aa-4471-8c4c-b876f8b9f6dc",
   "metadata": {
    "execution": {
     "iopub.execute_input": "2024-10-30T14:40:33.246138Z",
     "iopub.status.busy": "2024-10-30T14:40:33.245684Z",
     "iopub.status.idle": "2024-10-30T14:40:34.651143Z",
     "shell.execute_reply": "2024-10-30T14:40:34.649915Z",
     "shell.execute_reply.started": "2024-10-30T14:40:33.246097Z"
    }
   },
   "outputs": [],
   "source": [
    "timer.record_timestamp(\"start_inference\")\n",
    "\n",
    "# Make predictions on first period\n",
    "deepar_model_insample_preds_0 = deepar_model_insample.predict(df=Y_input_df_0)\n",
    "\n",
    "timer.record_timestamp(\"end_inference\")\n",
    "\n",
    "# Save predictions of first period\n",
    "deepar_model_insample_preds_0.to_csv(f'~/Thesis/predictions/DeepAR/insample/period01/model_preds_{data_date}_{data_size}.csv', index=True)"
   ]
  },
  {
   "cell_type": "code",
   "execution_count": null,
   "id": "9044ad29-aa5b-434d-bdc4-e4de1e4945c8",
   "metadata": {
    "execution": {
     "iopub.execute_input": "2024-10-30T14:40:34.653181Z",
     "iopub.status.busy": "2024-10-30T14:40:34.652609Z",
     "iopub.status.idle": "2024-10-30T14:40:35.901741Z",
     "shell.execute_reply": "2024-10-30T14:40:35.900455Z",
     "shell.execute_reply.started": "2024-10-30T14:40:34.653129Z"
    }
   },
   "outputs": [],
   "source": [
    "# Make predictions on second period\n",
    "deepar_model_insample_preds_1 = deepar_model_insample.predict(df=Y_input_df_1)\n",
    "\n",
    "# Save predictions of second period\n",
    "deepar_model_insample_preds_1.to_csv(f'~/Thesis/predictions/DeepAR/insample/period02/model_preds_{data_date}_{data_size}.csv', index=True)"
   ]
  },
  {
   "cell_type": "code",
   "execution_count": null,
   "id": "79445649-7aff-4ca2-925f-9c0b55725b6f",
   "metadata": {
    "execution": {
     "iopub.execute_input": "2024-10-30T14:40:35.903475Z",
     "iopub.status.busy": "2024-10-30T14:40:35.902972Z",
     "iopub.status.idle": "2024-10-30T14:40:37.105763Z",
     "shell.execute_reply": "2024-10-30T14:40:37.105050Z",
     "shell.execute_reply.started": "2024-10-30T14:40:35.903436Z"
    }
   },
   "outputs": [],
   "source": [
    "# Make predictions on third period\n",
    "deepar_model_insample_preds_2 = deepar_model_insample.predict(df=Y_input_df_2)\n",
    "\n",
    "# Save predictions of third period\n",
    "deepar_model_insample_preds_2.to_csv(f'~/Thesis/predictions/DeepAR/insample/period03/model_preds_{data_date}_{data_size}.csv', index=True)"
   ]
  },
  {
   "cell_type": "code",
   "execution_count": null,
   "id": "240459f7-8d32-430a-9394-c10ea3311b36",
   "metadata": {
    "execution": {
     "iopub.execute_input": "2024-10-30T14:40:37.107134Z",
     "iopub.status.busy": "2024-10-30T14:40:37.106509Z",
     "iopub.status.idle": "2024-10-30T14:40:38.303218Z",
     "shell.execute_reply": "2024-10-30T14:40:38.302385Z",
     "shell.execute_reply.started": "2024-10-30T14:40:37.107100Z"
    }
   },
   "outputs": [],
   "source": [
    "# Make predictions on fourth period\n",
    "deepar_model_insample_preds_3 = deepar_model_insample.predict(df=Y_input_df_3)\n",
    "\n",
    "# Save predictions of fourth period\n",
    "deepar_model_insample_preds_3.to_csv(f'~/Thesis/predictions/DeepAR/insample/period04/model_preds_{data_date}_{data_size}.csv', index=True)"
   ]
  },
  {
   "cell_type": "code",
   "execution_count": null,
   "id": "95460ec0-8b5a-4241-a044-6dd07e8607a9",
   "metadata": {
    "execution": {
     "iopub.execute_input": "2024-10-30T14:40:38.304365Z",
     "iopub.status.busy": "2024-10-30T14:40:38.304012Z",
     "iopub.status.idle": "2024-10-30T14:40:39.532640Z",
     "shell.execute_reply": "2024-10-30T14:40:39.531567Z",
     "shell.execute_reply.started": "2024-10-30T14:40:38.304342Z"
    }
   },
   "outputs": [],
   "source": [
    "# Make predictions on fifth period\n",
    "deepar_model_insample_preds_4 = deepar_model_insample.predict(df=Y_input_df_4)\n",
    "\n",
    "# Save predictions of fifth period\n",
    "deepar_model_insample_preds_4.to_csv(f'~/Thesis/predictions/DeepAR/insample/period05/model_preds_{data_date}_{data_size}.csv', index=True)"
   ]
  },
  {
   "cell_type": "code",
   "execution_count": null,
   "id": "f8405f38-fc0d-4cc9-a008-295b3c085207",
   "metadata": {
    "execution": {
     "iopub.execute_input": "2024-10-30T14:40:39.535259Z",
     "iopub.status.busy": "2024-10-30T14:40:39.534450Z",
     "iopub.status.idle": "2024-10-30T14:40:40.721643Z",
     "shell.execute_reply": "2024-10-30T14:40:40.720263Z",
     "shell.execute_reply.started": "2024-10-30T14:40:39.535166Z"
    }
   },
   "outputs": [],
   "source": [
    "# Make predictions on sixth period\n",
    "deepar_model_insample_preds_5 = deepar_model_insample.predict(df=Y_input_df_5)\n",
    "\n",
    "# Save predictions of sixth period\n",
    "deepar_model_insample_preds_5.to_csv(f'~/Thesis/predictions/DeepAR/insample/period06/model_preds_{data_date}_{data_size}.csv', index=True)"
   ]
  },
  {
   "cell_type": "markdown",
   "id": "1e800c4d-69aa-4036-abb4-03d7a8facd94",
   "metadata": {},
   "source": [
    "## 4. Out-of-sample Analysis\n",
    "\n",
    "### 4.1 Data Handling"
   ]
  },
  {
   "cell_type": "code",
   "execution_count": null,
   "id": "0c51e2bf-0828-49d0-8a1d-c47397cda266",
   "metadata": {
    "execution": {
     "iopub.execute_input": "2024-10-30T14:40:40.725531Z",
     "iopub.status.busy": "2024-10-30T14:40:40.725155Z",
     "iopub.status.idle": "2024-10-30T14:40:40.751540Z",
     "shell.execute_reply": "2024-10-30T14:40:40.750445Z",
     "shell.execute_reply.started": "2024-10-30T14:40:40.725504Z"
    }
   },
   "outputs": [],
   "source": [
    "# Change the data to the long format\n",
    "Y_df = out_sample_data.melt(id_vars=['date'], var_name='unique_id', value_name='y')\n",
    "Y_df = Y_df.rename(columns={'date':'ds'})\n",
    "\n",
    "# Convert date column to datetime type\n",
    "Y_df['ds'] = pd.to_datetime(Y_df['ds'])"
   ]
  },
  {
   "cell_type": "code",
   "execution_count": null,
   "id": "1622abfe-45f8-45ad-b29c-8afeea8c54d7",
   "metadata": {
    "execution": {
     "iopub.execute_input": "2024-10-30T14:40:40.752926Z",
     "iopub.status.busy": "2024-10-30T14:40:40.752696Z",
     "iopub.status.idle": "2024-10-30T14:40:40.762597Z",
     "shell.execute_reply": "2024-10-30T14:40:40.761014Z",
     "shell.execute_reply.started": "2024-10-30T14:40:40.752902Z"
    }
   },
   "outputs": [],
   "source": [
    "# Define the horizon (12 months of 30 days each)\n",
    "fh = 30\n",
    "horizon = 12 * fh\n",
    "\n",
    "# Identify the unique dates in the dataset\n",
    "unique_dates = Y_df['ds'].unique()\n",
    "\n",
    "# Convert to a list and then sort the dates\n",
    "unique_dates = sorted(list(unique_dates))\n",
    "\n",
    "# Determine the cutoff date (cutoff at 12 months before the last date in the dataset)\n",
    "cutoff_date = unique_dates[-(horizon + 1)]\n",
    "\n",
    "# Training data: all data up to the cutoff date\n",
    "Y_train_df = Y_df[Y_df['ds'] <= cutoff_date]"
   ]
  },
  {
   "cell_type": "code",
   "execution_count": null,
   "id": "f82c8d5d-890f-480a-93ec-d2953c6d99a9",
   "metadata": {
    "execution": {
     "iopub.execute_input": "2024-10-30T14:40:40.764923Z",
     "iopub.status.busy": "2024-10-30T14:40:40.764220Z",
     "iopub.status.idle": "2024-10-30T14:40:40.795359Z",
     "shell.execute_reply": "2024-10-30T14:40:40.793508Z",
     "shell.execute_reply.started": "2024-10-30T14:40:40.764870Z"
    }
   },
   "outputs": [],
   "source": [
    "# Initialize lists to store the input and test sets\n",
    "input_dfs = []\n",
    "test_dfs = []\n",
    "\n",
    "# Loop to create the 6 input and test sets\n",
    "for i in range(6):\n",
    "    # Determine the start date of the test period\n",
    "    test_start_date = unique_dates[-(horizon - i * 2 * fh)]\n",
    "    test_end_date = unique_dates[-(horizon - (i * 2 * fh) - fh)]\n",
    "    \n",
    "    # Input data: all data up to the start of the current test period\n",
    "    input_df = Y_df[Y_df['ds'] <= test_start_date]\n",
    "    input_dfs.append(input_df)\n",
    "    \n",
    "    # Test data: the 30-day period following the start of the test period\n",
    "    test_df = Y_df[(Y_df['ds'] > test_start_date) & (Y_df['ds'] <= test_end_date)]\n",
    "    test_dfs.append(test_df)\n",
    "\n",
    "# Define the 6 input periods\n",
    "Y_input_df_0 = input_dfs[0]\n",
    "Y_input_df_1 = input_dfs[1]\n",
    "Y_input_df_2 = input_dfs[2]\n",
    "Y_input_df_3 = input_dfs[3]\n",
    "Y_input_df_4 = input_dfs[4]\n",
    "Y_input_df_5 = input_dfs[5]\n",
    "\n",
    "# Define the 6 test periods\n",
    "Y_test_df_0 = test_dfs[0]\n",
    "Y_test_df_1 = test_dfs[1]\n",
    "Y_test_df_2 = test_dfs[2]\n",
    "Y_test_df_3 = test_dfs[3]\n",
    "Y_test_df_4 = test_dfs[4]\n",
    "Y_test_df_5 = test_dfs[5]"
   ]
  },
  {
   "cell_type": "code",
   "execution_count": null,
   "id": "0a7d584f-92bc-4e82-bfe4-56d3c35d6242",
   "metadata": {
    "execution": {
     "iopub.execute_input": "2024-10-30T14:40:40.798101Z",
     "iopub.status.busy": "2024-10-30T14:40:40.797345Z",
     "iopub.status.idle": "2024-10-30T14:40:41.331431Z",
     "shell.execute_reply": "2024-10-30T14:40:41.330438Z",
     "shell.execute_reply.started": "2024-10-30T14:40:40.798043Z"
    }
   },
   "outputs": [],
   "source": [
    "# Timeserie to plot\n",
    "unique_id = Y_train_df['unique_id'][0]\n",
    "\n",
    "# Plot the train and test dataframes\n",
    "ts_utils.plot_train_test_split(Y_train_df, Y_test_df_0, unique_id)"
   ]
  },
  {
   "cell_type": "markdown",
   "id": "4c40d8e7-b6d2-4e85-9c34-0ec47148edde",
   "metadata": {},
   "source": [
    "### 4.2 Retrieve predictions"
   ]
  },
  {
   "cell_type": "code",
   "execution_count": null,
   "id": "88e8e7e4-f590-4849-b385-5c94856911cc",
   "metadata": {
    "execution": {
     "iopub.execute_input": "2024-10-30T14:40:41.332526Z",
     "iopub.status.busy": "2024-10-30T14:40:41.332290Z",
     "iopub.status.idle": "2024-10-30T14:40:41.828020Z",
     "shell.execute_reply": "2024-10-30T14:40:41.826955Z",
     "shell.execute_reply.started": "2024-10-30T14:40:41.332504Z"
    }
   },
   "outputs": [],
   "source": [
    "# Make outsample predictions on first period (using already trained model)\n",
    "deepar_model_outsample_preds_0 = deepar_model_insample.predict(df=Y_input_df_0)\n",
    "\n",
    "# Save outsample predictions of first period\n",
    "deepar_model_outsample_preds_0.to_csv(f'~/Thesis/predictions/DeepAR/outsample/period01/model_preds_{data_date}_{data_size}.csv', index=True)"
   ]
  },
  {
   "cell_type": "code",
   "execution_count": null,
   "id": "20d6231d-8153-4efc-8dc7-57b0ec65c80d",
   "metadata": {
    "execution": {
     "iopub.execute_input": "2024-10-30T14:40:41.829167Z",
     "iopub.status.busy": "2024-10-30T14:40:41.828929Z",
     "iopub.status.idle": "2024-10-30T14:40:42.479089Z",
     "shell.execute_reply": "2024-10-30T14:40:42.478262Z",
     "shell.execute_reply.started": "2024-10-30T14:40:41.829144Z"
    }
   },
   "outputs": [],
   "source": [
    "# Make outsample predictions on second period (using already trained model)\n",
    "deepar_model_outsample_preds_1 = deepar_model_insample.predict(df=Y_input_df_1)\n",
    "\n",
    "# Save outsample predictions of second period\n",
    "deepar_model_outsample_preds_1.to_csv(f'~/Thesis/predictions/DeepAR/outsample/period02/model_preds_{data_date}_{data_size}.csv', index=True)"
   ]
  },
  {
   "cell_type": "code",
   "execution_count": null,
   "id": "f3fb2b00-3400-48d4-821f-9c0551c66359",
   "metadata": {
    "execution": {
     "iopub.execute_input": "2024-10-30T14:40:42.480618Z",
     "iopub.status.busy": "2024-10-30T14:40:42.480136Z",
     "iopub.status.idle": "2024-10-30T14:40:43.021143Z",
     "shell.execute_reply": "2024-10-30T14:40:43.020029Z",
     "shell.execute_reply.started": "2024-10-30T14:40:42.480572Z"
    }
   },
   "outputs": [],
   "source": [
    "# Make outsample predictions on third period (using already trained model)\n",
    "deepar_model_outsample_preds_2 = deepar_model_insample.predict(df=Y_input_df_2)\n",
    "\n",
    "# Save outsample predictions of third period\n",
    "deepar_model_outsample_preds_2.to_csv(f'~/Thesis/predictions/DeepAR/outsample/period03/model_preds_{data_date}_{data_size}.csv', index=True)"
   ]
  },
  {
   "cell_type": "code",
   "execution_count": null,
   "id": "7f9c4f57-1804-45b2-ab4b-94e447d6d907",
   "metadata": {
    "execution": {
     "iopub.execute_input": "2024-10-30T14:40:43.022337Z",
     "iopub.status.busy": "2024-10-30T14:40:43.022038Z",
     "iopub.status.idle": "2024-10-30T14:40:43.526403Z",
     "shell.execute_reply": "2024-10-30T14:40:43.525738Z",
     "shell.execute_reply.started": "2024-10-30T14:40:43.022313Z"
    }
   },
   "outputs": [],
   "source": [
    "# Make outsample predictions on fourth period (using already trained model)\n",
    "deepar_model_outsample_preds_3 = deepar_model_insample.predict(df=Y_input_df_3)\n",
    "\n",
    "# Save outsample predictions of fourth period\n",
    "deepar_model_outsample_preds_3.to_csv(f'~/Thesis/predictions/DeepAR/outsample/period04/model_preds_{data_date}_{data_size}.csv', index=True)"
   ]
  },
  {
   "cell_type": "code",
   "execution_count": null,
   "id": "8c2442d5-9dc1-4dae-b61c-79e5ea745fa5",
   "metadata": {
    "execution": {
     "iopub.execute_input": "2024-10-30T14:40:43.528269Z",
     "iopub.status.busy": "2024-10-30T14:40:43.527625Z",
     "iopub.status.idle": "2024-10-30T14:40:44.042875Z",
     "shell.execute_reply": "2024-10-30T14:40:44.041583Z",
     "shell.execute_reply.started": "2024-10-30T14:40:43.528210Z"
    }
   },
   "outputs": [],
   "source": [
    "# Make outsample predictions on fifth period (using already trained model)\n",
    "deepar_model_outsample_preds_4 = deepar_model_insample.predict(df=Y_input_df_4)\n",
    "\n",
    "# Save outsample predictions of fifth period\n",
    "deepar_model_outsample_preds_4.to_csv(f'~/Thesis/predictions/DeepAR/outsample/period05/model_preds_{data_date}_{data_size}.csv', index=True)"
   ]
  },
  {
   "cell_type": "code",
   "execution_count": null,
   "id": "71fb5a65-72a8-4e42-a3cf-579ad6d19472",
   "metadata": {
    "execution": {
     "iopub.execute_input": "2024-10-30T14:40:44.044259Z",
     "iopub.status.busy": "2024-10-30T14:40:44.043888Z",
     "iopub.status.idle": "2024-10-30T14:40:44.428205Z",
     "shell.execute_reply": "2024-10-30T14:40:44.427235Z",
     "shell.execute_reply.started": "2024-10-30T14:40:44.044226Z"
    }
   },
   "outputs": [],
   "source": [
    "# Make outsample predictions on sixth period (using already trained model)\n",
    "deepar_model_outsample_preds_5 = deepar_model_insample.predict(df=Y_input_df_5)\n",
    "\n",
    "# Save outsample predictions of fifth period\n",
    "deepar_model_outsample_preds_5.to_csv(f'~/Thesis/predictions/DeepAR/outsample/period06/model_preds_{data_date}_{data_size}.csv', index=True)"
   ]
  },
  {
   "cell_type": "markdown",
   "id": "500e89e5-3eda-46eb-8acf-6f91a1e61ce3",
   "metadata": {},
   "source": [
    "### Model Statistics"
   ]
  },
  {
   "cell_type": "code",
   "execution_count": null,
   "id": "913aca30-3d25-4410-b032-88a5968b2dea",
   "metadata": {
    "execution": {
     "iopub.execute_input": "2024-10-30T14:40:44.429371Z",
     "iopub.status.busy": "2024-10-30T14:40:44.429110Z",
     "iopub.status.idle": "2024-10-30T14:40:44.436211Z",
     "shell.execute_reply": "2024-10-30T14:40:44.434488Z",
     "shell.execute_reply.started": "2024-10-30T14:40:44.429346Z"
    }
   },
   "outputs": [],
   "source": [
    "train_time = timer.elapsed_time(\"start_train\", \"end_train\")\n",
    "inference_time = timer.elapsed_time(\"start_inference\", \"end_inference\")\n",
    "\n",
    "model_name = \"DeepAR\"\n",
    "num_timeseries = 277\n",
    "\n",
    "file_path = \"model_statistics.txt\"\n",
    "\n",
    "ts_utils.write_statistics(model_name, num_timeseries, train_time, inference_time, file_path)"
   ]
  },
  {
   "cell_type": "code",
   "execution_count": null,
   "id": "5c2dde81-710d-46bd-a6e2-e962972f66b4",
   "metadata": {},
   "outputs": [],
   "source": []
  },
  {
   "cell_type": "code",
   "execution_count": null,
   "id": "07cfbaac-6c66-491d-ba71-1e098e7443f8",
   "metadata": {},
   "outputs": [],
   "source": []
  }
 ],
 "metadata": {
  "kernelspec": {
   "display_name": "DAP Environment",
   "language": "python",
   "name": "dap-env"
  },
  "language_info": {
   "codemirror_mode": {
    "name": "ipython",
    "version": 3
   },
   "file_extension": ".py",
   "mimetype": "text/x-python",
   "name": "python",
   "nbconvert_exporter": "python",
   "pygments_lexer": "ipython3",
   "version": "3.10.14"
  }
 },
 "nbformat": 4,
 "nbformat_minor": 5
}
